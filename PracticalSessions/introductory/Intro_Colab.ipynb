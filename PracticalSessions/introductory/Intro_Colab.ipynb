{
  "nbformat": 4,
  "nbformat_minor": 0,
  "metadata": {
    "colab": {
      "name": "Intro: Colab.ipynb",
      "version": "0.3.2",
      "views": {},
      "default_view": {},
      "provenance": [
        {
          "file_id": "1rdGuByZZKHZ6DTZLUJDyljyiGlnPuAP0",
          "timestamp": 1530537903663
        }
      ],
      "collapsed_sections": [],
      "toc_visible": true
    }
  },
  "cells": [
    {
      "metadata": {
        "id": "IBAupUTp-1ao",
        "colab_type": "text"
      },
      "cell_type": "markdown",
      "source": [
        "# What is a colab?\n",
        "\n",
        "[Colaboratory](https://colab.sandbox.google.com/notebooks/welcome.ipynb) is a [Jupyter](http://jupyter.org/) notebook environment that requires no setup to use. It allows you to create and share documents that contain\n",
        "\n",
        "* Live, runnable code\n",
        "* Visualizations\n",
        "* Explanatory text\n",
        "\n",
        "It's also a great tool for prototyping and quick development. Let's give it a try. "
      ]
    },
    {
      "metadata": {
        "id": "Cg9or9RcAG0-",
        "colab_type": "text"
      },
      "cell_type": "markdown",
      "source": [
        "Run the following so-called *(Code) Cell* by moving the cursor into it, and either\n",
        "\n",
        "* Pressing the \"play\" icon on the left of the cell, or\n",
        "* Hitting **`Shift + Enter`**."
      ]
    },
    {
      "metadata": {
        "id": "qyNrs_gC-2JU",
        "colab_type": "code",
        "colab": {
          "autoexec": {
            "startup": false,
            "wait_interval": 0
          },
          "height": 35
        },
        "outputId": "d77aae85-4856-4bb9-e18d-236d0d0f589a",
        "executionInfo": {
          "elapsed": 404,
          "status": "ok",
          "timestamp": 1530539159080,
          "user": {
            "displayName": "",
            "photoUrl": "",
            "userId": ""
          },
          "user_tz": -60
        }
      },
      "cell_type": "code",
      "source": [
        "print('Hello, TMLSS!')"
      ],
      "execution_count": 0,
      "outputs": [
        {
          "output_type": "stream",
          "text": [
            "Hello, TMLSS!\n"
          ],
          "name": "stdout"
        }
      ]
    },
    {
      "metadata": {
        "id": "8RGeFACL-2Ps",
        "colab_type": "text"
      },
      "cell_type": "markdown",
      "source": [
        "You should see the `Hello, TMLSS!` printed under the code."
      ]
    },
    {
      "metadata": {
        "id": "7UwtwzObZbKt",
        "colab_type": "text"
      },
      "cell_type": "markdown",
      "source": [
        "Code is executed in a virtual machine dedicated to your account, with the results sent back to your browser. This has some positive and negative consequences:\n"
      ]
    },
    {
      "metadata": {
        "id": "-iBdZmzvbPAh",
        "colab_type": "text"
      },
      "cell_type": "markdown",
      "source": [
        "### Using a GPU\n",
        "\n",
        "You can connect to a virtual machine with a GPU. To select the hardware you want to use, follow either\n",
        "\n",
        "* **Edit > Notebook settings**, or\n",
        "* **Runtime > Change runtime type**\n",
        "\n",
        "and choose an accelerator."
      ]
    },
    {
      "metadata": {
        "id": "zxRZTbjtbPco",
        "colab_type": "text"
      },
      "cell_type": "markdown",
      "source": [
        "### Losing Connection\n",
        "\n",
        "You may lose connection to your virtual machine. The two most common causes are\n",
        "\n",
        "* Virtual machines are recycled when idle for a while, and have a maximum lifetime enforced by the system.\n",
        "*  Long-running background computations, particularly on GPUs, may be stopped.\n",
        "\n",
        "**If you lose connection**, the state of your notebook will also be lost. You will need to **rerun all cells** up to the one you are currently working on. To do so\n",
        "\n",
        "1. Select (place the cursor into) the cell you are working on. \n",
        "2. Follow **Runtime > Run before**."
      ]
    },
    {
      "metadata": {
        "id": "T8fUvA8ibPlw",
        "colab_type": "text"
      },
      "cell_type": "markdown",
      "source": [
        "We now cover a few more basic things you should know about working with colabs."
      ]
    },
    {
      "metadata": {
        "id": "kUhiagDUC28G",
        "colab_type": "text"
      },
      "cell_type": "markdown",
      "source": [
        "### Pretty Printing by colab\n",
        "1) If the **last operation** of a given cell returns a value, it will be pretty printed by colab.\n"
      ]
    },
    {
      "metadata": {
        "id": "Hz9y44oYDpXI",
        "colab_type": "code",
        "colab": {
          "autoexec": {
            "startup": false,
            "wait_interval": 0
          },
          "height": 35
        },
        "outputId": "cd538ca8-b16a-4ab0-a4c6-6938990b04f3",
        "executionInfo": {
          "elapsed": 275,
          "status": "ok",
          "timestamp": 1530539160227,
          "user": {
            "displayName": "",
            "photoUrl": "",
            "userId": ""
          },
          "user_tz": -60
        }
      },
      "cell_type": "code",
      "source": [
        "6 * 7"
      ],
      "execution_count": 0,
      "outputs": [
        {
          "output_type": "execute_result",
          "data": {
            "text/plain": [
              "42"
            ]
          },
          "metadata": {
            "tags": []
          },
          "execution_count": 2
        }
      ]
    },
    {
      "metadata": {
        "id": "YqgK5BvLFaU3",
        "colab_type": "code",
        "colab": {
          "autoexec": {
            "startup": false,
            "wait_interval": 0
          }
        }
      },
      "cell_type": "code",
      "source": [
        "my_dict = {'one': 1, 'some set': {4, 2, 2}, 'a regular list': range(5)}"
      ],
      "execution_count": 0,
      "outputs": []
    },
    {
      "metadata": {
        "id": "1Rqgt29CFb4J",
        "colab_type": "text"
      },
      "cell_type": "markdown",
      "source": [
        "There is no output from the second cell, as assignment does not return anything."
      ]
    },
    {
      "metadata": {
        "id": "ZgekhVgsC3Bu",
        "colab_type": "text"
      },
      "cell_type": "markdown",
      "source": [
        "2) You can explicitly **print** anything before the last operation, or **supress** the output of the last operation by adding a semicolon."
      ]
    },
    {
      "metadata": {
        "id": "7VKvo7dvDxBy",
        "colab_type": "code",
        "colab": {
          "autoexec": {
            "startup": false,
            "wait_interval": 0
          },
          "height": 35
        },
        "outputId": "b2e2935a-6560-49cf-ff02-bfb58b1f9c88",
        "executionInfo": {
          "elapsed": 231,
          "status": "ok",
          "timestamp": 1530539160729,
          "user": {
            "displayName": "",
            "photoUrl": "",
            "userId": ""
          },
          "user_tz": -60
        }
      },
      "cell_type": "code",
      "source": [
        "print(my_dict)\n",
        "my_dict['one'] * 10 + 1;"
      ],
      "execution_count": 0,
      "outputs": [
        {
          "output_type": "stream",
          "text": [
            "{'one': 1, 'a regular list': [0, 1, 2, 3, 4], 'some set': set([2, 4])}\n"
          ],
          "name": "stdout"
        }
      ]
    },
    {
      "metadata": {
        "id": "z2cu-vPJJL2o",
        "colab_type": "text"
      },
      "cell_type": "markdown",
      "source": [
        "### Scoping and Execution Model"
      ]
    },
    {
      "metadata": {
        "id": "nKnGjUJvI5Gg",
        "colab_type": "text"
      },
      "cell_type": "markdown",
      "source": [
        "Notice that in the previous code cell we worked with `my_dict`, while it was defined in an even earlier cell.\n",
        "\n",
        "1) In colabs, variables defined at cell root have **global** scope.\n",
        "\n",
        "Modify `my_dict`:"
      ]
    },
    {
      "metadata": {
        "id": "XETX0TevKW_h",
        "colab_type": "code",
        "colab": {
          "autoexec": {
            "startup": false,
            "wait_interval": 0
          }
        }
      },
      "cell_type": "code",
      "source": [
        "my_dict['I\\'ve been changed!'] = True"
      ],
      "execution_count": 0,
      "outputs": []
    },
    {
      "metadata": {
        "id": "FMPTBE_HDxIH",
        "colab_type": "text"
      },
      "cell_type": "markdown",
      "source": [
        "2) Cells can be **run** in any **arbitrary order**, and global state is maintained between them.\n",
        "\n",
        "Try re-running the cell where we printed `my_dict`. You should see now  see the additional item `\"I've been changed!\": True`.\n"
      ]
    },
    {
      "metadata": {
        "id": "wiNYzBdyLimN",
        "colab_type": "text"
      },
      "cell_type": "markdown",
      "source": [
        "3) Unintentionally reusing a global variable can lead to bugs. If all else fails, you can uncomment and run the following line to **clear all global variables**."
      ]
    },
    {
      "metadata": {
        "id": "_iO10nIILkqs",
        "colab_type": "code",
        "colab": {
          "autoexec": {
            "startup": false,
            "wait_interval": 0
          }
        }
      },
      "cell_type": "code",
      "source": [
        "# %reset -f"
      ],
      "execution_count": 0,
      "outputs": []
    },
    {
      "metadata": {
        "id": "vIVCsaGYMj1k",
        "colab_type": "text"
      },
      "cell_type": "markdown",
      "source": [
        "You will have to re-run the setup cells after."
      ]
    },
    {
      "metadata": {
        "id": "qXw6vbMpFtFF",
        "colab_type": "text"
      },
      "cell_type": "markdown",
      "source": [
        "### Autocomplete / Documentation\n",
        "\n",
        "* Press *`<TAB>`* after typing a prefix will show the available variables / commands.\n",
        "* Press *`<TAB>`* on a function parameter list will show the function documentation.\n",
        "\n",
        "Note: this only works for variables that are already been defined (not while you are writing your code)."
      ]
    },
    {
      "metadata": {
        "id": "hwwF9RtoGMl4",
        "colab_type": "code",
        "colab": {
          "autoexec": {
            "startup": false,
            "wait_interval": 0
          }
        }
      },
      "cell_type": "code",
      "source": [
        "direction_a, direction_b = ['UP', 'DOWN']"
      ],
      "execution_count": 0,
      "outputs": []
    },
    {
      "metadata": {
        "id": "_6WGj-j5UQ6k",
        "colab_type": "text"
      },
      "cell_type": "markdown",
      "source": [
        "Hit after '**dir**'."
      ]
    },
    {
      "metadata": {
        "id": "i_mDqlgP9HjT",
        "colab_type": "code",
        "colab": {
          "autoexec": {
            "startup": false,
            "wait_interval": 0
          }
        }
      },
      "cell_type": "code",
      "source": [
        "#dir"
      ],
      "execution_count": 0,
      "outputs": []
    },
    {
      "metadata": {
        "id": "Rqy-TemM4fki",
        "colab_type": "text"
      },
      "cell_type": "markdown",
      "source": [
        "Hit after **`np.sum(`**."
      ]
    },
    {
      "metadata": {
        "id": "88NbgSBsVKeM",
        "colab_type": "code",
        "colab": {
          "autoexec": {
            "startup": false,
            "wait_interval": 0
          }
        }
      },
      "cell_type": "code",
      "source": [
        "#np.sum("
      ],
      "execution_count": 0,
      "outputs": []
    },
    {
      "metadata": {
        "id": "xUAFxf1uVkam",
        "colab_type": "text"
      },
      "cell_type": "markdown",
      "source": [
        "Alternatively, the question mark (**?**) works as a special character which gives us information about variables and functions. In this case you need to run the cell.\n",
        "\n"
      ]
    },
    {
      "metadata": {
        "id": "h0nEx_NUVXbv",
        "colab_type": "code",
        "colab": {
          "autoexec": {
            "startup": false,
            "wait_interval": 0
          }
        }
      },
      "cell_type": "code",
      "source": [
        "range?"
      ],
      "execution_count": 0,
      "outputs": []
    },
    {
      "metadata": {
        "id": "6B17wzOd8S3D",
        "colab_type": "text"
      },
      "cell_type": "markdown",
      "source": [
        "### Shortcuts\n",
        "\n",
        "The 4 most useful colab-specific shortcuts are:\n",
        "\n",
        "* `Ctrl+/` which toggles comments. Can be applied across multiple lines. Try below.\n",
        "* `Ctrl+M b` which creates a new code cell below the current one, placing the cursor in it.\n",
        "* `Ctrl+M -` which splits the current cell into 2 at the location of the cursor.\n",
        "* `Ctrl+M d` which deletes the current cell.\n",
        "\n",
        "There is of course a search and replace functionality as well.\n",
        "\n"
      ]
    },
    {
      "metadata": {
        "id": "PJon8nGv8TM4",
        "colab_type": "code",
        "colab": {
          "autoexec": {
            "startup": false,
            "wait_interval": 0
          }
        }
      },
      "cell_type": "code",
      "source": [
        "# print('comment')\n",
        "# print('me')\n",
        "# print('out')\n",
        "# print('in one go')"
      ],
      "execution_count": 0,
      "outputs": []
    },
    {
      "metadata": {
        "id": "dUTBihZIYC32",
        "colab_type": "text"
      },
      "cell_type": "markdown",
      "source": [
        "### Setup and Imports\n",
        "\n",
        "Python packages can and need to be imported into your colab notebook, the same way you would import them in a python script. For example, to use `numpy`, you would do"
      ]
    },
    {
      "metadata": {
        "id": "Rhk-7l_dYExv",
        "colab_type": "code",
        "colab": {
          "autoexec": {
            "startup": false,
            "wait_interval": 0
          }
        }
      },
      "cell_type": "code",
      "source": [
        "#import numpy as np"
      ],
      "execution_count": 0,
      "outputs": []
    },
    {
      "metadata": {
        "id": "fQE00MVwYfej",
        "colab_type": "text"
      },
      "cell_type": "markdown",
      "source": [
        "Some packages (e.g. `sonnet`) may not immediately be availiable. With colab, you can install any python package from `pip` for the duration of your connection."
      ]
    },
    {
      "metadata": {
        "id": "yfP92hNwYfqv",
        "colab_type": "code",
        "colab": {
          "autoexec": {
            "startup": false,
            "wait_interval": 0
          }
        }
      },
      "cell_type": "code",
      "source": [
        "#!pip install dm-sonnet"
      ],
      "execution_count": 0,
      "outputs": []
    },
    {
      "metadata": {
        "id": "YUQ8oIhHfgYp",
        "colab_type": "text"
      },
      "cell_type": "markdown",
      "source": [
        "You would, then, be able to `import sonnet as snt` as usual."
      ]
    },
    {
      "metadata": {
        "id": "pWAjydYTuVUz",
        "colab_type": "text"
      },
      "cell_type": "markdown",
      "source": [
        "### Debugging\n",
        "\n",
        "You can debug code in cells with `pdb`. Either\n",
        "\n",
        "* Add `%%debug` as the first line, on its own to start in `ipdb`.\n",
        "* Add `import pdb; pdb.set_trace()` on a line to pause execution there.\n",
        "\n",
        "Note that `ipdb` has more features and so may be preferred. However, `import ipdb` does not work here. "
      ]
    },
    {
      "metadata": {
        "id": "nP2hlEE7ub-9",
        "colab_type": "code",
        "colab": {
          "autoexec": {
            "startup": false,
            "wait_interval": 0
          },
          "base_uri": "https://localhost:8080/",
          "height": 119
        },
        "outputId": "c5de2e95-132a-4f49-8d76-a7989ce39af1",
        "executionInfo": {
          "status": "ok",
          "timestamp": 1530861022164,
          "user_tz": -60,
          "elapsed": 2400,
          "user": {
            "displayName": "David Szepesvari",
            "photoUrl": "//lh3.googleusercontent.com/-b59pEhK2Mu4/AAAAAAAAAAI/AAAAAAAABYk/II49sX2Iiac/s50-c-k-no/photo.jpg",
            "userId": "112028855906936668175"
          }
        }
      },
      "cell_type": "code",
      "source": [
        "%%debug\n",
        "print('Let me get started.')\n",
        "message = 'We are almost done.'\n",
        "# import pdb; pdb.set_trace()\n",
        "print('You can see the global variables, step through code, etc.')"
      ],
      "execution_count": 3,
      "outputs": [
        {
          "output_type": "stream",
          "text": [
            "NOTE: Enter 'c' at the ipdb>  prompt to continue execution.\n",
            "> \u001b[0;32m<string>\u001b[0m(2)\u001b[0;36m<module>\u001b[0;34m()\u001b[0m\n",
            "\n",
            "ipdb> c\n",
            "Let me get started.\n",
            "You can see the global variables, step through code, etc.\n"
          ],
          "name": "stdout"
        }
      ]
    },
    {
      "metadata": {
        "id": "tiSKbgPe9hqI",
        "colab_type": "text"
      },
      "cell_type": "markdown",
      "source": [
        "### Forms\n",
        "\n",
        "With colab it is easy to take input from the user in code cells through so called forms. A simplest example is shown below."
      ]
    },
    {
      "metadata": {
        "id": "Gu30itgd97l7",
        "colab_type": "code",
        "colab": {
          "autoexec": {
            "startup": false,
            "wait_interval": 0
          },
          "base_uri": "https://localhost:8080/",
          "height": 34
        },
        "outputId": "cf96bd3a-97df-47a9-e396-28776d8c36f9",
        "executionInfo": {
          "status": "ok",
          "timestamp": 1530861344139,
          "user_tz": -60,
          "elapsed": 454,
          "user": {
            "displayName": "David Szepesvari",
            "photoUrl": "//lh3.googleusercontent.com/-b59pEhK2Mu4/AAAAAAAAAAI/AAAAAAAABYk/II49sX2Iiac/s50-c-k-no/photo.jpg",
            "userId": "112028855906936668175"
          }
        }
      },
      "cell_type": "code",
      "source": [
        "#@title This text shows up as a title.\n",
        "\n",
        "a = 2  #@param {type: 'integer'}\n",
        "b = 3  #@param\n",
        "\n",
        "print 'a+b=' + str(a+b)"
      ],
      "execution_count": 5,
      "outputs": [
        {
          "output_type": "stream",
          "text": [
            "a+b=5\n"
          ],
          "name": "stdout"
        }
      ]
    },
    {
      "metadata": {
        "id": "_-w9fM9BcUBS",
        "colab_type": "text"
      },
      "cell_type": "markdown",
      "source": [
        "You can change parameters on the right hand side, then rerun the cell to use these values. **Try setting the value of a=5 and rerun the cell above.**\n",
        "\n",
        "In order to expose a variable as parameter you just add `#@param` after it. There are various knds of params, if you're interested you can read more about this on the official starting colab.\n"
      ]
    },
    {
      "metadata": {
        "id": "XdQo7XSl-4wm",
        "colab_type": "text"
      },
      "cell_type": "markdown",
      "source": [
        "\n",
        "Cells with forms allow you to toggle whether\n",
        "\n",
        "* the code,\n",
        "* the form,\n",
        "* or both\n",
        "\n",
        "are visible.\n",
        "\n",
        "**Try switching between these 3 options for the above cell.** This is how you do this:\n",
        "\n",
        "1. Click anywhere over the area of the cell with the form to highlight it.\n",
        "2. Click on the \"three vertically arranged dots\" icong in the top right of the cell.\n",
        "3. Go to \"Form >\", select your desired action."
      ]
    },
    {
      "metadata": {
        "id": "SZKTwLixhlc5",
        "colab_type": "text"
      },
      "cell_type": "markdown",
      "source": [
        "### Exercise: write a decoder for a text encoder\n",
        "\n",
        "We defined a (very) simple text encoding function. Your job is to write the corresponding decoder, so that **`text == decoder(encoder(text))`**.\n"
      ]
    },
    {
      "metadata": {
        "id": "dJrw_uFKhqCh",
        "colab_type": "code",
        "colab": {
          "autoexec": {
            "startup": false,
            "wait_interval": 0
          }
        }
      },
      "cell_type": "code",
      "source": [
        "#@title Code\n",
        "laws = \"\"\"\n",
        "1. A robot may not injure a human being or, through inaction, allow a human being to come to harm.\n",
        "2. A robot must obey orders given it by human beings except where such orders would conflict with the First Law.\n",
        "3. A robot must protect its own existence as long as such protection does not conflict with the First or Second Law.\n",
        "\"\"\"\n",
        "\n",
        "\n",
        "def encode(plain_text):\n",
        "  new_letters = [chr(ord(letter)+1) for letter in plain_text]\n",
        "  return ''.join(new_letters)\n",
        "  \n",
        "\n",
        "def decode(encoded_text):\n",
        "  ### Your Code Here ###\n",
        "  return decoded_text\n",
        "\n"
      ],
      "execution_count": 0,
      "outputs": []
    },
    {
      "metadata": {
        "id": "odNeTetkrS2x",
        "colab_type": "code",
        "colab": {
          "autoexec": {
            "startup": false,
            "wait_interval": 0
          }
        },
        "cellView": "form"
      },
      "cell_type": "code",
      "source": [
        "#@title Solution\n",
        "\n",
        "def encode(plain_text):\n",
        "  new_letters = [chr(ord(letter)+1) for letter in plain_text]\n",
        "  return ''.join(new_letters)\n",
        "  \n",
        "\n",
        "def decode(encoded_text):\n",
        "  new_letters = [chr(ord(letter)-1) for letter in encoded_text]\n",
        "  return ''.join(new_letters)\n"
      ],
      "execution_count": 0,
      "outputs": []
    },
    {
      "metadata": {
        "id": "4X3bhmgLolXZ",
        "colab_type": "code",
        "colab": {
          "autoexec": {
            "startup": false,
            "wait_interval": 0
          },
          "height": 217
        },
        "cellView": "form",
        "outputId": "42bd6cd7-4ea1-45fb-c8aa-c394c99ba541",
        "executionInfo": {
          "elapsed": 211,
          "status": "ok",
          "timestamp": 1530539163681,
          "user": {
            "displayName": "",
            "photoUrl": "",
            "userId": ""
          },
          "user_tz": -60
        }
      },
      "cell_type": "code",
      "source": [
        "#@title Basic Test\n",
        "\n",
        "encoded_text = encode(laws)\n",
        "print('The encoded text:')\n",
        "print(encoded_text)\n",
        "assert encoded_text != laws, (\n",
        "    'The encoded text should be different from the original')\n",
        "print()\n",
        "\n",
        "decoded_text = decode(encoded_text)\n",
        "print('The decoded text:')\n",
        "print(decoded_text)\n",
        "assert decoded_text == laws, (\n",
        "    'The decoded text should be the same as the original')\n",
        "\n",
        "print('Great!')"
      ],
      "execution_count": 0,
      "outputs": [
        {
          "output_type": "stream",
          "text": [
            "The encoded text:\n",
            "\u000b2/!B!spcpu!nbz!opu!jokvsf!b!ivnbo!cfjoh!ps-!uispvhi!jobdujpo-!bmmpx!b!ivnbo!cfjoh!up!dpnf!up!ibsn/\u000b3/!B!spcpu!nvtu!pcfz!psefst!hjwfo!ju!cz!ivnbo!cfjoht!fydfqu!xifsf!tvdi!psefst!xpvme!dpogmjdu!xjui!uif!Gjstu!Mbx/\u000b4/!B!spcpu!nvtu!qspufdu!jut!pxo!fyjtufodf!bt!mpoh!bt!tvdi!qspufdujpo!epft!opu!dpogmjdu!xjui!uif!Gjstu!ps!Tfdpoe!Mbx/\u000b\n",
            "()\n",
            "The decoded text:\n",
            "\n",
            "1. A robot may not injure a human being or, through inaction, allow a human being to come to harm.\n",
            "2. A robot must obey orders given it by human beings except where such orders would conflict with the First Law.\n",
            "3. A robot must protect its own existence as long as such protection does not conflict with the First or Second Law.\n",
            "\n",
            "Great!\n"
          ],
          "name": "stdout"
        }
      ]
    },
    {
      "metadata": {
        "id": "B6g2I-twVvp5",
        "colab_type": "text"
      },
      "cell_type": "markdown",
      "source": [
        "### Some additional tips\n",
        "\n",
        "* You can access an outline of the colab by clicking the arrow on the right hand side.\n",
        "* The [official colab landing colab](https://colab.sandbox.google.com/notebooks/welcome.ipynb) has some more examples and info as well."
      ]
    },
    {
      "metadata": {
        "id": "mzzeLVKE_pZs",
        "colab_type": "code",
        "colab": {
          "autoexec": {
            "startup": false,
            "wait_interval": 0
          }
        }
      },
      "cell_type": "code",
      "source": [
        ""
      ],
      "execution_count": 0,
      "outputs": []
    }
  ]
}