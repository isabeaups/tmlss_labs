{
  "nbformat": 4,
  "nbformat_minor": 0,
  "metadata": {
    "colab": {
      "name": "Intro: Plotting.ipynb",
      "version": "0.3.2",
      "views": {},
      "default_view": {},
      "provenance": [
        {
          "file_id": "15LnLk50kQR_JMN_NbAki3onTjt10z51X",
          "timestamp": 1530542590178
        }
      ],
      "collapsed_sections": [],
      "toc_visible": true
    }
  },
  "cells": [
    {
      "metadata": {
        "id": "6zF1zr4ODp60",
        "colab_type": "text"
      },
      "cell_type": "markdown",
      "source": [
        "# Plotting with matplotlib, more numpy\n",
        "\n",
        "We will use [matplotlib](https://matplotlib.org/) to\n",
        "\n",
        "* make scatter plots\n",
        "* plot of (training) curves\n",
        "* show images.\n",
        "\n",
        "There are many good tutorials for these on the internet, so we keep it short here with annotated full examples.\n"
      ]
    },
    {
      "metadata": {
        "id": "vKv9b44EEAqJ",
        "colab_type": "code",
        "colab": {
          "autoexec": {
            "startup": false,
            "wait_interval": 0
          },
          "base_uri": "https://localhost:8080/",
          "height": 17
        },
        "cellView": "both",
        "outputId": "31ec34f7-c272-4992-8957-60323c77432a",
        "executionInfo": {
          "status": "ok",
          "timestamp": 1530870467203,
          "user_tz": -60,
          "elapsed": 523,
          "user": {
            "displayName": "David Szepesvari",
            "photoUrl": "//lh3.googleusercontent.com/-b59pEhK2Mu4/AAAAAAAAAAI/AAAAAAAABYk/II49sX2Iiac/s50-c-k-no/photo.jpg",
            "userId": "112028855906936668175"
          }
        }
      },
      "cell_type": "code",
      "source": [
        "#@title Setup and Imports. Run this cell.\n",
        "\n",
        "from __future__ import absolute_import\n",
        "from __future__ import division\n",
        "from __future__ import print_function\n",
        "\n",
        "import random\n",
        "import seaborn as sns\n",
        "import numpy as np\n",
        "\n",
        "from matplotlib import pyplot as plt\n",
        "from google.colab import files\n",
        "from scipy.stats import multivariate_normal\n",
        "\n",
        "sns.set_style('ticks')\n",
        "\n",
        "\n",
        "def get_data(num_examples):\n",
        "  inputs = 2*np.random.random((num_examples, 2)) - 1\n",
        "  labels = np.prod(inputs, axis=1)\n",
        "  labels[labels <= 0] = -1 \n",
        "  labels[labels > 0] = 1 \n",
        "  return inputs, labels\n"
      ],
      "execution_count": 2,
      "outputs": []
    },
    {
      "metadata": {
        "id": "fBoiMrH1eHLo",
        "colab_type": "text"
      },
      "cell_type": "markdown",
      "source": [
        "The import corresponding to matplotlib is `from matplotlib import pyplot as plt` and it will be used as `plt.some_function()`.\n"
      ]
    },
    {
      "metadata": {
        "id": "ighZ0qCBUuWm",
        "colab_type": "text"
      },
      "cell_type": "markdown",
      "source": [
        "We start by **recreating the visualization of the NXOR function** introduced in the numpy colab.\n",
        "\n",
        "In the same colab we wrote a function `get_data()` to generate numpy arrays with inputs and outputs of the NXOR function. In the setup cell above we redefined `get_data()`. Use it to generate a dataset of 100 examples."
      ]
    },
    {
      "metadata": {
        "id": "fyUeXhkoQOQ_",
        "colab_type": "code",
        "colab": {
          "autoexec": {
            "startup": false,
            "wait_interval": 0
          },
          "base_uri": "https://localhost:8080/",
          "height": 17
        },
        "outputId": "5db74f84-63e5-4c2b-f8c0-80956ecc9607",
        "executionInfo": {
          "status": "ok",
          "timestamp": 1530870467831,
          "user_tz": -60,
          "elapsed": 529,
          "user": {
            "displayName": "David Szepesvari",
            "photoUrl": "//lh3.googleusercontent.com/-b59pEhK2Mu4/AAAAAAAAAAI/AAAAAAAABYk/II49sX2Iiac/s50-c-k-no/photo.jpg",
            "userId": "112028855906936668175"
          }
        }
      },
      "cell_type": "code",
      "source": [
        "inputs, labels = get_data(100)"
      ],
      "execution_count": 3,
      "outputs": []
    },
    {
      "metadata": {
        "id": "pqG2GV04UTty",
        "colab_type": "text"
      },
      "cell_type": "markdown",
      "source": [
        "### Scatter Plot"
      ]
    },
    {
      "metadata": {
        "id": "W5eFm0T1vZ2i",
        "colab_type": "code",
        "colab": {
          "autoexec": {
            "startup": false,
            "wait_interval": 0
          },
          "base_uri": "https://localhost:8080/",
          "height": 368
        },
        "outputId": "28fcd83b-5671-477a-81c8-e9d0b813ce79",
        "executionInfo": {
          "status": "ok",
          "timestamp": 1530870660027,
          "user_tz": -60,
          "elapsed": 758,
          "user": {
            "displayName": "David Szepesvari",
            "photoUrl": "//lh3.googleusercontent.com/-b59pEhK2Mu4/AAAAAAAAAAI/AAAAAAAABYk/II49sX2Iiac/s50-c-k-no/photo.jpg",
            "userId": "112028855906936668175"
          }
        }
      },
      "cell_type": "code",
      "source": [
        "MARKER_COLORS = np.array([\n",
        "    [1.0, 0.0, 0.0],  # red for -1 \n",
        "    [0.0, 1.0, 0.0],  # green for +1\n",
        "])\n",
        "# Convert the labels to colors.\n",
        "class_idx = (labels + 1 / 2.0).astype(np.int)\n",
        "\n",
        "# Visualize the data.\n",
        "\n",
        "plt.figure()\n",
        "plt.title('Visualizing the labels assigned by NXOR')\n",
        "plt.scatter(\n",
        "    x=inputs[:, 0], y=inputs[:, 1], c=MARKER_COLORS[class_idx], alpha=0.8)\n",
        "\n",
        "plt.savefig('nxor_data.png', bbox_inches='tight')  # Can save it, or\n",
        "plt.show()  # More often just display it."
      ],
      "execution_count": 24,
      "outputs": [
        {
          "output_type": "display_data",
          "data": {
            "image/png": "[encoded data removed]",
            "text/plain": [
              "<matplotlib.figure.Figure at 0x7f3f20076ed0>"
            ]
          },
          "metadata": {
            "tags": []
          }
        }
      ]
    },
    {
      "metadata": {
        "id": "ZMLU-Ek0PPIa",
        "colab_type": "text"
      },
      "cell_type": "markdown",
      "source": [
        "### Downloading matplotlib plots from colab"
      ]
    },
    {
      "metadata": {
        "id": "_m_3P-oxVoc9",
        "colab_type": "code",
        "colab": {
          "autoexec": {
            "startup": false,
            "wait_interval": 0
          },
          "base_uri": "https://localhost:8080/",
          "height": 17
        },
        "outputId": "b5b6ff8c-ea56-47c2-f45e-9ca82fadff5d",
        "executionInfo": {
          "status": "ok",
          "timestamp": 1530870469635,
          "user_tz": -60,
          "elapsed": 862,
          "user": {
            "displayName": "David Szepesvari",
            "photoUrl": "//lh3.googleusercontent.com/-b59pEhK2Mu4/AAAAAAAAAAI/AAAAAAAABYk/II49sX2Iiac/s50-c-k-no/photo.jpg",
            "userId": "112028855906936668175"
          }
        }
      },
      "cell_type": "code",
      "source": [
        "# If you would like to do this, uncomment and run the line below.\n",
        "# files.download('nxor_data.png')"
      ],
      "execution_count": 5,
      "outputs": []
    },
    {
      "metadata": {
        "id": "6_rVo6Zwg2Sm",
        "colab_type": "text"
      },
      "cell_type": "markdown",
      "source": [
        "### Exercise: Make markers class dependent\n",
        "\n",
        "Create a scatter plot like above, but use an 'o' marker for negative examples and 'x' marker for positive ones.\n",
        "\n",
        "*Note:* it is not possible to pass markers like colors to `scatter`, instead you will have to call `scatter` twice, independently for each class. In this case you will also have to look up how to provide labels for data plotted."
      ]
    },
    {
      "metadata": {
        "id": "pB-GsWvvq_Ji",
        "colab_type": "code",
        "colab": {
          "autoexec": {
            "startup": false,
            "wait_interval": 0
          },
          "base_uri": "https://localhost:8080/",
          "height": 17
        },
        "outputId": "b773e188-da24-4574-d0d8-070240a124d2",
        "executionInfo": {
          "status": "ok",
          "timestamp": 1530870470205,
          "user_tz": -60,
          "elapsed": 465,
          "user": {
            "displayName": "David Szepesvari",
            "photoUrl": "//lh3.googleusercontent.com/-b59pEhK2Mu4/AAAAAAAAAAI/AAAAAAAABYk/II49sX2Iiac/s50-c-k-no/photo.jpg",
            "userId": "112028855906936668175"
          }
        }
      },
      "cell_type": "code",
      "source": [
        "#@title Code"
      ],
      "execution_count": 6,
      "outputs": []
    },
    {
      "metadata": {
        "id": "kNcymy8QrA48",
        "colab_type": "code",
        "colab": {
          "autoexec": {
            "startup": false,
            "wait_interval": 0
          },
          "base_uri": "https://localhost:8080/",
          "height": 368
        },
        "cellView": "form",
        "outputId": "d7be20e7-63db-48a8-c2bd-c0b4691b2d77",
        "executionInfo": {
          "status": "ok",
          "timestamp": 1530870669097,
          "user_tz": -60,
          "elapsed": 498,
          "user": {
            "displayName": "David Szepesvari",
            "photoUrl": "//lh3.googleusercontent.com/-b59pEhK2Mu4/AAAAAAAAAAI/AAAAAAAABYk/II49sX2Iiac/s50-c-k-no/photo.jpg",
            "userId": "112028855906936668175"
          }
        }
      },
      "cell_type": "code",
      "source": [
        "#@title Solution\n",
        "\n",
        "neg_inputs = inputs[labels == -1]\n",
        "pos_inputs = inputs[labels == 1]\n",
        "\n",
        "plt.figure()\n",
        "plt.title('Visualizing the labels assigned by NXOR')\n",
        "plt.scatter(\n",
        "    x=neg_inputs[:, 0], y=neg_inputs[:, 1], c='r',\n",
        "    marker='o', alpha=0.8, label='neg')\n",
        "plt.scatter(\n",
        "    x=pos_inputs[:, 0], y=pos_inputs[:, 1], c='b',\n",
        "    marker='x', alpha=0.8, label='pos')\n",
        "plt.legend()\n",
        "\n",
        "plt.show()"
      ],
      "execution_count": 25,
      "outputs": [
        {
          "output_type": "display_data",
          "data": {
            "image/png": "[encoded data removed]",
            "text/plain": [
              "<matplotlib.figure.Figure at 0x7f3f1ffd9d50>"
            ]
          },
          "metadata": {
            "tags": []
          }
        }
      ]
    },
    {
      "metadata": {
        "id": "8ghfTnlCMGtB",
        "colab_type": "text"
      },
      "cell_type": "markdown",
      "source": [
        "### Plotting Curves\n",
        "\n",
        "Curves assign y-values to a sequence of x-values. Here we will show how to plot two different curves onto the same plot, so they can be compared."
      ]
    },
    {
      "metadata": {
        "id": "BaNH30tIWCgq",
        "colab_type": "code",
        "colab": {
          "autoexec": {
            "startup": false,
            "wait_interval": 0
          },
          "base_uri": "https://localhost:8080/",
          "height": 368
        },
        "outputId": "683f011d-286b-4536-ef66-7ec0dd4519eb",
        "executionInfo": {
          "status": "ok",
          "timestamp": 1530870471412,
          "user_tz": -60,
          "elapsed": 501,
          "user": {
            "displayName": "David Szepesvari",
            "photoUrl": "//lh3.googleusercontent.com/-b59pEhK2Mu4/AAAAAAAAAAI/AAAAAAAABYk/II49sX2Iiac/s50-c-k-no/photo.jpg",
            "userId": "112028855906936668175"
          }
        }
      },
      "cell_type": "code",
      "source": [
        "# Create [0, ..., 1] evenly spaced with 50 elements:\n",
        "xs = np.linspace(start=0, stop=1, num=50)\n",
        "\n",
        "y_real = np.sin(xs*2*np.pi)\n",
        "\n",
        "# Pretend there is some noise at each timesteps.\n",
        "err = np.random.normal(loc=0.0, scale=0.08, size=y_real.shape)\n",
        "err = np.cumsum(err)  # Which adds up over time.\n",
        "y_measured = y_real + err  # Yielding the final measured signal.\n",
        "\n",
        "\n",
        "plt.figure()\n",
        "plt.title('Sine(x) and its Estimation from noisy Measurements')\n",
        "plt.plot(xs, y_real, c='r', label='Sine')\n",
        "plt.plot(xs, y_measured, c='b', label='Estimated')\n",
        "plt.legend()\n",
        "plt.show()"
      ],
      "execution_count": 8,
      "outputs": [
        {
          "output_type": "display_data",
          "data": {
            "image/png": "[encoded data removed]",
            "text/plain": [
              "<matplotlib.figure.Figure at 0x7f3f2042f710>"
            ]
          },
          "metadata": {
            "tags": []
          }
        }
      ]
    },
    {
      "metadata": {
        "id": "K33llrEWiLKT",
        "colab_type": "text"
      },
      "cell_type": "markdown",
      "source": [
        "### Exercise: plot another two curves\n",
        "\n",
        "Plot the two new curves defined below.\n",
        "\n",
        "\n"
      ]
    },
    {
      "metadata": {
        "id": "OV4jFsAYiLoh",
        "colab_type": "code",
        "colab": {
          "autoexec": {
            "startup": false,
            "wait_interval": 0
          },
          "base_uri": "https://localhost:8080/",
          "height": 17
        },
        "outputId": "8e506ecf-011d-4c82-ac89-7960c197f18d",
        "executionInfo": {
          "status": "ok",
          "timestamp": 1530870471977,
          "user_tz": -60,
          "elapsed": 481,
          "user": {
            "displayName": "David Szepesvari",
            "photoUrl": "//lh3.googleusercontent.com/-b59pEhK2Mu4/AAAAAAAAAAI/AAAAAAAABYk/II49sX2Iiac/s50-c-k-no/photo.jpg",
            "userId": "112028855906936668175"
          }
        }
      },
      "cell_type": "code",
      "source": [
        "xs = np.linspace(start=0, stop=1, num=50)\n",
        "y_real = np.cos(xs*2*np.pi)\n",
        "err = np.random.normal(loc=0.0, scale=0.02, size=xs.shape)\n",
        "err = np.cumsum(err)\n",
        "y_measured = np.cos((xs+err)*2*np.pi)\n"
      ],
      "execution_count": 9,
      "outputs": []
    },
    {
      "metadata": {
        "id": "R_iq80JAsxww",
        "colab_type": "text"
      },
      "cell_type": "markdown",
      "source": [
        "\n",
        "You can try modifying:\n",
        "\n",
        "* colors\n",
        "* data labels,\n",
        "* plot title\n",
        "* adding a legend,\n",
        "* axes labels,\n",
        "* setting axes limits."
      ]
    },
    {
      "metadata": {
        "id": "hvQfpAT1svb-",
        "colab_type": "code",
        "colab": {
          "autoexec": {
            "startup": false,
            "wait_interval": 0
          },
          "base_uri": "https://localhost:8080/",
          "height": 17
        },
        "outputId": "2658422d-865d-4de5-b874-fa791298f456",
        "executionInfo": {
          "status": "ok",
          "timestamp": 1530870472568,
          "user_tz": -60,
          "elapsed": 496,
          "user": {
            "displayName": "David Szepesvari",
            "photoUrl": "//lh3.googleusercontent.com/-b59pEhK2Mu4/AAAAAAAAAAI/AAAAAAAABYk/II49sX2Iiac/s50-c-k-no/photo.jpg",
            "userId": "112028855906936668175"
          }
        }
      },
      "cell_type": "code",
      "source": [
        "#@title Your Code\n",
        "\n",
        "## Your code here ##"
      ],
      "execution_count": 10,
      "outputs": []
    },
    {
      "metadata": {
        "id": "VDS4eK7Js3Fj",
        "colab_type": "code",
        "colab": {
          "autoexec": {
            "startup": false,
            "wait_interval": 0
          },
          "base_uri": "https://localhost:8080/",
          "height": 368
        },
        "cellView": "form",
        "outputId": "6846f6f5-ad01-4992-c869-8425baf6b4b5",
        "executionInfo": {
          "status": "ok",
          "timestamp": 1530870473137,
          "user_tz": -60,
          "elapsed": 492,
          "user": {
            "displayName": "David Szepesvari",
            "photoUrl": "//lh3.googleusercontent.com/-b59pEhK2Mu4/AAAAAAAAAAI/AAAAAAAABYk/II49sX2Iiac/s50-c-k-no/photo.jpg",
            "userId": "112028855906936668175"
          }
        }
      },
      "cell_type": "code",
      "source": [
        "#@title Solution\n",
        "\n",
        "plt.figure()\n",
        "plt.title('Cos(x) and its Noised Version')\n",
        "plt.plot(xs, y_real, c='r', label='Cos')\n",
        "plt.plot(xs, y_measured, c='b', label='Noised')\n",
        "plt.legend()\n",
        "plt.show()"
      ],
      "execution_count": 11,
      "outputs": [
        {
          "output_type": "display_data",
          "data": {
            "image/png": "[encoded data removed]",
            "text/plain": [
              "<matplotlib.figure.Figure at 0x7f3f2039b810>"
            ]
          },
          "metadata": {
            "tags": []
          }
        }
      ]
    },
    {
      "metadata": {
        "id": "5WAtVbIHMGzL",
        "colab_type": "text"
      },
      "cell_type": "markdown",
      "source": [
        "### Displaying images with matplotlib\n",
        "\n",
        "`matplotlib` can display an array as an image. This will come in handy for displaying images our neural networks drew.\n",
        "\n"
      ]
    },
    {
      "metadata": {
        "id": "lPaVcH4svpfr",
        "colab_type": "text"
      },
      "cell_type": "markdown",
      "source": [
        "We don't have an image in array form here, so instead we will visualize the pdf of a bivariate normal distribution. The details of how this image is created (the next two cells) are not important.\n",
        "\n",
        "#### Creating an image array"
      ]
    },
    {
      "metadata": {
        "id": "ngV0sbMNulWy",
        "colab_type": "code",
        "colab": {
          "autoexec": {
            "startup": false,
            "wait_interval": 0
          },
          "base_uri": "https://localhost:8080/",
          "height": 35
        },
        "outputId": "f7c7892f-aa58-4a08-ef39-93b34c0671e6",
        "executionInfo": {
          "status": "ok",
          "timestamp": 1530870473754,
          "user_tz": -60,
          "elapsed": 527,
          "user": {
            "displayName": "David Szepesvari",
            "photoUrl": "//lh3.googleusercontent.com/-b59pEhK2Mu4/AAAAAAAAAAI/AAAAAAAABYk/II49sX2Iiac/s50-c-k-no/photo.jpg",
            "userId": "112028855906936668175"
          }
        }
      },
      "cell_type": "code",
      "source": [
        "normal = multivariate_normal(mean=[0,0], cov=[[1,0],[0,1]])\n",
        "# We can get the density of a number of points like so:\n",
        "normal.pdf(np.array([[0, 0], [-10, 7], [1, 0.9]]))"
      ],
      "execution_count": 12,
      "outputs": [
        {
          "output_type": "execute_result",
          "data": {
            "text/plain": [
              "array([1.59154943e-01, 7.02880071e-34, 6.43848407e-02])"
            ]
          },
          "metadata": {
            "tags": []
          },
          "execution_count": 12
        }
      ]
    },
    {
      "metadata": {
        "id": "CcTWGHNZw2cg",
        "colab_type": "code",
        "colab": {
          "autoexec": {
            "startup": false,
            "wait_interval": 0
          },
          "base_uri": "https://localhost:8080/",
          "height": 17
        },
        "outputId": "bb4d4c77-ac62-4c6d-b38e-2524674b74b3",
        "executionInfo": {
          "status": "ok",
          "timestamp": 1530870474343,
          "user_tz": -60,
          "elapsed": 503,
          "user": {
            "displayName": "David Szepesvari",
            "photoUrl": "//lh3.googleusercontent.com/-b59pEhK2Mu4/AAAAAAAAAAI/AAAAAAAABYk/II49sX2Iiac/s50-c-k-no/photo.jpg",
            "userId": "112028855906936668175"
          }
        }
      },
      "cell_type": "code",
      "source": [
        "# Define the grid of points over which the pdf is evaluated.\n",
        "RANGE = 3\n",
        "GRANULARITY = 30\n",
        "\n",
        "x = np.linspace(-RANGE, RANGE, GRANULARITY)\n",
        "y = np.linspace(-RANGE, RANGE, GRANULARITY)\n",
        "XX, YY = np.meshgrid(x, y)\n",
        "\n",
        "# Now (XX[i,j], YY[i,j]) give the x,y coordinates of points in the grid,\n",
        "# create an array such that XY[i, j] = [x, y].\n",
        "XY = np.stack([XX, YY], axis=-1)\n",
        "\n",
        "probabilities = normal.pdf(XY)"
      ],
      "execution_count": 13,
      "outputs": []
    },
    {
      "metadata": {
        "id": "TiEwqRiaxSvb",
        "colab_type": "text"
      },
      "cell_type": "markdown",
      "source": [
        "#### Show the image\n",
        "\n",
        "`probabilities` is now a 2D array with values corresponding to densities. We can display it in grayscale.\n",
        "\n"
      ]
    },
    {
      "metadata": {
        "id": "g8cpgKzqz05u",
        "colab_type": "code",
        "colab": {
          "autoexec": {
            "startup": false,
            "wait_interval": 0
          },
          "base_uri": "https://localhost:8080/",
          "height": 359
        },
        "outputId": "ec19e9f7-8824-4046-ad2a-b91367ea4096",
        "executionInfo": {
          "status": "ok",
          "timestamp": 1530870474901,
          "user_tz": -60,
          "elapsed": 492,
          "user": {
            "displayName": "David Szepesvari",
            "photoUrl": "//lh3.googleusercontent.com/-b59pEhK2Mu4/AAAAAAAAAAI/AAAAAAAABYk/II49sX2Iiac/s50-c-k-no/photo.jpg",
            "userId": "112028855906936668175"
          }
        }
      },
      "cell_type": "code",
      "source": [
        "plt.gray()\n",
        "plt.imshow(probabilities)\n",
        "plt.show()"
      ],
      "execution_count": 14,
      "outputs": [
        {
          "output_type": "display_data",
          "data": {
            "image/png": "[encoded data removed]",
            "text/plain": [
              "<matplotlib.figure.Figure at 0x7f3f20296690>"
            ]
          },
          "metadata": {
            "tags": []
          }
        }
      ]
    },
    {
      "metadata": {
        "id": "dJHNAa4Az5yt",
        "colab_type": "text"
      },
      "cell_type": "markdown",
      "source": [
        "We can remove the axes and labels from the display for a cleaner look. Also note the difference in setting grayscale mode in the next cell."
      ]
    },
    {
      "metadata": {
        "id": "y0T50H360FEJ",
        "colab_type": "code",
        "colab": {
          "autoexec": {
            "startup": false,
            "wait_interval": 0
          },
          "base_uri": "https://localhost:8080/",
          "height": 359
        },
        "outputId": "264f45d7-ba21-41e6-e6b0-4198902595c8",
        "executionInfo": {
          "status": "ok",
          "timestamp": 1530870475473,
          "user_tz": -60,
          "elapsed": 514,
          "user": {
            "displayName": "David Szepesvari",
            "photoUrl": "//lh3.googleusercontent.com/-b59pEhK2Mu4/AAAAAAAAAAI/AAAAAAAABYk/II49sX2Iiac/s50-c-k-no/photo.jpg",
            "userId": "112028855906936668175"
          }
        }
      },
      "cell_type": "code",
      "source": [
        "plt.axis('off')\n",
        "plt.imshow(probabilities, cmap='gray')\n",
        "plt.show()"
      ],
      "execution_count": 15,
      "outputs": [
        {
          "output_type": "display_data",
          "data": {
            "image/png": "[encoded data removed]",
            "text/plain": [
              "<matplotlib.figure.Figure at 0x7f3f2022e550>"
            ]
          },
          "metadata": {
            "tags": []
          }
        }
      ]
    },
    {
      "metadata": {
        "id": "OiuNCUy-z2YO",
        "colab_type": "text"
      },
      "cell_type": "markdown",
      "source": [
        "### Exercise: make and display a coloured image\n",
        "\n",
        "Display the image in red.\n",
        "\n",
        "Helpful facts:\n",
        "\n",
        "* `imshow()` takes arrays of size `n x m x 3` and interprets the last axis as an rgb channel.\n",
        "* The largest value in `probabilities` was around `0.15`,  so unless you rescale your array the image will be dark.\n",
        "\n",
        "The grayscale image plotting automatically rescaled the entries in the `probabilities` array!"
      ]
    },
    {
      "metadata": {
        "id": "-nAIUl3c09gI",
        "colab_type": "code",
        "colab": {
          "autoexec": {
            "startup": false,
            "wait_interval": 0
          },
          "base_uri": "https://localhost:8080/",
          "height": 17
        },
        "outputId": "c914e75c-78d8-484b-ca4f-cb9bc832c2e7",
        "executionInfo": {
          "status": "ok",
          "timestamp": 1530870476091,
          "user_tz": -60,
          "elapsed": 562,
          "user": {
            "displayName": "David Szepesvari",
            "photoUrl": "//lh3.googleusercontent.com/-b59pEhK2Mu4/AAAAAAAAAAI/AAAAAAAABYk/II49sX2Iiac/s50-c-k-no/photo.jpg",
            "userId": "112028855906936668175"
          }
        }
      },
      "cell_type": "code",
      "source": [
        "#@title Your Code\n",
        "\n"
      ],
      "execution_count": 15,
      "outputs": []
    },
    {
      "metadata": {
        "id": "s2XMqD1O080h",
        "colab_type": "code",
        "colab": {
          "autoexec": {
            "startup": false,
            "wait_interval": 0
          },
          "base_uri": "https://localhost:8080/",
          "height": 359
        },
        "cellView": "form",
        "outputId": "26892eda-a851-4c80-a5ff-3a42c31e6f61",
        "executionInfo": {
          "status": "ok",
          "timestamp": 1530870476690,
          "user_tz": -60,
          "elapsed": 500,
          "user": {
            "displayName": "David Szepesvari",
            "photoUrl": "//lh3.googleusercontent.com/-b59pEhK2Mu4/AAAAAAAAAAI/AAAAAAAABYk/II49sX2Iiac/s50-c-k-no/photo.jpg",
            "userId": "112028855906936668175"
          }
        }
      },
      "cell_type": "code",
      "source": [
        "#@title Solution\n",
        "\n",
        "# You may not have seen all calls in this solution.\n",
        "# There are many ways to accomplish the same.\n",
        "\n",
        "rescaled_probs = probabilities / np.max(probabilities)\n",
        "red_image = np.zeros(list(probabilities.shape) + [3])\n",
        "red_image[:, :, 0] = rescaled_probs\n",
        "\n",
        "plt.axis('off')\n",
        "plt.imshow(red_image)\n",
        "plt.show()\n",
        "\n"
      ],
      "execution_count": 16,
      "outputs": [
        {
          "output_type": "display_data",
          "data": {
            "image/png": "[encoded data removed]",
            "text/plain": [
              "<matplotlib.figure.Figure at 0x7f3f203b83d0>"
            ]
          },
          "metadata": {
            "tags": []
          }
        }
      ]
    },
    {
      "metadata": {
        "id": "8olyq-0uf2bC",
        "colab_type": "text"
      },
      "cell_type": "markdown",
      "source": [
        "### Showing a Grid of Images\n",
        "\n",
        "We define a helper function to turn a batch of images into a grid. You do not need to care about its implementation, but check its documentation as you will use the same function later in this lab and other labs."
      ]
    },
    {
      "metadata": {
        "id": "E-wWhz7-Vwmr",
        "colab_type": "code",
        "colab": {
          "autoexec": {
            "startup": false,
            "wait_interval": 0
          },
          "base_uri": "https://localhost:8080/",
          "height": 17
        },
        "outputId": "8489482b-8e20-4702-cec2-fc5d2e41ae4b",
        "executionInfo": {
          "status": "ok",
          "timestamp": 1530870477324,
          "user_tz": -60,
          "elapsed": 559,
          "user": {
            "displayName": "David Szepesvari",
            "photoUrl": "//lh3.googleusercontent.com/-b59pEhK2Mu4/AAAAAAAAAAI/AAAAAAAABYk/II49sX2Iiac/s50-c-k-no/photo.jpg",
            "userId": "112028855906936668175"
          }
        }
      },
      "cell_type": "code",
      "source": [
        "def gallery(array, ncols=10, rescale=True):\n",
        "  \"\"\"Take a batch of images and arrange them in a grid.\n",
        "  \n",
        "  Args:\n",
        "    array: of shape batch_size x height x width x 3. The final x3 in the shape\n",
        "      is optional.\n",
        "    ncols: number of columns to have in the grid\n",
        "    rescale: if true (default), increases the intensity of the images.\n",
        "    \n",
        "  Returns:\n",
        "    A numpy array which contains the batch of images arranged into\n",
        "    a grid.\n",
        "  \"\"\"\n",
        "  if rescale:\n",
        "    array = (array + 1.) / 2\n",
        "  nindex, height, width = array.shape[:3]\n",
        "\n",
        "  nrows = nindex//ncols\n",
        "  assert nindex == nrows*ncols\n",
        "\n",
        "  # want result.shape = (height*nrows, width*ncols, intensity?)\n",
        "  abstract_grid_shape = [nrows, ncols, height, width]\n",
        "  image_grid_shape = [height*nrows, width*ncols]\n",
        "  if len(array.shape) == 4:\n",
        "    intensity = array.shape[3]\n",
        "    abstract_grid_shape.append(intensity)\n",
        "    image_grid_shape.append(intensity)\n",
        " \n",
        "  result = (array.reshape(*abstract_grid_shape)\n",
        "            .swapaxes(1,2)\n",
        "            .reshape(*image_grid_shape))\n",
        "  return result\n"
      ],
      "execution_count": 17,
      "outputs": []
    },
    {
      "metadata": {
        "id": "yp9Y2dYl7K_-",
        "colab_type": "text"
      },
      "cell_type": "markdown",
      "source": [
        "In order to showcase the use of this function, we make an array corresponding to a batch of images. For simplicity, our batch will just be 8 copies of the red image above.\n",
        "\n",
        "**Before continuing let `red_image` denote the red image you created in the previous exercise.**"
      ]
    },
    {
      "metadata": {
        "id": "9nSw-q-SINiR",
        "colab_type": "code",
        "colab": {
          "autoexec": {
            "startup": false,
            "wait_interval": 0
          },
          "base_uri": "https://localhost:8080/",
          "height": 17
        },
        "outputId": "ed121596-26fd-4cd4-b8ec-9e6f838efbda",
        "executionInfo": {
          "status": "ok",
          "timestamp": 1530870477989,
          "user_tz": -60,
          "elapsed": 569,
          "user": {
            "displayName": "David Szepesvari",
            "photoUrl": "//lh3.googleusercontent.com/-b59pEhK2Mu4/AAAAAAAAAAI/AAAAAAAABYk/II49sX2Iiac/s50-c-k-no/photo.jpg",
            "userId": "112028855906936668175"
          }
        }
      },
      "cell_type": "code",
      "source": [
        "red_image = red_image  # Replace the second `red_image` by your red image"
      ],
      "execution_count": 18,
      "outputs": []
    },
    {
      "metadata": {
        "id": "FWnJD0WjIZyS",
        "colab_type": "code",
        "colab": {
          "autoexec": {
            "startup": false,
            "wait_interval": 0
          },
          "base_uri": "https://localhost:8080/",
          "height": 35
        },
        "outputId": "21dec88d-d605-4941-b11e-f169b03239af",
        "executionInfo": {
          "status": "ok",
          "timestamp": 1530870478658,
          "user_tz": -60,
          "elapsed": 498,
          "user": {
            "displayName": "David Szepesvari",
            "photoUrl": "//lh3.googleusercontent.com/-b59pEhK2Mu4/AAAAAAAAAAI/AAAAAAAABYk/II49sX2Iiac/s50-c-k-no/photo.jpg",
            "userId": "112028855906936668175"
          }
        }
      },
      "cell_type": "code",
      "source": [
        "batch_of_images = np.stack([red_image] * 9, axis=0)\n",
        "batch_of_images.shape"
      ],
      "execution_count": 19,
      "outputs": [
        {
          "output_type": "execute_result",
          "data": {
            "text/plain": [
              "(9, 30, 30, 3)"
            ]
          },
          "metadata": {
            "tags": []
          },
          "execution_count": 19
        }
      ]
    },
    {
      "metadata": {
        "id": "94HvpWpBAkwY",
        "colab_type": "text"
      },
      "cell_type": "markdown",
      "source": [
        "### Exercise: Use the `gallery` helper function\n",
        "\n",
        "To display the `batch_of_images` we just created in a 3x3 grid."
      ]
    },
    {
      "metadata": {
        "id": "m9QGtoU4BW6j",
        "colab_type": "code",
        "colab": {
          "autoexec": {
            "startup": false,
            "wait_interval": 0
          },
          "base_uri": "https://localhost:8080/",
          "height": 17
        },
        "outputId": "a2402037-c0fb-493a-d59a-a636a592b357",
        "executionInfo": {
          "status": "ok",
          "timestamp": 1530870479231,
          "user_tz": -60,
          "elapsed": 467,
          "user": {
            "displayName": "David Szepesvari",
            "photoUrl": "//lh3.googleusercontent.com/-b59pEhK2Mu4/AAAAAAAAAAI/AAAAAAAABYk/II49sX2Iiac/s50-c-k-no/photo.jpg",
            "userId": "112028855906936668175"
          }
        }
      },
      "cell_type": "code",
      "source": [
        "#@title Your Code\n",
        "\n",
        "## Your code here ##"
      ],
      "execution_count": 20,
      "outputs": []
    },
    {
      "metadata": {
        "id": "YA0rgSbY9OTp",
        "colab_type": "code",
        "colab": {
          "autoexec": {
            "startup": false,
            "wait_interval": 0
          },
          "base_uri": "https://localhost:8080/",
          "height": 359
        },
        "cellView": "form",
        "outputId": "39c0945d-1423-4e0f-c6f9-2bad296c1632",
        "executionInfo": {
          "status": "ok",
          "timestamp": 1530870479805,
          "user_tz": -60,
          "elapsed": 505,
          "user": {
            "displayName": "David Szepesvari",
            "photoUrl": "//lh3.googleusercontent.com/-b59pEhK2Mu4/AAAAAAAAAAI/AAAAAAAABYk/II49sX2Iiac/s50-c-k-no/photo.jpg",
            "userId": "112028855906936668175"
          }
        }
      },
      "cell_type": "code",
      "source": [
        "#@title Solution\n",
        "\n",
        "plt.figure()\n",
        "plt.axis('off')\n",
        "plt.imshow(gallery(batch_of_images, ncols=3, rescale=False))\n",
        "plt.show()"
      ],
      "execution_count": 21,
      "outputs": [
        {
          "output_type": "display_data",
          "data": {
            "image/png": "[encoded data removed]",
            "text/plain": [
              "<matplotlib.figure.Figure at 0x7f3f201039d0>"
            ]
          },
          "metadata": {
            "tags": []
          }
        }
      ]
    },
    {
      "metadata": {
        "id": "EUL0KYtHJqC4",
        "colab_type": "text"
      },
      "cell_type": "markdown",
      "source": [
        "You may want to change the size of the figure, like so:"
      ]
    },
    {
      "metadata": {
        "id": "6q3Lf6zhJyRE",
        "colab_type": "code",
        "colab": {
          "autoexec": {
            "startup": false,
            "wait_interval": 0
          },
          "base_uri": "https://localhost:8080/",
          "height": 223
        },
        "outputId": "1302ee55-4050-4b31-8a3b-b5e7ff264d74",
        "executionInfo": {
          "status": "ok",
          "timestamp": 1530870480423,
          "user_tz": -60,
          "elapsed": 512,
          "user": {
            "displayName": "David Szepesvari",
            "photoUrl": "//lh3.googleusercontent.com/-b59pEhK2Mu4/AAAAAAAAAAI/AAAAAAAABYk/II49sX2Iiac/s50-c-k-no/photo.jpg",
            "userId": "112028855906936668175"
          }
        }
      },
      "cell_type": "code",
      "source": [
        "plt.figure(figsize=(3, 3))\n",
        "plt.gray()\n",
        "plt.axis('off')\n",
        "plt.imshow(gallery(batch_of_images, ncols=3, rescale=False))\n",
        "plt.show()"
      ],
      "execution_count": 22,
      "outputs": [
        {
          "output_type": "display_data",
          "data": {
            "image/png": "[encoded data removed]",
            "text/plain": [
              "<matplotlib.figure.Figure at 0x7f3f201774d0>"
            ]
          },
          "metadata": {
            "tags": []
          }
        }
      ]
    },
    {
      "metadata": {
        "id": "DgtndZYlZ4Wn",
        "colab_type": "text"
      },
      "cell_type": "markdown",
      "source": [
        "### Final Notes\n",
        "\n",
        "`matplotlib` has many different types of plots and is really flexible. You can make any plot you can imagine with it. $^{TM}$.\n",
        "\n",
        "#### Seaborn\n",
        "\n",
        "The [seaborn](https://seaborn.pydata.org/) package is very good at making many standard, beautiful and potentially complex plots. We do not cover it here, though. You *may* have noticed that we imported it with `import seaborn as sns`: we use it for its style presets only. This was applied by running `sns.set_style('ticks')`.\n"
      ]
    },
    {
      "metadata": {
        "id": "XtvAE6FiaXkI",
        "colab_type": "code",
        "colab": {
          "autoexec": {
            "startup": false,
            "wait_interval": 0
          },
          "base_uri": "https://localhost:8080/",
          "height": 37
        },
        "outputId": "2c71f359-8344-473b-bc58-17fd61143a07",
        "executionInfo": {
          "status": "ok",
          "timestamp": 1530870480975,
          "user_tz": -60,
          "elapsed": 481,
          "user": {
            "displayName": "David Szepesvari",
            "photoUrl": "//lh3.googleusercontent.com/-b59pEhK2Mu4/AAAAAAAAAAI/AAAAAAAABYk/II49sX2Iiac/s50-c-k-no/photo.jpg",
            "userId": "112028855906936668175"
          }
        }
      },
      "cell_type": "code",
      "source": [
        ""
      ],
      "execution_count": 22,
      "outputs": []
    }
  ]
}