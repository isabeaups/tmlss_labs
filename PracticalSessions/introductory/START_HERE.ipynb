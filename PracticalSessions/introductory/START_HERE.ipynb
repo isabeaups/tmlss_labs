{
  "nbformat": 4,
  "nbformat_minor": 0,
  "metadata": {
    "colab": {
      "name": "START_HERE.ipynb",
      "version": "0.3.2",
      "views": {},
      "default_view": {},
      "provenance": [
        {
          "file_id": "1hGdIysJ72pcMLr2ePjtP-cAYDPA7uWTq",
          "timestamp": 1530537925470
        }
      ],
      "collapsed_sections": []
    }
  },
  "cells": [
    {
      "metadata": {
        "id": "Bu7WMlH79HLk",
        "colab_type": "text"
      },
      "cell_type": "markdown",
      "source": [
        "# Hello, TMLSS!\n",
        "\n",
        "This colaboratory (colab) will help you get prepared for the rest of the practical sessions at TMLSS:\n",
        "\n",
        "* ConvNets and Computer Vision\n",
        "* RNNs and NLP\n",
        "* VAEs and GANs\n",
        "* Reinforcement Learning\n",
        "\n",
        "Here you will get familiar with the environment and tools used in the rest of the practical sessions. **We strongly encourage you to go through these tutorials before the school.** There are small exercises throughout the sections to help you internalize the topics covered and to check your understanding. Finally, there is also a comprehensive exercise where you use all these tools to train an mnist digit classifier. **The other lab sessions will assume you can do this.**\n",
        "\n",
        "The introductory lab session itself will be used to clarify any questions.\n",
        "\n"
      ]
    },
    {
      "metadata": {
        "id": "AwkR0GZuA6P6",
        "colab_type": "text"
      },
      "cell_type": "markdown",
      "source": [
        "\n",
        "*Practical Note*: if you haven't done so add these colabs into your Google Drive, then view, edit, and run them with [colab](https://colab.research.google.com).\n"
      ]
    },
    {
      "metadata": {
        "id": "GZPhciavPqGs",
        "colab_type": "text"
      },
      "cell_type": "markdown",
      "source": [
        "## Lab 1.1: What is colab?\n",
        "\n",
        "This colab teaches you about colab and its main features. You will need to know this for the rest of the labs as you will write all code in colab. \n",
        "\n",
        "Open the file *Intro: Colab.ipynb* to access the colab.\n"
      ]
    },
    {
      "metadata": {
        "id": "lzg1D-qYRyOA",
        "colab_type": "text"
      },
      "cell_type": "markdown",
      "source": [
        "## Lab 1.2: Numpy\n",
        "\n",
        "This colab introduces you to numpy, the python package we use for computing. Topics such as\n",
        "\n",
        "* array creation\n",
        "* operations on arrays\n",
        "* indexing and selection on arrays\n",
        "* broadcasting\n",
        "\n",
        "are covered.\n",
        "\n",
        "By the end of this colab you will have written a function to generate datasets for learning the NXOR function.\n",
        "\n",
        "Open the file *Intro: Numpy.ipynb* to access the colab.\n"
      ]
    },
    {
      "metadata": {
        "id": "DDtysC3tRyD6",
        "colab_type": "text"
      },
      "cell_type": "markdown",
      "source": [
        "## Lab 1.3: Plotting with matplotlib, more numpy\n",
        "\n",
        "In this colab we generate the plot included with the definition of the NXOR function. In the process we use some more features of numpy.\n",
        "\n",
        "Other than the plot above, we also see how to use matplotlib to\n",
        "\n",
        "* draw line plots so we can visualize training curves later, and\n",
        "* display images, or galleries of images so we can visualize the output of our VAEs and GANs.\n",
        "\n",
        "Open the file *Intro: Plotting.ipynb* to access the colab.\n"
      ]
    },
    {
      "metadata": {
        "id": "sGHiArqHRx50",
        "colab_type": "text"
      },
      "cell_type": "markdown",
      "source": [
        "## Lab 1.4: Training an NXOR classifier with Tensorflow and Sonnet\n",
        "\n",
        "In this colab you learn how to build tf and [`sonnet`](https://github.com/deepmind/sonnet#) models that will be useful in the computer vision and NLP lab. We also cover topics like\n",
        "\n",
        "* a number of lower level tensor operations\n",
        "* visualizing the model we built\n",
        "* getting the data into our model\n",
        "* debugging tensorflow models\n",
        "* backpropagation as implemented by tensorflow\n",
        "* how to actually train the network.\n",
        "\n",
        "By the end of the colab you will have trained a classifier that approximates the NXOR function.\n",
        "\n",
        "Open the file *Intro_Tensorflow_and_Sonnet.ipynb* to access the colab.\n"
      ]
    },
    {
      "metadata": {
        "id": "CD1iwdI0oCZR",
        "colab_type": "text"
      },
      "cell_type": "markdown",
      "source": [
        "## Exercise: putting everything together\n",
        "\n",
        "In this colab you will write code for a model that learns to classify mnist digits. You will use sonnet and tensorflow, tracking training progress with matplotlib.\n",
        "\n",
        "Colabs:\n",
        "\n",
        "* Exercise: *Comprehensive Exercise.ipynb*\n",
        "* Solutions: *Comprehensive Exercise [Solution].ipynb*\n"
      ]
    },
    {
      "metadata": {
        "id": "E7JiCdmAYAye",
        "colab_type": "text"
      },
      "cell_type": "markdown",
      "source": [
        "## Lab 1.5: Working with Distributions in Tensorflow\n",
        "\n",
        "In this colab we fit a simple gaussian distribution to data using tensorflow. This idea forms the basis of the more advanced techniques covered in the Generative models lab.\n",
        "\n",
        "Open the file *Intro: Learning a Distribution.ipynb* to access the colab.\n"
      ]
    },
    {
      "metadata": {
        "id": "XCq-oTxkPqn6",
        "colab_type": "code",
        "colab": {
          "autoexec": {
            "startup": false,
            "wait_interval": 0
          }
        }
      },
      "cell_type": "code",
      "source": [
        ""
      ],
      "execution_count": 0,
      "outputs": []
    }
  ]
}