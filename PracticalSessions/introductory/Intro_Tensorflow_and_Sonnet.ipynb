{
  "nbformat": 4,
  "nbformat_minor": 0,
  "metadata": {
    "colab": {
      "name": "Intro_Tensorflow_and_Sonnet.ipynb",
      "version": "0.3.2",
      "views": {},
      "default_view": {},
      "provenance": [
        {
          "file_id": "1eshmh5Y1DcHo6XSh-bvSd6gMJVPp4ihP",
          "timestamp": 1530546200550
        }
      ],
      "collapsed_sections": [],
      "toc_visible": true
    }
  },
  "cells": [
    {
      "metadata": {
        "id": "Mh6dGF4NpnxX",
        "colab_type": "text"
      },
      "cell_type": "markdown",
      "source": [
        "# Introduction to Tensorflow and Sonnet\n",
        "\n",
        "By the end of this colab you will have trained a neural net to approximate the NXOR function based on some data. In the process you will have learnt about\n",
        "\n",
        "* some useful tensorflow tensor operations\n",
        "* building a model with *Tensorflow* and *Sonnet*\n",
        "* visualizing the model you built\n",
        "* getting the data into your model\n",
        "* backpropagation as implemented by tensorflow\n",
        "* debugging tensorflow models\n",
        "* how to actually train the network.\n",
        "\n",
        "Recall: you can use the outline on the right hand side to navigate the colab easier.\n"
      ]
    },
    {
      "metadata": {
        "id": "fTqcFF-_gDRD",
        "colab_type": "code",
        "colab": {
          "autoexec": {
            "startup": false,
            "wait_interval": 0
          },
          "base_uri": "https://localhost:8080/",
          "height": 143
        },
        "outputId": "f437f9e9-f551-4318-8430-03f767b20fa2",
        "executionInfo": {
          "status": "ok",
          "timestamp": 1530876899098,
          "user_tz": -60,
          "elapsed": 3114,
          "user": {
            "displayName": "David Szepesvari",
            "photoUrl": "//lh3.googleusercontent.com/-b59pEhK2Mu4/AAAAAAAAAAI/AAAAAAAABYk/II49sX2Iiac/s50-c-k-no/photo.jpg",
            "userId": "112028855906936668175"
          }
        }
      },
      "cell_type": "code",
      "source": [
        "#@title Fetching (DM) sonnet from pip. Run this cell.\n",
        "!pip install dm-sonnet"
      ],
      "execution_count": 2,
      "outputs": [
        {
          "output_type": "stream",
          "text": [
            "Collecting dm-sonnet\n",
            "\u001b[?25l  Downloading https://files.pythonhosted.org/packages/2d/af/77f1a710952f90783f1fcf36eee6bb4191768175c8fe0c7f3fae3b0a3ac6/dm_sonnet-1.23-py2-none-any.whl (616kB)\n",
            "\u001b[K    100% |████████████████████████████████| 624kB 5.2MB/s \n",
            "\u001b[?25hRequirement already satisfied: six in /usr/local/lib/python2.7/dist-packages (from dm-sonnet) (1.11.0)\n",
            "Requirement already satisfied: absl-py in /usr/local/lib/python2.7/dist-packages (from dm-sonnet) (0.2.2)\n",
            "Installing collected packages: dm-sonnet\n",
            "Successfully installed dm-sonnet-1.23\n"
          ],
          "name": "stdout"
        }
      ]
    },
    {
      "metadata": {
        "id": "HFzztlr1p1F9",
        "colab_type": "code",
        "colab": {
          "autoexec": {
            "startup": false,
            "wait_interval": 0
          }
        }
      },
      "cell_type": "code",
      "source": [
        "#@title Imports. Run this cell.\n",
        "\n",
        "from __future__ import absolute_import\n",
        "from __future__ import division\n",
        "from __future__ import print_function\n",
        "\n",
        "import random\n",
        "import seaborn as sns\n",
        "import numpy as np\n",
        "import tensorflow as tf\n",
        "import sonnet as snt\n",
        "\n",
        "from matplotlib import pyplot as plt\n",
        "from google.colab import files\n",
        "from scipy.stats import multivariate_normal\n",
        "from IPython.display import clear_output, Image, display, HTML\n",
        "\n",
        "sns.set_style('ticks')\n",
        "\n"
      ],
      "execution_count": 0,
      "outputs": []
    },
    {
      "metadata": {
        "id": "naSbSB6q1K1e",
        "colab_type": "code",
        "colab": {
          "autoexec": {
            "startup": false,
            "wait_interval": 0
          }
        },
        "cellView": "form"
      },
      "cell_type": "code",
      "source": [
        "#@title Utility functions. Run this cell.\n",
        "\n",
        "def get_data(num_examples):\n",
        "  inputs = 2*np.random.random((num_examples, 2)) - 1\n",
        "  labels = np.prod(inputs, axis=1)\n",
        "  labels[labels <= 0] = -1 \n",
        "  labels[labels > 0] = 1 \n",
        "  return inputs, labels\n",
        "\n",
        "\n",
        "def plot_nxor_data(inputs, labels, title):\n",
        "  MARKER_COLORS = np.array([\n",
        "      [1.0, 0.0, 0.0],  # red for -1 \n",
        "      [0.0, 1.0, 0.0],  # green for +1\n",
        "  ])\n",
        "  class_idx = (labels + 1 / 2.0).astype(np.int)\n",
        "\n",
        "  plt.figure()\n",
        "  plt.title(title)\n",
        "  plt.scatter(\n",
        "      x=inputs[:, 0], y=inputs[:, 1], c=MARKER_COLORS[class_idx], alpha=0.9)\n",
        "  plt.legend()\n",
        "  plt.show()\n",
        "  \n",
        "\n",
        "def strip_consts(graph_def, max_const_size=32):\n",
        "    \"\"\"Strip large constant values from graph_def.\"\"\"\n",
        "    strip_def = tf.GraphDef()\n",
        "    for n0 in graph_def.node:\n",
        "        n = strip_def.node.add() \n",
        "        n.MergeFrom(n0)\n",
        "        if n.op == 'Const':\n",
        "            tensor = n.attr['value'].tensor\n",
        "            size = len(tensor.tensor_content)\n",
        "            if size > max_const_size:\n",
        "                tensor.tensor_content = \"<stripped %d bytes>\"%size\n",
        "    return strip_def\n",
        "\n",
        "  \n",
        "def show_graph(graph_def=None, max_const_size=32):\n",
        "    \"\"\"Visualize TensorFlow graph. Default to the default graph.\"\"\"\n",
        "    if graph_def is None:\n",
        "      graph_def = tf.get_default_graph()\n",
        "    if hasattr(graph_def, 'as_graph_def'):\n",
        "        graph_def = graph_def.as_graph_def()\n",
        "    strip_def = strip_consts(graph_def, max_const_size=max_const_size)\n",
        "    code = \"\"\"\n",
        "        <script src=\"//cdnjs.cloudflare.com/ajax/libs/polymer/0.3.3/platform.js\"></script>\n",
        "        <script>\n",
        "          function load() {{\n",
        "            document.getElementById(\"{id}\").pbtxt = {data};\n",
        "          }}\n",
        "        </script>\n",
        "        <link rel=\"import\" href=\"https://tensorboard.appspot.com/tf-graph-basic.build.html\" onload=load()>\n",
        "        <div style=\"height:600px\">\n",
        "          <tf-graph-basic id=\"{id}\"></tf-graph-basic>\n",
        "        </div>\n",
        "    \"\"\".format(data=repr(str(strip_def)), id='graph'+str(np.random.rand()))\n",
        "\n",
        "    iframe = \"\"\"\n",
        "        <iframe seamless style=\"width:1200px;height:620px;border:0\" srcdoc=\"{}\"></iframe>\n",
        "    \"\"\".format(code.replace('\"', '&quot;'))\n",
        "    display(HTML(iframe))"
      ],
      "execution_count": 0,
      "outputs": []
    },
    {
      "metadata": {
        "id": "UVPFcNlJftrQ",
        "colab_type": "text"
      },
      "cell_type": "markdown",
      "source": [
        "## The TensorFlow Paradigm\n",
        "\n",
        "This section is not necessarily a fully complete introduction to tensorflow. If you are not familiar with tensorflow or don't feel comfortable with some of the content consider using a third party tutorial or the tensorflow documentation.\n",
        "\n",
        "Instead this colab focuses on exploring the ideas underlying tensorflow and working with it, highlighting important concepts along the way.\n"
      ]
    },
    {
      "metadata": {
        "id": "aPaS-ObaIuyE",
        "colab_type": "text"
      },
      "cell_type": "markdown",
      "source": [
        "**There are two distinct phases when it comes to working with tensorflow:**\n",
        "\n",
        "1. Constructing the computation graph, our model,\n",
        "2. Running data through this graph.\n",
        "\n",
        "We soon see what this means.\n",
        "\n",
        "*Note:* that with TensorFlow *Eager mode* this is not the case anymore: there the two phases happen hand in hand. Here we work with *Graph mode*, however."
      ]
    },
    {
      "metadata": {
        "id": "OYynIRfG150V",
        "colab_type": "text"
      },
      "cell_type": "markdown",
      "source": [
        "### Building and displaying graphs\n",
        "\n",
        "Let's build a simple computation graph:"
      ]
    },
    {
      "metadata": {
        "id": "gpcEcp-8sKwE",
        "colab_type": "code",
        "colab": {
          "autoexec": {
            "startup": false,
            "wait_interval": 0
          },
          "base_uri": "https://localhost:8080/",
          "height": 35
        },
        "outputId": "6f9d427e-3898-4648-ec6b-81951917c6ba",
        "executionInfo": {
          "status": "ok",
          "timestamp": 1530876904246,
          "user_tz": -60,
          "elapsed": 630,
          "user": {
            "displayName": "David Szepesvari",
            "photoUrl": "//lh3.googleusercontent.com/-b59pEhK2Mu4/AAAAAAAAAAI/AAAAAAAABYk/II49sX2Iiac/s50-c-k-no/photo.jpg",
            "userId": "112028855906936668175"
          }
        }
      },
      "cell_type": "code",
      "source": [
        "a = tf.constant([5, 3, 1])\n",
        "b = tf.constant([-1, 2, 5])\n",
        "c = a + b\n",
        "c"
      ],
      "execution_count": 5,
      "outputs": [
        {
          "output_type": "execute_result",
          "data": {
            "text/plain": [
              "<tf.Tensor 'add:0' shape=(3,) dtype=int32>"
            ]
          },
          "metadata": {
            "tags": []
          },
          "execution_count": 5
        }
      ]
    },
    {
      "metadata": {
        "id": "1Z7kU1QAsYRz",
        "colab_type": "text"
      },
      "cell_type": "markdown",
      "source": [
        "Notice that `c` has no value associated. It is actually a (reference to a) node in the computation graph we just defined: tensorflow knows that to find the value of `c`, it needs to query the values of the nodes `a` and `b` and add them. \n"
      ]
    },
    {
      "metadata": {
        "id": "pIhpA_m-vcjw",
        "colab_type": "text"
      },
      "cell_type": "markdown",
      "source": [
        "**In tensorflow all computation is implemented as operations on tensors (or variables, etc), and this computation forms a graph.**\n",
        "\n",
        "* We add tensors and operations to a graph with our Python code and libraries. \n",
        "* The tensorflow API [docs](https://www.tensorflow.org/api_docs/python/) list all available operations.\n",
        "* In practice many -- if not most -- `numpy` operations have a tensorflow counterpart, though often not by that same name."
      ]
    },
    {
      "metadata": {
        "id": "iYB9fb3KzbdN",
        "colab_type": "text"
      },
      "cell_type": "markdown",
      "source": [
        "We can visualize the graph we have built so far. `show_graph()` is a utility function we defined above; it shows the tensorboard graph representation of the graph you pass to it, right here in colab."
      ]
    },
    {
      "metadata": {
        "id": "i7mfP36k1dbz",
        "colab_type": "code",
        "colab": {
          "autoexec": {
            "startup": false,
            "wait_interval": 0
          },
          "base_uri": "https://localhost:8080/",
          "height": 640
        },
        "outputId": "ae6f282f-38b7-4c9d-91c6-c41486cee46c",
        "executionInfo": {
          "status": "ok",
          "timestamp": 1530876904898,
          "user_tz": -60,
          "elapsed": 530,
          "user": {
            "displayName": "David Szepesvari",
            "photoUrl": "//lh3.googleusercontent.com/-b59pEhK2Mu4/AAAAAAAAAAI/AAAAAAAABYk/II49sX2Iiac/s50-c-k-no/photo.jpg",
            "userId": "112028855906936668175"
          }
        }
      },
      "cell_type": "code",
      "source": [
        "show_graph(tf.get_default_graph())"
      ],
      "execution_count": 6,
      "outputs": [
        {
          "output_type": "display_data",
          "data": {
            "text/plain": [
              "<IPython.core.display.HTML object>"
            ],
            "text/html": [
              "\n",
              "        <iframe seamless style=\"width:1200px;height:620px;border:0\" srcdoc=\"\n",
              "        <script>\n",
              "          function load() {\n",
              "            document.getElementById(&quot;graph0.663535589225&quot;).pbtxt = 'node {\\n  name: &quot;Const&quot;\\n  op: &quot;Const&quot;\\n  attr {\\n    key: &quot;dtype&quot;\\n    value {\\n      type: DT_INT32\\n    }\\n  }\\n  attr {\\n    key: &quot;value&quot;\\n    value {\\n      tensor {\\n        dtype: DT_INT32\\n        tensor_shape {\\n          dim {\\n            size: 3\\n          }\\n        }\\n        tensor_content: &quot;\\\\005\\\\000\\\\000\\\\000\\\\003\\\\000\\\\000\\\\000\\\\001\\\\000\\\\000\\\\000&quot;\\n      }\\n    }\\n  }\\n}\\nnode {\\n  name: &quot;Const_1&quot;\\n  op: &quot;Const&quot;\\n  attr {\\n    key: &quot;dtype&quot;\\n    value {\\n      type: DT_INT32\\n    }\\n  }\\n  attr {\\n    key: &quot;value&quot;\\n    value {\\n      tensor {\\n        dtype: DT_INT32\\n        tensor_shape {\\n          dim {\\n            size: 3\\n          }\\n        }\\n        tensor_content: &quot;\\\\377\\\\377\\\\377\\\\377\\\\002\\\\000\\\\000\\\\000\\\\005\\\\000\\\\000\\\\000&quot;\\n      }\\n    }\\n  }\\n}\\nnode {\\n  name: &quot;add&quot;\\n  op: &quot;Add&quot;\\n  input: &quot;Const&quot;\\n  input: &quot;Const_1&quot;\\n  attr {\\n    key: &quot;T&quot;\\n    value {\\n      type: DT_INT32\\n    }\\n  }\\n}\\n';\n",
              "          }\n",
              "        </script>\n",
              "        <link rel=&quot;import&quot; href=&quot;https://tensorboard.appspot.com/tf-graph-basic.build.html&quot; onload=load()>\n",
              "        <div style=&quot;height:600px&quot;>\n",
              "          <tf-graph-basic id=&quot;graph0.663535589225&quot;></tf-graph-basic>\n",
              "        </div>\n",
              "    \"></iframe>\n",
              "    "
            ]
          },
          "metadata": {
            "tags": []
          }
        }
      ]
    },
    {
      "metadata": {
        "id": "RC17oYAE1dhx",
        "colab_type": "text"
      },
      "cell_type": "markdown",
      "source": [
        "Note that in tensorflow you can have many graphs at the same time. By default, unless otherwise specified, we are building the so called \"default graph\" that we accessed with `tf.get_default_graph()`."
      ]
    },
    {
      "metadata": {
        "id": "kXEufNds1uM-",
        "colab_type": "text"
      },
      "cell_type": "markdown",
      "source": [
        "### Resetting the default graph\n",
        "\n",
        "Recall that colab cells run in arbitrary order, maintaining python state between them. Therefore, if you run a cell that adds some tensors or operations to the graph, you will add more and more copies of them to the graph. This is probably not what you want.\n",
        "\n",
        "**Try running the cell where we defined node `c` a few more times, then visualizing the graph.** You will see multiply copies the same nodes."
      ]
    },
    {
      "metadata": {
        "id": "Yfv-3PiDL4Tz",
        "colab_type": "text"
      },
      "cell_type": "markdown",
      "source": [
        "To solve this issue, tensorflow has `tf.reset_default_graph()`, which clears everything from the default graph."
      ]
    },
    {
      "metadata": {
        "id": "yn7tl-2I2eqz",
        "colab_type": "code",
        "colab": {
          "autoexec": {
            "startup": false,
            "wait_interval": 0
          },
          "base_uri": "https://localhost:8080/",
          "height": 640
        },
        "outputId": "d44b7cd2-93d5-4c90-a68e-62858be6cb64",
        "executionInfo": {
          "status": "ok",
          "timestamp": 1530876905549,
          "user_tz": -60,
          "elapsed": 489,
          "user": {
            "displayName": "David Szepesvari",
            "photoUrl": "//lh3.googleusercontent.com/-b59pEhK2Mu4/AAAAAAAAAAI/AAAAAAAABYk/II49sX2Iiac/s50-c-k-no/photo.jpg",
            "userId": "112028855906936668175"
          }
        }
      },
      "cell_type": "code",
      "source": [
        "tf.reset_default_graph()\n",
        "a = tf.constant(5, name='a')\n",
        "b = tf.constant(-1, name='b')\n",
        "c = tf.add(a, b, name='c')\n",
        "show_graph(tf.get_default_graph())"
      ],
      "execution_count": 7,
      "outputs": [
        {
          "output_type": "display_data",
          "data": {
            "text/plain": [
              "<IPython.core.display.HTML object>"
            ],
            "text/html": [
              "\n",
              "        <iframe seamless style=\"width:1200px;height:620px;border:0\" srcdoc=\"\n",
              "        <script>\n",
              "          function load() {\n",
              "            document.getElementById(&quot;graph0.291838048996&quot;).pbtxt = 'node {\\n  name: &quot;a&quot;\\n  op: &quot;Const&quot;\\n  attr {\\n    key: &quot;dtype&quot;\\n    value {\\n      type: DT_INT32\\n    }\\n  }\\n  attr {\\n    key: &quot;value&quot;\\n    value {\\n      tensor {\\n        dtype: DT_INT32\\n        tensor_shape {\\n        }\\n        int_val: 5\\n      }\\n    }\\n  }\\n}\\nnode {\\n  name: &quot;b&quot;\\n  op: &quot;Const&quot;\\n  attr {\\n    key: &quot;dtype&quot;\\n    value {\\n      type: DT_INT32\\n    }\\n  }\\n  attr {\\n    key: &quot;value&quot;\\n    value {\\n      tensor {\\n        dtype: DT_INT32\\n        tensor_shape {\\n        }\\n        int_val: -1\\n      }\\n    }\\n  }\\n}\\nnode {\\n  name: &quot;c&quot;\\n  op: &quot;Add&quot;\\n  input: &quot;a&quot;\\n  input: &quot;b&quot;\\n  attr {\\n    key: &quot;T&quot;\\n    value {\\n      type: DT_INT32\\n    }\\n  }\\n}\\n';\n",
              "          }\n",
              "        </script>\n",
              "        <link rel=&quot;import&quot; href=&quot;https://tensorboard.appspot.com/tf-graph-basic.build.html&quot; onload=load()>\n",
              "        <div style=&quot;height:600px&quot;>\n",
              "          <tf-graph-basic id=&quot;graph0.291838048996&quot;></tf-graph-basic>\n",
              "        </div>\n",
              "    \"></iframe>\n",
              "    "
            ]
          },
          "metadata": {
            "tags": []
          }
        }
      ]
    },
    {
      "metadata": {
        "id": "7Sg1A_YK1uSX",
        "colab_type": "text"
      },
      "cell_type": "markdown",
      "source": [
        "Whenever in doubt about your current graph, you can just reset it and rebuild it.\n",
        "\n",
        "By the way, notice that in the previous code cell we labelled nodes in the graph using the `name` argument. This can often help us interpret the graph."
      ]
    },
    {
      "metadata": {
        "id": "i6GT1cHLp1Lk",
        "colab_type": "text"
      },
      "cell_type": "markdown",
      "source": [
        "### Running the graph\n",
        "\n",
        "Recall that `c` had no associated value -- we were merely informed that it is a tensor, it's shape, etc. **Tensors only have values when 'run' in a session**."
      ]
    },
    {
      "metadata": {
        "id": "x9CnLzuW4DQW",
        "colab_type": "code",
        "colab": {
          "autoexec": {
            "startup": false,
            "wait_interval": 0
          },
          "base_uri": "https://localhost:8080/",
          "height": 35
        },
        "outputId": "67500ed3-b189-414e-8204-3e905269a86a",
        "executionInfo": {
          "status": "ok",
          "timestamp": 1530876906210,
          "user_tz": -60,
          "elapsed": 518,
          "user": {
            "displayName": "David Szepesvari",
            "photoUrl": "//lh3.googleusercontent.com/-b59pEhK2Mu4/AAAAAAAAAAI/AAAAAAAABYk/II49sX2Iiac/s50-c-k-no/photo.jpg",
            "userId": "112028855906936668175"
          }
        }
      },
      "cell_type": "code",
      "source": [
        "tf.reset_default_graph()\n",
        "a = tf.constant([5, 2], name='a')\n",
        "b = tf.constant([-1, 0], name='b')\n",
        "c = tf.add(a, b, name='c')\n",
        "\n",
        "with tf.Session() as session:\n",
        "  print(session.run(c))"
      ],
      "execution_count": 8,
      "outputs": [
        {
          "output_type": "stream",
          "text": [
            "[4 2]\n"
          ],
          "name": "stdout"
        }
      ]
    },
    {
      "metadata": {
        "id": "N-DIUd_B0HBg",
        "colab_type": "text"
      },
      "cell_type": "markdown",
      "source": [
        "What really happens is that when you pass a graph node (operation, tensor, etc) to `session.run()`, tensorflow figures out what is the minimal subset of the graph to run in order to satisfy your request, and runs only that. It's difficult to appreciate this in the context of the simple graphs we had so far, but we will see a good example shortly.\n"
      ]
    },
    {
      "metadata": {
        "id": "KLSwi1NBxj11",
        "colab_type": "text"
      },
      "cell_type": "markdown",
      "source": [
        "You can run any node from your graph, or a combination of them."
      ]
    },
    {
      "metadata": {
        "id": "1gibFQ3_xkz1",
        "colab_type": "code",
        "colab": {
          "autoexec": {
            "startup": false,
            "wait_interval": 0
          },
          "base_uri": "https://localhost:8080/",
          "height": 71
        },
        "outputId": "470e002f-69d2-4078-e294-580b1fdb6dbb",
        "executionInfo": {
          "status": "ok",
          "timestamp": 1530876907087,
          "user_tz": -60,
          "elapsed": 549,
          "user": {
            "displayName": "David Szepesvari",
            "photoUrl": "//lh3.googleusercontent.com/-b59pEhK2Mu4/AAAAAAAAAAI/AAAAAAAABYk/II49sX2Iiac/s50-c-k-no/photo.jpg",
            "userId": "112028855906936668175"
          }
        }
      },
      "cell_type": "code",
      "source": [
        "with tf.Session() as session:\n",
        "  print('a:', session.run(a))  # As noted above, in this case addition\n",
        "                               # (required to find the value of c) is not even\n",
        "                               # executed.\n",
        "  print('[b, c]:', session.run([b, c]))\n",
        "  print(session.run({'a': a, 'c': c}))\n"
      ],
      "execution_count": 9,
      "outputs": [
        {
          "output_type": "stream",
          "text": [
            "a: [5 2]\n",
            "[b, c]: [array([-1,  0], dtype=int32), array([4, 2], dtype=int32)]\n",
            "{'a': array([5, 2], dtype=int32), 'c': array([4, 2], dtype=int32)}\n"
          ],
          "name": "stdout"
        }
      ]
    },
    {
      "metadata": {
        "id": "UY1I6AnRzxKM",
        "colab_type": "text"
      },
      "cell_type": "markdown",
      "source": [
        "The data flows through the graph just once, but tensorflow runs all requested operations and tensors (along with their dependencies), returning their calculated values. We can easily illustrate how this work with tensors that get a new random value each time you run them. **Try predicting the pattern before inspecting the printed results!**"
      ]
    },
    {
      "metadata": {
        "id": "o0x5QAcq1rc4",
        "colab_type": "code",
        "colab": {
          "autoexec": {
            "startup": false,
            "wait_interval": 0
          },
          "base_uri": "https://localhost:8080/",
          "height": 53
        },
        "outputId": "6975dbc8-54e7-4e00-87c2-c2a1103835ca",
        "executionInfo": {
          "status": "ok",
          "timestamp": 1530876907824,
          "user_tz": -60,
          "elapsed": 472,
          "user": {
            "displayName": "David Szepesvari",
            "photoUrl": "//lh3.googleusercontent.com/-b59pEhK2Mu4/AAAAAAAAAAI/AAAAAAAABYk/II49sX2Iiac/s50-c-k-no/photo.jpg",
            "userId": "112028855906936668175"
          }
        }
      },
      "cell_type": "code",
      "source": [
        "tf.reset_default_graph()\n",
        "r = tf.random_normal(shape=(3,), mean=0.0, stddev=1.0)\n",
        "x1 = r + 1  # Shifted +1\n",
        "x2 = r - 1  # Shifted -1\n",
        "\n",
        "with tf.Session() as session:\n",
        "  print('x1, x2 run separately:', session.run(x1), session.run(x2))\n",
        "  print('x1, x2 run together  :', session.run([x1, x2]))"
      ],
      "execution_count": 10,
      "outputs": [
        {
          "output_type": "stream",
          "text": [
            "x1, x2 run separately: [2.7944055  1.1527228  0.74674654] [-0.6340132  -0.60872245 -1.6632466 ]\n",
            "x1, x2 run together  : [array([-0.77623546,  1.6187279 ,  1.4918889 ], dtype=float32), array([-2.7762356 , -0.38127208, -0.5081111 ], dtype=float32)]\n"
          ],
          "name": "stdout"
        }
      ]
    },
    {
      "metadata": {
        "id": "HEP8J_ON3IhI",
        "colab_type": "text"
      },
      "cell_type": "markdown",
      "source": [
        "Notice that\n",
        "\n",
        "* when x1 and x2 were run together, the difference between correpsonding entries is always 2,\n",
        "* while this is not the case when they were run separately.\n",
        "\n",
        "This is because when run together, `r` is sampled once, and both `x1` and `x2` use this same value."
      ]
    },
    {
      "metadata": {
        "id": "U_6zhb8OPQ68",
        "colab_type": "text"
      },
      "cell_type": "markdown",
      "source": [
        "We now highlight what this means for neural network training implemented in tensorflow.\n",
        "\n",
        "### A neural network example of tensorflow's computational model \n",
        "\n",
        "All computation required to train the network will be implemented as a tensorflow computation graph. In particular you will have tensor and operations like\n",
        "\n",
        "* `train`: take a training step on some data,\n",
        "* `loss`: calculate the loss on some data,\n",
        "* `outputs`: give you predictions on some data,\n",
        "* and so on.\n",
        "\n",
        "Given the computation model of tensorflow:\n",
        "\n",
        "* You will be able to `run(loss)` to calculate the loss, and **without triggering the training step computation**.\n",
        "* On the other hand, running `train` will calculate the `loss` since this is what it needs to optimize.\n",
        "\n",
        "If you `run([loss, train])`, tensorflow will take a training step and report the loss, **both based on the same data**.\n",
        "\n",
        "\n",
        "As a final note, the fact that only the **minimal required subset of nodes are run** is going to be crucial when using BatchNorm: the ops that update the statistics kept in BatchNorm are not dependencies of any other ops, therefore will not get run automatically. You will experiment with this in the ConvNets and Vision Lab."
      ]
    },
    {
      "metadata": {
        "id": "vSLzoomC4yY3",
        "colab_type": "text"
      },
      "cell_type": "markdown",
      "source": [
        "### Running a graph with state and inputs\n",
        "\n",
        "Our examples so far have been silly in the sense that they were straightforward computation on constants, not warranting a computation graph. We now showcase a situation where the value of a tensor is not defined until it is run; this is because the value is dependent on data fed to the graph at running time."
      ]
    },
    {
      "metadata": {
        "id": "3GjCHShI468O",
        "colab_type": "code",
        "colab": {
          "autoexec": {
            "startup": false,
            "wait_interval": 0
          },
          "base_uri": "https://localhost:8080/",
          "height": 53
        },
        "outputId": "11d45d28-a767-4b12-e18b-d64131958e13",
        "executionInfo": {
          "status": "ok",
          "timestamp": 1530876908433,
          "user_tz": -60,
          "elapsed": 502,
          "user": {
            "displayName": "David Szepesvari",
            "photoUrl": "//lh3.googleusercontent.com/-b59pEhK2Mu4/AAAAAAAAAAI/AAAAAAAABYk/II49sX2Iiac/s50-c-k-no/photo.jpg",
            "userId": "112028855906936668175"
          }
        }
      },
      "cell_type": "code",
      "source": [
        "tf.reset_default_graph()\n",
        "a = tf.placeholder(dtype=tf.int32, shape=(), name='input')\n",
        "b = tf.constant(-1, name='b')\n",
        "c = tf.add(a, b, name='c')\n",
        "\n",
        "with tf.Session() as session:\n",
        "  print(session.run(c, feed_dict={a: 3}))\n",
        "  print(session.run(c, feed_dict={a: 10}))"
      ],
      "execution_count": 11,
      "outputs": [
        {
          "output_type": "stream",
          "text": [
            "2\n",
            "9\n"
          ],
          "name": "stdout"
        }
      ]
    },
    {
      "metadata": {
        "id": "XEeJPNHFgtlW",
        "colab_type": "text"
      },
      "cell_type": "markdown",
      "source": [
        "We used a `tf.placeholder`. These are tensors that have no value or computation associated to them by default, instead they simply take data so this data can be computed on by the rest of the graph.\n",
        "\n",
        "Note that, at the same time, **any tensor may be fed with some data**."
      ]
    },
    {
      "metadata": {
        "id": "88G0QbH44DWX",
        "colab_type": "text"
      },
      "cell_type": "markdown",
      "source": [
        "Another strength of the computation graph approach is that some nodes may be stateful. The most common stateful node is a *variable*. **A variable is a tensor that remembers its value between run calls**. This also means **it must be initialized**. \n",
        "\n",
        "In the following example `a` will be a variable. We also define an `inc` operation that increments the value of `a` by 1 each time this operation is run."
      ]
    },
    {
      "metadata": {
        "id": "Dym9zktt6MkU",
        "colab_type": "code",
        "colab": {
          "autoexec": {
            "startup": false,
            "wait_interval": 0
          },
          "base_uri": "https://localhost:8080/",
          "height": 71
        },
        "outputId": "5ac966ad-5ad2-4a12-a298-f404ec324b47",
        "executionInfo": {
          "status": "ok",
          "timestamp": 1530876909043,
          "user_tz": -60,
          "elapsed": 481,
          "user": {
            "displayName": "David Szepesvari",
            "photoUrl": "//lh3.googleusercontent.com/-b59pEhK2Mu4/AAAAAAAAAAI/AAAAAAAABYk/II49sX2Iiac/s50-c-k-no/photo.jpg",
            "userId": "112028855906936668175"
          }
        }
      },
      "cell_type": "code",
      "source": [
        "tf.reset_default_graph()\n",
        "a = tf.get_variable('counter', shape=(), dtype=tf.int64)\n",
        "inc = tf.assign(a, a+1)\n",
        "init_op = tf.global_variables_initializer()\n",
        "\n",
        "with tf.Session() as session:\n",
        "  session.run(init_op)     # Sets an initial value for a.\n",
        "  print(session.run(a))    # By default, this is 0.\n",
        "  print(session.run(a))\n",
        "  session.run(inc)\n",
        "  session.run(inc)\n",
        "  print(session.run(a))    # We see the variable was incremented (twice).\n",
        "  # If you were to print the output of inc, you see that it actually\n",
        "  # returns the value of a post-increment. This is a convenience feature\n",
        "  # of tf.assign().\n",
        "  "
      ],
      "execution_count": 12,
      "outputs": [
        {
          "output_type": "stream",
          "text": [
            "0\n",
            "0\n",
            "2\n"
          ],
          "name": "stdout"
        }
      ]
    },
    {
      "metadata": {
        "id": "6gcSLObKiB2-",
        "colab_type": "text"
      },
      "cell_type": "markdown",
      "source": [
        "Statefulness is highly relevant to us since the weights of our machine learning models are stored as variables and are updated by some operations in `session.run` calls during training."
      ]
    },
    {
      "metadata": {
        "id": "SMndofivB1UA",
        "colab_type": "text"
      },
      "cell_type": "markdown",
      "source": [
        "### Quick Tour of Control dependencies and Race conditions\n",
        "\n",
        "*These topics do not often come up when training simple neural networks, but they are core concepts of tensorflow and you should be familiar with them.*\n",
        "\n",
        "With the introduction of stateful graph components we need to revisit the rule that tensorflow only executes the minimal set of operations required by a `run()` call. **Try predicting the output of the following cell.**\n"
      ]
    },
    {
      "metadata": {
        "id": "CcfLCBN6B1wg",
        "colab_type": "code",
        "colab": {
          "autoexec": {
            "startup": false,
            "wait_interval": 0
          },
          "base_uri": "https://localhost:8080/",
          "height": 35
        },
        "outputId": "6c1ae68f-25e7-494f-d4bd-79adffdfb6b4",
        "executionInfo": {
          "status": "ok",
          "timestamp": 1530876909676,
          "user_tz": -60,
          "elapsed": 517,
          "user": {
            "displayName": "David Szepesvari",
            "photoUrl": "//lh3.googleusercontent.com/-b59pEhK2Mu4/AAAAAAAAAAI/AAAAAAAABYk/II49sX2Iiac/s50-c-k-no/photo.jpg",
            "userId": "112028855906936668175"
          }
        }
      },
      "cell_type": "code",
      "source": [
        "tf.reset_default_graph()\n",
        "x = tf.get_variable(\"x\", shape=(), initializer=tf.zeros_initializer())\n",
        "assign_x = tf.assign(x, 10.0)\n",
        "z = x + 1.0\n",
        "\n",
        "init = tf.global_variables_initializer()\n",
        "with tf.Session() as session:\n",
        "  session.run(init)\n",
        "  print(session.run(z))"
      ],
      "execution_count": 13,
      "outputs": [
        {
          "output_type": "stream",
          "text": [
            "1.0\n"
          ],
          "name": "stdout"
        }
      ]
    },
    {
      "metadata": {
        "id": "2GG5vevHC2Ln",
        "colab_type": "text"
      },
      "cell_type": "markdown",
      "source": [
        "From tensorflow's perspective,\n",
        "\n",
        "* There is a variable `x`, which starts with value 0,\n",
        "* `z` is always `x+1`,\n",
        "* with `assign_x` you can set the value of `x` to 10.\n",
        "\n",
        "So if you simply ask for the value of `z`, tensorflow evaluates the minimal subset of the graph it needs and reports that `z = 0 + 1`.  This is reflected in the graph as well."
      ]
    },
    {
      "metadata": {
        "id": "RWragQhLC2Sq",
        "colab_type": "code",
        "colab": {
          "autoexec": {
            "startup": false,
            "wait_interval": 0
          },
          "base_uri": "https://localhost:8080/",
          "height": 640
        },
        "outputId": "99d6aad3-923b-4fe5-ce2a-2df853b9941e",
        "executionInfo": {
          "status": "ok",
          "timestamp": 1530876910301,
          "user_tz": -60,
          "elapsed": 497,
          "user": {
            "displayName": "David Szepesvari",
            "photoUrl": "//lh3.googleusercontent.com/-b59pEhK2Mu4/AAAAAAAAAAI/AAAAAAAABYk/II49sX2Iiac/s50-c-k-no/photo.jpg",
            "userId": "112028855906936668175"
          }
        }
      },
      "cell_type": "code",
      "source": [
        "show_graph()"
      ],
      "execution_count": 14,
      "outputs": [
        {
          "output_type": "display_data",
          "data": {
            "text/plain": [
              "<IPython.core.display.HTML object>"
            ],
            "text/html": [
              "\n",
              "        <iframe seamless style=\"width:1200px;height:620px;border:0\" srcdoc=\"\n",
              "        <script>\n",
              "          function load() {\n",
              "            document.getElementById(&quot;graph0.980829979428&quot;).pbtxt = 'node {\\n  name: &quot;x/Initializer/zeros&quot;\\n  op: &quot;Const&quot;\\n  attr {\\n    key: &quot;_class&quot;\\n    value {\\n      list {\\n        s: &quot;loc:@x&quot;\\n      }\\n    }\\n  }\\n  attr {\\n    key: &quot;dtype&quot;\\n    value {\\n      type: DT_FLOAT\\n    }\\n  }\\n  attr {\\n    key: &quot;value&quot;\\n    value {\\n      tensor {\\n        dtype: DT_FLOAT\\n        tensor_shape {\\n        }\\n        float_val: 0.0\\n      }\\n    }\\n  }\\n}\\nnode {\\n  name: &quot;x&quot;\\n  op: &quot;VariableV2&quot;\\n  attr {\\n    key: &quot;_class&quot;\\n    value {\\n      list {\\n        s: &quot;loc:@x&quot;\\n      }\\n    }\\n  }\\n  attr {\\n    key: &quot;container&quot;\\n    value {\\n      s: &quot;&quot;\\n    }\\n  }\\n  attr {\\n    key: &quot;dtype&quot;\\n    value {\\n      type: DT_FLOAT\\n    }\\n  }\\n  attr {\\n    key: &quot;shape&quot;\\n    value {\\n      shape {\\n      }\\n    }\\n  }\\n  attr {\\n    key: &quot;shared_name&quot;\\n    value {\\n      s: &quot;&quot;\\n    }\\n  }\\n}\\nnode {\\n  name: &quot;x/Assign&quot;\\n  op: &quot;Assign&quot;\\n  input: &quot;x&quot;\\n  input: &quot;x/Initializer/zeros&quot;\\n  attr {\\n    key: &quot;T&quot;\\n    value {\\n      type: DT_FLOAT\\n    }\\n  }\\n  attr {\\n    key: &quot;_class&quot;\\n    value {\\n      list {\\n        s: &quot;loc:@x&quot;\\n      }\\n    }\\n  }\\n  attr {\\n    key: &quot;use_locking&quot;\\n    value {\\n      b: true\\n    }\\n  }\\n  attr {\\n    key: &quot;validate_shape&quot;\\n    value {\\n      b: true\\n    }\\n  }\\n}\\nnode {\\n  name: &quot;x/read&quot;\\n  op: &quot;Identity&quot;\\n  input: &quot;x&quot;\\n  attr {\\n    key: &quot;T&quot;\\n    value {\\n      type: DT_FLOAT\\n    }\\n  }\\n  attr {\\n    key: &quot;_class&quot;\\n    value {\\n      list {\\n        s: &quot;loc:@x&quot;\\n      }\\n    }\\n  }\\n}\\nnode {\\n  name: &quot;Assign/value&quot;\\n  op: &quot;Const&quot;\\n  attr {\\n    key: &quot;dtype&quot;\\n    value {\\n      type: DT_FLOAT\\n    }\\n  }\\n  attr {\\n    key: &quot;value&quot;\\n    value {\\n      tensor {\\n        dtype: DT_FLOAT\\n        tensor_shape {\\n        }\\n        float_val: 10.0\\n      }\\n    }\\n  }\\n}\\nnode {\\n  name: &quot;Assign&quot;\\n  op: &quot;Assign&quot;\\n  input: &quot;x&quot;\\n  input: &quot;Assign/value&quot;\\n  attr {\\n    key: &quot;T&quot;\\n    value {\\n      type: DT_FLOAT\\n    }\\n  }\\n  attr {\\n    key: &quot;_class&quot;\\n    value {\\n      list {\\n        s: &quot;loc:@x&quot;\\n      }\\n    }\\n  }\\n  attr {\\n    key: &quot;use_locking&quot;\\n    value {\\n      b: true\\n    }\\n  }\\n  attr {\\n    key: &quot;validate_shape&quot;\\n    value {\\n      b: true\\n    }\\n  }\\n}\\nnode {\\n  name: &quot;add/y&quot;\\n  op: &quot;Const&quot;\\n  attr {\\n    key: &quot;dtype&quot;\\n    value {\\n      type: DT_FLOAT\\n    }\\n  }\\n  attr {\\n    key: &quot;value&quot;\\n    value {\\n      tensor {\\n        dtype: DT_FLOAT\\n        tensor_shape {\\n        }\\n        float_val: 1.0\\n      }\\n    }\\n  }\\n}\\nnode {\\n  name: &quot;add&quot;\\n  op: &quot;Add&quot;\\n  input: &quot;x/read&quot;\\n  input: &quot;add/y&quot;\\n  attr {\\n    key: &quot;T&quot;\\n    value {\\n      type: DT_FLOAT\\n    }\\n  }\\n}\\nnode {\\n  name: &quot;init&quot;\\n  op: &quot;NoOp&quot;\\n  input: &quot;^x/Assign&quot;\\n}\\n';\n",
              "          }\n",
              "        </script>\n",
              "        <link rel=&quot;import&quot; href=&quot;https://tensorboard.appspot.com/tf-graph-basic.build.html&quot; onload=load()>\n",
              "        <div style=&quot;height:600px&quot;>\n",
              "          <tf-graph-basic id=&quot;graph0.980829979428&quot;></tf-graph-basic>\n",
              "        </div>\n",
              "    \"></iframe>\n",
              "    "
            ]
          },
          "metadata": {
            "tags": []
          }
        }
      ]
    },
    {
      "metadata": {
        "id": "9j_eg2vUC2ZA",
        "colab_type": "text"
      },
      "cell_type": "markdown",
      "source": [
        "If you want `x` incremented by 10 before using it to calculate `z`, you need to tell tensorflow.  You can do so by specifying `assign_x` as a (control_)dependency of z."
      ]
    },
    {
      "metadata": {
        "id": "5ZPI-FIqDdKD",
        "colab_type": "code",
        "colab": {
          "autoexec": {
            "startup": false,
            "wait_interval": 0
          },
          "base_uri": "https://localhost:8080/",
          "height": 35
        },
        "outputId": "39da3585-b9b4-42fd-bd2a-b26bda7302b9",
        "executionInfo": {
          "status": "ok",
          "timestamp": 1530876910996,
          "user_tz": -60,
          "elapsed": 581,
          "user": {
            "displayName": "David Szepesvari",
            "photoUrl": "//lh3.googleusercontent.com/-b59pEhK2Mu4/AAAAAAAAAAI/AAAAAAAABYk/II49sX2Iiac/s50-c-k-no/photo.jpg",
            "userId": "112028855906936668175"
          }
        }
      },
      "cell_type": "code",
      "source": [
        "tf.reset_default_graph()\n",
        "x = tf.get_variable(\"x\", shape=(), initializer=tf.zeros_initializer())\n",
        "assign_x = tf.assign(x, 10.0)\n",
        "with tf.control_dependencies([assign_x]):\n",
        "  z = x + 1.0\n",
        "\n",
        "init = tf.global_variables_initializer()\n",
        "with tf.Session() as session:\n",
        "  session.run(init)\n",
        "  print(session.run(z))"
      ],
      "execution_count": 15,
      "outputs": [
        {
          "output_type": "stream",
          "text": [
            "11.0\n"
          ],
          "name": "stdout"
        }
      ]
    },
    {
      "metadata": {
        "id": "2rvcRUhGDdQu",
        "colab_type": "text"
      },
      "cell_type": "markdown",
      "source": [
        "To be precise, `tf.control_dependencies` ensures all operations / tensors passed to it are run before running the the operations defined inside its body."
      ]
    },
    {
      "metadata": {
        "id": "9jIrvWWzFMZN",
        "colab_type": "text"
      },
      "cell_type": "markdown",
      "source": [
        "The other rule to keep in mind is that **Tensorflow is inherently parallel.** If there are computation subgraphs that do not depend on each other, they can -- and likely will be -- evaluated in parallel. We use the same generic example to illustrate this."
      ]
    },
    {
      "metadata": {
        "id": "yyN-AnRfGABu",
        "colab_type": "code",
        "colab": {
          "autoexec": {
            "startup": false,
            "wait_interval": 0
          },
          "base_uri": "https://localhost:8080/",
          "height": 197
        },
        "outputId": "19e5b39f-0b5d-4841-b444-e515967c36d2",
        "executionInfo": {
          "status": "ok",
          "timestamp": 1530876912306,
          "user_tz": -60,
          "elapsed": 508,
          "user": {
            "displayName": "David Szepesvari",
            "photoUrl": "//lh3.googleusercontent.com/-b59pEhK2Mu4/AAAAAAAAAAI/AAAAAAAABYk/II49sX2Iiac/s50-c-k-no/photo.jpg",
            "userId": "112028855906936668175"
          }
        }
      },
      "cell_type": "code",
      "source": [
        "tf.reset_default_graph()\n",
        "x = tf.get_variable(\"x\", shape=(), initializer=tf.zeros_initializer())\n",
        "z = x + 1.0\n",
        "assign_x10 = tf.assign(x, 10.0)\n",
        "assign_x5 = tf.assign(x, 5.0)\n",
        "\n",
        "init = tf.global_variables_initializer()\n",
        "with tf.Session() as session:\n",
        "  session.run(init)\n",
        "  for _ in range(10):\n",
        "    _, _, z_val = session.run([assign_x10, assign_x5, z])\n",
        "    print(z_val)\n",
        "  "
      ],
      "execution_count": 17,
      "outputs": [
        {
          "output_type": "stream",
          "text": [
            "1.0\n",
            "6.0\n",
            "11.0\n",
            "6.0\n",
            "6.0\n",
            "6.0\n",
            "6.0\n",
            "11.0\n",
            "6.0\n",
            "6.0\n"
          ],
          "name": "stdout"
        }
      ]
    },
    {
      "metadata": {
        "id": "68duXIjaFMis",
        "colab_type": "text"
      },
      "cell_type": "markdown",
      "source": [
        "We can see that `z` can take various values: its value will depend on what order the different operations get run -- which we don't control. (If you do not see different values, re-run the cell until you do.)"
      ]
    },
    {
      "metadata": {
        "id": "akMRszLOMFXi",
        "colab_type": "text"
      },
      "cell_type": "markdown",
      "source": [
        "The lesson is that **if you care about the order of otherwise independent operations, you must be explicit about this**. "
      ]
    },
    {
      "metadata": {
        "id": "woBAfFv7h5ua",
        "colab_type": "text"
      },
      "cell_type": "markdown",
      "source": [
        "### Exercise: \"Interactive Tensorflow Summing Machine\"\n",
        "\n",
        "Write a tensorflow graph which keeps a running sum of the integers passed to it through a `feed_dict`. To make sure it works feed the machine a few numbers, printing the cumulative sum after each step."
      ]
    },
    {
      "metadata": {
        "id": "PhmThcmDh6FR",
        "colab_type": "code",
        "colab": {
          "autoexec": {
            "startup": false,
            "wait_interval": 0
          }
        }
      },
      "cell_type": "code",
      "source": [
        "#@title Your Code"
      ],
      "execution_count": 0,
      "outputs": []
    },
    {
      "metadata": {
        "id": "9jTyd1LrilBt",
        "colab_type": "code",
        "colab": {
          "autoexec": {
            "startup": false,
            "wait_interval": 0
          },
          "base_uri": "https://localhost:8080/",
          "height": 107
        },
        "cellView": "form",
        "outputId": "c43a4876-2c8d-4137-8874-1b0e1e0bbc46",
        "executionInfo": {
          "status": "ok",
          "timestamp": 1530876913738,
          "user_tz": -60,
          "elapsed": 494,
          "user": {
            "displayName": "David Szepesvari",
            "photoUrl": "//lh3.googleusercontent.com/-b59pEhK2Mu4/AAAAAAAAAAI/AAAAAAAABYk/II49sX2Iiac/s50-c-k-no/photo.jpg",
            "userId": "112028855906936668175"
          }
        }
      },
      "cell_type": "code",
      "source": [
        "#@title Solution\n",
        "\n",
        "tf.reset_default_graph()\n",
        "cumulative_sum = tf.get_variable('sum', shape=(), dtype=tf.int64)\n",
        "to_add = tf.placeholder(dtype=tf.int64, shape=(), name='input')\n",
        "add = tf.assign(cumulative_sum, cumulative_sum + to_add)\n",
        "init_op = tf.global_variables_initializer()\n",
        "\n",
        "with tf.Session() as session:\n",
        "  session.run(init_op)  # Sets an initial value for a.\n",
        "  for i in range(1, 6):\n",
        "    print('cumulative sum={}; adding {}.'.format(session.run(cumulative_sum), i))\n",
        "    session.run(add, feed_dict={to_add: i})\n",
        "  "
      ],
      "execution_count": 19,
      "outputs": [
        {
          "output_type": "stream",
          "text": [
            "cumulative sum=0; adding 1.\n",
            "cumulative sum=1; adding 2.\n",
            "cumulative sum=3; adding 3.\n",
            "cumulative sum=6; adding 4.\n",
            "cumulative sum=10; adding 5.\n"
          ],
          "name": "stdout"
        }
      ]
    },
    {
      "metadata": {
        "id": "XvriNEgIAbms",
        "colab_type": "text"
      },
      "cell_type": "markdown",
      "source": [
        "## A word (section) on tensorflow tensor shapes\n",
        "\n",
        "Tensors in Tensorflow have **static and dynamic shape**.\n",
        "\n",
        "* Static shape information is known or can be deduced at graph construction time,\n",
        "* Dynamic shape information is only available when data is available.\n",
        "\n",
        "**Static shape may be and is often only partially defined**. For example, we may know that our model expect a batch of examples, each of shape `2 x 2`, but not how large these batches are. This will allow us to feed the computation graph with batches of any size. Once data is fed the tensors will have a known **dynamic shape**."
      ]
    },
    {
      "metadata": {
        "id": "dceGjHt6Ab6y",
        "colab_type": "code",
        "colab": {
          "autoexec": {
            "startup": false,
            "wait_interval": 0
          },
          "base_uri": "https://localhost:8080/",
          "height": 35
        },
        "outputId": "f3d7c7db-ce6a-4215-b06f-5568f726e06b",
        "executionInfo": {
          "status": "ok",
          "timestamp": 1530876914193,
          "user_tz": -60,
          "elapsed": 298,
          "user": {
            "displayName": "David Szepesvari",
            "photoUrl": "//lh3.googleusercontent.com/-b59pEhK2Mu4/AAAAAAAAAAI/AAAAAAAABYk/II49sX2Iiac/s50-c-k-no/photo.jpg",
            "userId": "112028855906936668175"
          }
        }
      },
      "cell_type": "code",
      "source": [
        "tf.reset_default_graph()\n",
        "inputs = tf.placeholder(dtype=tf.int32, shape=(None, 2, 2), name='input')\n",
        "print('static shape:', inputs.shape)\n"
      ],
      "execution_count": 20,
      "outputs": [
        {
          "output_type": "stream",
          "text": [
            "static shape: (?, 2, 2)\n"
          ],
          "name": "stdout"
        }
      ]
    },
    {
      "metadata": {
        "id": "KOZU2rgKBQRl",
        "colab_type": "text"
      },
      "cell_type": "markdown",
      "source": [
        "We pass `None` for axes that we do not know the static length of when specifying a shape. When a tensor or its shape is printed, this is denoted by a question mark, `?`, as seen above.\n"
      ]
    },
    {
      "metadata": {
        "id": "rW8LjIbXhPKG",
        "colab_type": "text"
      },
      "cell_type": "markdown",
      "source": [
        "**Bug-alert:**  Be careful not to confuse passing `(None)` vs `(None,)` as a desired shape. The next cell illustrates the consequences:"
      ]
    },
    {
      "metadata": {
        "id": "FtF9B5mngHMt",
        "colab_type": "code",
        "colab": {
          "autoexec": {
            "startup": false,
            "wait_interval": 0
          },
          "base_uri": "https://localhost:8080/",
          "height": 53
        },
        "outputId": "33798e03-abf5-4a04-af38-6f945ef49029",
        "executionInfo": {
          "status": "ok",
          "timestamp": 1530876914862,
          "user_tz": -60,
          "elapsed": 477,
          "user": {
            "displayName": "David Szepesvari",
            "photoUrl": "//lh3.googleusercontent.com/-b59pEhK2Mu4/AAAAAAAAAAI/AAAAAAAABYk/II49sX2Iiac/s50-c-k-no/photo.jpg",
            "userId": "112028855906936668175"
          }
        }
      },
      "cell_type": "code",
      "source": [
        "inputs_1 = tf.placeholder(dtype=tf.int32, shape=(None), name='input')\n",
        "inputs_2 = tf.placeholder(dtype=tf.int32, shape=(None,), name='input')\n",
        "print(inputs_1.shape)   # Shape that we know nothing about, not even rank.\n",
        "print(inputs_2.shape)   # Tensorflow will assert that the tensor is of rank 1,\n",
        "                        # albeit with unknwon length."
      ],
      "execution_count": 21,
      "outputs": [
        {
          "output_type": "stream",
          "text": [
            "<unknown>\n",
            "(?,)\n"
          ],
          "name": "stdout"
        }
      ]
    },
    {
      "metadata": {
        "id": "2xvgx50cf3B2",
        "colab_type": "text"
      },
      "cell_type": "markdown",
      "source": [
        "The static shape information is used to\n",
        "\n",
        "* verify operations make sense (think matrix multiplication),\n",
        "* infer the static shape of tensors defined through operations (so they can also be checked) .\n",
        "\n",
        "**Example**\n",
        "\n",
        "1. We take `batch (?) x 2 x 2`-shaped tensors, flatten each example in the batch to be a vector of length `4`. Tensorflow will infer the shape of the flattened tensor automatically.\n",
        "2. Then we multiply the now `? x 4`-shaped tensor with a vector. Tensorflow will only allow this to happen if the vector is of length 4, as otherwise the operation makes no sense.\n",
        "\n",
        "(In practice the `tf.matmul` operation we use does not accept vectors, so we will use a `4 x 1` matrix instead.)"
      ]
    },
    {
      "metadata": {
        "id": "s9ANUmVrB7qY",
        "colab_type": "code",
        "colab": {
          "autoexec": {
            "startup": false,
            "wait_interval": 0
          },
          "base_uri": "https://localhost:8080/",
          "height": 53
        },
        "outputId": "a599e7a7-d28f-457e-fa12-7da848e0f9ba",
        "executionInfo": {
          "status": "ok",
          "timestamp": 1530876915680,
          "user_tz": -60,
          "elapsed": 484,
          "user": {
            "displayName": "David Szepesvari",
            "photoUrl": "//lh3.googleusercontent.com/-b59pEhK2Mu4/AAAAAAAAAAI/AAAAAAAABYk/II49sX2Iiac/s50-c-k-no/photo.jpg",
            "userId": "112028855906936668175"
          }
        }
      },
      "cell_type": "code",
      "source": [
        "tf.reset_default_graph()\n",
        "\n",
        "inputs = tf.placeholder(dtype=tf.int32, shape=(None, 2, 2), name='input')\n",
        "flat_inputs = tf.contrib.layers.flatten(inputs)\n",
        "print('flat_inputs static shape', flat_inputs.shape)\n",
        "\n",
        "result = tf.matmul(flat_inputs, tf.constant([[0], [1], [2], [3]], name='ok'))\n",
        "print('result static shape', result.shape)\n",
        "\n",
        "# Uncomment and run to see\n",
        "#\n",
        "# ValueError: Dimensions must be equal, but are 4 and 3 for 'MatMul_4'\n",
        "# (op: 'MatMul') with input shapes: [?,4], [3,1].\n",
        "#\n",
        "#tf.matmul(flat_inputs, tf.constant([[0], [1], [2]], name='shape_mismatch'))\n"
      ],
      "execution_count": 22,
      "outputs": [
        {
          "output_type": "stream",
          "text": [
            "flat_inputs static shape (?, 4)\n",
            "result static shape (?, 1)\n"
          ],
          "name": "stdout"
        }
      ]
    },
    {
      "metadata": {
        "id": "TlHbOikVBvwo",
        "colab_type": "text"
      },
      "cell_type": "markdown",
      "source": [
        "It happens sometimes (e.g. for custom operations) that tensorflow is not be able to infer the static shape of the resulting tensor.  f you know the expected shape, you can explicitly set it using `tensor.set_shape()`. This will allow tensorflow to infer and check later shapes."
      ]
    },
    {
      "metadata": {
        "id": "bolN-5BRF2Pf",
        "colab_type": "text"
      },
      "cell_type": "markdown",
      "source": [
        "Finally, let us try working with the dynamic shape of a tensor."
      ]
    },
    {
      "metadata": {
        "id": "x9U6SsqVBQXc",
        "colab_type": "code",
        "colab": {
          "autoexec": {
            "startup": false,
            "wait_interval": 0
          },
          "base_uri": "https://localhost:8080/",
          "height": 35
        },
        "outputId": "bd5e04ea-1f3b-449e-bba2-4ebff24a2c0d",
        "executionInfo": {
          "status": "ok",
          "timestamp": 1530876916275,
          "user_tz": -60,
          "elapsed": 473,
          "user": {
            "displayName": "David Szepesvari",
            "photoUrl": "//lh3.googleusercontent.com/-b59pEhK2Mu4/AAAAAAAAAAI/AAAAAAAABYk/II49sX2Iiac/s50-c-k-no/photo.jpg",
            "userId": "112028855906936668175"
          }
        }
      },
      "cell_type": "code",
      "source": [
        "print('dynamic shape:', tf.shape(inputs))"
      ],
      "execution_count": 23,
      "outputs": [
        {
          "output_type": "stream",
          "text": [
            "dynamic shape: Tensor(\"Shape:0\", shape=(3,), dtype=int32)\n"
          ],
          "name": "stdout"
        }
      ]
    },
    {
      "metadata": {
        "id": "4sXdJmSLF1l-",
        "colab_type": "text"
      },
      "cell_type": "markdown",
      "source": [
        "The **dynamic shape itself is a tensor** and may (only) be evaluated or computed with once the graph is run in a session."
      ]
    },
    {
      "metadata": {
        "id": "3tFB0_e9GDqi",
        "colab_type": "code",
        "colab": {
          "autoexec": {
            "startup": false,
            "wait_interval": 0
          },
          "base_uri": "https://localhost:8080/",
          "height": 35
        },
        "outputId": "36e02178-e822-473b-a2ec-67c78c3c64b4",
        "executionInfo": {
          "status": "ok",
          "timestamp": 1530876916889,
          "user_tz": -60,
          "elapsed": 492,
          "user": {
            "displayName": "David Szepesvari",
            "photoUrl": "//lh3.googleusercontent.com/-b59pEhK2Mu4/AAAAAAAAAAI/AAAAAAAABYk/II49sX2Iiac/s50-c-k-no/photo.jpg",
            "userId": "112028855906936668175"
          }
        }
      },
      "cell_type": "code",
      "source": [
        "shape = tf.shape(inputs)\n",
        "num_total_elements = tf.reduce_prod(shape)\n",
        "\n",
        "with tf.Session() as session:\n",
        "  print(session.run([shape, num_total_elements], feed_dict={\n",
        "      inputs: np.array(np.random.random((3, 2, 2)))\n",
        "  }))\n"
      ],
      "execution_count": 24,
      "outputs": [
        {
          "output_type": "stream",
          "text": [
            "[array([3, 2, 2], dtype=int32), 12]\n"
          ],
          "name": "stdout"
        }
      ]
    },
    {
      "metadata": {
        "id": "R05v98YcrjeR",
        "colab_type": "text"
      },
      "cell_type": "markdown",
      "source": [
        "### Broadcasting\n",
        "\n",
        "Tensorflow automatically broadcasts operations, similarly to `numpy`. We covered broadcasting in detail in the `numpy` colab. Here we include three common examples."
      ]
    },
    {
      "metadata": {
        "id": "yVAhM_F0qIjP",
        "colab_type": "code",
        "colab": {
          "autoexec": {
            "startup": false,
            "wait_interval": 0
          },
          "base_uri": "https://localhost:8080/",
          "height": 53
        },
        "outputId": "2411fd8a-d719-4086-c499-0d820593e87f",
        "executionInfo": {
          "status": "ok",
          "timestamp": 1530876917460,
          "user_tz": -60,
          "elapsed": 458,
          "user": {
            "displayName": "David Szepesvari",
            "photoUrl": "//lh3.googleusercontent.com/-b59pEhK2Mu4/AAAAAAAAAAI/AAAAAAAABYk/II49sX2Iiac/s50-c-k-no/photo.jpg",
            "userId": "112028855906936668175"
          }
        }
      },
      "cell_type": "code",
      "source": [
        "tf.reset_default_graph()\n",
        "\n",
        "a = tf.constant([[1, 2, 3], [4, 5, 6]], name='a')\n",
        "c = a - 1   # `1` is first turned into a constant,\n",
        "            # then broadcast across the full tensor\n",
        "\n",
        "with tf.Session() as session:\n",
        "    print(session.run(c))"
      ],
      "execution_count": 25,
      "outputs": [
        {
          "output_type": "stream",
          "text": [
            "[[0 1 2]\n",
            " [3 4 5]]\n"
          ],
          "name": "stdout"
        }
      ]
    },
    {
      "metadata": {
        "id": "Wj449M26rj9Z",
        "colab_type": "code",
        "colab": {
          "autoexec": {
            "startup": false,
            "wait_interval": 0
          },
          "base_uri": "https://localhost:8080/",
          "height": 53
        },
        "outputId": "9749e633-17cd-461f-8553-c50f0a16ac90",
        "executionInfo": {
          "status": "ok",
          "timestamp": 1530876918071,
          "user_tz": -60,
          "elapsed": 485,
          "user": {
            "displayName": "David Szepesvari",
            "photoUrl": "//lh3.googleusercontent.com/-b59pEhK2Mu4/AAAAAAAAAAI/AAAAAAAABYk/II49sX2Iiac/s50-c-k-no/photo.jpg",
            "userId": "112028855906936668175"
          }
        }
      },
      "cell_type": "code",
      "source": [
        "tf.reset_default_graph()\n",
        "\n",
        "a = tf.constant([[1, 2, 3], [4, 5, 6]], name='a')\n",
        "b = tf.constant([1000, 100, 10], name='b')\n",
        "c = a + b\n",
        "# a: 2 x 3\n",
        "# b:     3\n",
        "# --> b is copied over across the first axis to calculate c.\n",
        "\n",
        "with tf.Session() as session:\n",
        "    print(session.run(c))"
      ],
      "execution_count": 26,
      "outputs": [
        {
          "output_type": "stream",
          "text": [
            "[[1001  102   13]\n",
            " [1004  105   16]]\n"
          ],
          "name": "stdout"
        }
      ]
    },
    {
      "metadata": {
        "id": "0eC_cWM1s6Ub",
        "colab_type": "code",
        "colab": {
          "autoexec": {
            "startup": false,
            "wait_interval": 0
          }
        }
      },
      "cell_type": "code",
      "source": [
        "tf.reset_default_graph()\n",
        "\n",
        "a = tf.constant([[1, 2, 3], [4, 5, 6]], name='a')\n",
        "b = tf.constant([100, 10], name='b')\n",
        "# a: 2 x 3\n",
        "# b:     2\n",
        "# --> a and b are not compatible;\n",
        "#a + b    # Raises an error.\n",
        "\n",
        "# Instead, b can be defined as [[100], [10]] so that\n",
        "# a: 2 x 3\n",
        "# b: 2 x 1\n",
        "# --> b is copied across the last axis.\n"
      ],
      "execution_count": 0,
      "outputs": []
    },
    {
      "metadata": {
        "id": "X_FfiXzOqb6R",
        "colab_type": "text"
      },
      "cell_type": "markdown",
      "source": [
        "**As a general rule of thumb**\n",
        "\n",
        "* use broadcasting in the simple cases\n",
        "* prefer explicit broadcasting in complex situations.\n",
        "\n",
        "This will result in code that is **easier to read** and has **fewer bugs**."
      ]
    },
    {
      "metadata": {
        "id": "7-_uTExc6M7e",
        "colab_type": "text"
      },
      "cell_type": "markdown",
      "source": [
        "## Building a simple network with Sonnet\n",
        "\n",
        "Instead of building our neural networks in plain Tensorflow, we use the [sonnet](https://github.com/deepmind/sonnet) library.\n",
        "\n",
        "**Sonnet uses an object-oriented approach, similar to Torch/NN.**\n",
        "\n",
        "* This allows modules to be created, which define the forward pass of some computation. \n",
        "* Modules are ‘called’ with some input Tensors, which adds ops to the Graph and returns output Tensors.\n",
        "\n",
        "We call this a **configure-then-connect principle**, which allows for easy reuse of complex modules.\n"
      ]
    },
    {
      "metadata": {
        "id": "vaXAee8c_VwJ",
        "colab_type": "code",
        "colab": {
          "autoexec": {
            "startup": false,
            "wait_interval": 0
          }
        }
      },
      "cell_type": "code",
      "source": [
        "tf.reset_default_graph()  # You can always clear the current graph and\n",
        "                          # add exactly what you need to it."
      ],
      "execution_count": 0,
      "outputs": []
    },
    {
      "metadata": {
        "id": "_JX0ugUkl7dA",
        "colab_type": "text"
      },
      "cell_type": "markdown",
      "source": [
        "Start by creating a Linear module (dense layer)."
      ]
    },
    {
      "metadata": {
        "id": "bXRJB-UN9QgM",
        "colab_type": "code",
        "colab": {
          "autoexec": {
            "startup": false,
            "wait_interval": 0
          },
          "base_uri": "https://localhost:8080/",
          "height": 35
        },
        "outputId": "b75008c8-f746-4b73-fb7e-db096ed7a8a6",
        "executionInfo": {
          "status": "ok",
          "timestamp": 1530876920047,
          "user_tz": -60,
          "elapsed": 494,
          "user": {
            "displayName": "David Szepesvari",
            "photoUrl": "//lh3.googleusercontent.com/-b59pEhK2Mu4/AAAAAAAAAAI/AAAAAAAABYk/II49sX2Iiac/s50-c-k-no/photo.jpg",
            "userId": "112028855906936668175"
          }
        }
      },
      "cell_type": "code",
      "source": [
        "linear = snt.Linear(output_size=5)\n",
        "linear"
      ],
      "execution_count": 29,
      "outputs": [
        {
          "output_type": "execute_result",
          "data": {
            "text/plain": [
              "<sonnet.python.modules.basic.Linear at 0x7f27f53bd550>"
            ]
          },
          "metadata": {
            "tags": []
          },
          "execution_count": 29
        }
      ]
    },
    {
      "metadata": {
        "id": "Nv4ROlyl9Qms",
        "colab_type": "text"
      },
      "cell_type": "markdown",
      "source": [
        "Our input will be batches of 2-long vectors, and we will feed that data to the graph using `feed_dict`s."
      ]
    },
    {
      "metadata": {
        "id": "mzMXfwp0_YeT",
        "colab_type": "code",
        "colab": {
          "autoexec": {
            "startup": false,
            "wait_interval": 0
          }
        }
      },
      "cell_type": "code",
      "source": [
        "inputs_placeholder = tf.placeholder(tf.float32, shape=(None, 2), name='inputs')"
      ],
      "execution_count": 0,
      "outputs": []
    },
    {
      "metadata": {
        "id": "hQO7qLZM_Yrb",
        "colab_type": "text"
      },
      "cell_type": "markdown",
      "source": [
        "As in tensorflow, we \"call\" the module on the tensor that we want it to compute on. This yields a tensor, the output of the calculation."
      ]
    },
    {
      "metadata": {
        "id": "1_4Kmhdp_8jP",
        "colab_type": "code",
        "colab": {
          "autoexec": {
            "startup": false,
            "wait_interval": 0
          }
        }
      },
      "cell_type": "code",
      "source": [
        "pre_activations = linear(inputs_placeholder)"
      ],
      "execution_count": 0,
      "outputs": []
    },
    {
      "metadata": {
        "id": "4wgBGo-f_8rI",
        "colab_type": "text"
      },
      "cell_type": "markdown",
      "source": [
        "To complete our model, we apply a ReLU non-linearity and add a final linear layer with just 1 output."
      ]
    },
    {
      "metadata": {
        "id": "8pKD3uf9_Y1u",
        "colab_type": "code",
        "colab": {
          "autoexec": {
            "startup": false,
            "wait_interval": 0
          },
          "base_uri": "https://localhost:8080/",
          "height": 35
        },
        "outputId": "c7737e59-5708-440c-9397-3e2703616738",
        "executionInfo": {
          "status": "ok",
          "timestamp": 1530876921912,
          "user_tz": -60,
          "elapsed": 531,
          "user": {
            "displayName": "David Szepesvari",
            "photoUrl": "//lh3.googleusercontent.com/-b59pEhK2Mu4/AAAAAAAAAAI/AAAAAAAABYk/II49sX2Iiac/s50-c-k-no/photo.jpg",
            "userId": "112028855906936668175"
          }
        }
      },
      "cell_type": "code",
      "source": [
        "activations = tf.nn.relu(pre_activations)\n",
        "outputs = snt.Linear(output_size=1)(activations)\n",
        "outputs"
      ],
      "execution_count": 32,
      "outputs": [
        {
          "output_type": "execute_result",
          "data": {
            "text/plain": [
              "<tf.Tensor 'linear_1/add:0' shape=(?, 1) dtype=float32>"
            ]
          },
          "metadata": {
            "tags": []
          },
          "execution_count": 32
        }
      ]
    },
    {
      "metadata": {
        "id": "TH0GimMtsgqZ",
        "colab_type": "text"
      },
      "cell_type": "markdown",
      "source": [
        "We drop the final singleton axis so that `outputs` becomes a vector."
      ]
    },
    {
      "metadata": {
        "id": "Nn8wiKbAshd-",
        "colab_type": "code",
        "colab": {
          "autoexec": {
            "startup": false,
            "wait_interval": 0
          },
          "base_uri": "https://localhost:8080/",
          "height": 35
        },
        "outputId": "0ef8ae17-1b8d-4037-c441-245ab595ff37",
        "executionInfo": {
          "status": "ok",
          "timestamp": 1530876922517,
          "user_tz": -60,
          "elapsed": 486,
          "user": {
            "displayName": "David Szepesvari",
            "photoUrl": "//lh3.googleusercontent.com/-b59pEhK2Mu4/AAAAAAAAAAI/AAAAAAAABYk/II49sX2Iiac/s50-c-k-no/photo.jpg",
            "userId": "112028855906936668175"
          }
        }
      },
      "cell_type": "code",
      "source": [
        "outputs = tf.squeeze(outputs, axis=-1)\n",
        "outputs"
      ],
      "execution_count": 33,
      "outputs": [
        {
          "output_type": "execute_result",
          "data": {
            "text/plain": [
              "<tf.Tensor 'Squeeze:0' shape=(?,) dtype=float32>"
            ]
          },
          "metadata": {
            "tags": []
          },
          "execution_count": 33
        }
      ]
    },
    {
      "metadata": {
        "id": "Xst87vC7kaV0",
        "colab_type": "text"
      },
      "cell_type": "markdown",
      "source": [
        "Let's see the graph we built."
      ]
    },
    {
      "metadata": {
        "id": "KJvV-Mggka2s",
        "colab_type": "code",
        "colab": {
          "autoexec": {
            "startup": false,
            "wait_interval": 0
          },
          "base_uri": "https://localhost:8080/",
          "height": 640
        },
        "outputId": "9102b726-7842-483d-8930-a8a2417a417b",
        "executionInfo": {
          "status": "ok",
          "timestamp": 1530876923118,
          "user_tz": -60,
          "elapsed": 489,
          "user": {
            "displayName": "David Szepesvari",
            "photoUrl": "//lh3.googleusercontent.com/-b59pEhK2Mu4/AAAAAAAAAAI/AAAAAAAABYk/II49sX2Iiac/s50-c-k-no/photo.jpg",
            "userId": "112028855906936668175"
          }
        }
      },
      "cell_type": "code",
      "source": [
        "show_graph()   # With no arguments show_graph() shows the default graph."
      ],
      "execution_count": 34,
      "outputs": [
        {
          "output_type": "display_data",
          "data": {
            "text/plain": [
              "<IPython.core.display.HTML object>"
            ],
            "text/html": [
              "\n",
              "        <iframe seamless style=\"width:1200px;height:620px;border:0\" srcdoc=\"\n",
              "        <script>\n",
              "          function load() {\n",
              "            document.getElementById(&quot;graph0.490176235088&quot;).pbtxt = 'node {\\n  name: &quot;inputs&quot;\\n  op: &quot;Placeholder&quot;\\n  attr {\\n    key: &quot;dtype&quot;\\n    value {\\n      type: DT_FLOAT\\n    }\\n  }\\n  attr {\\n    key: &quot;shape&quot;\\n    value {\\n      shape {\\n        dim {\\n          size: -1\\n        }\\n        dim {\\n          size: 2\\n        }\\n      }\\n    }\\n  }\\n}\\nnode {\\n  name: &quot;linear/w/Initializer/truncated_normal/shape&quot;\\n  op: &quot;Const&quot;\\n  attr {\\n    key: &quot;_class&quot;\\n    value {\\n      list {\\n        s: &quot;loc:@linear/w&quot;\\n      }\\n    }\\n  }\\n  attr {\\n    key: &quot;dtype&quot;\\n    value {\\n      type: DT_INT32\\n    }\\n  }\\n  attr {\\n    key: &quot;value&quot;\\n    value {\\n      tensor {\\n        dtype: DT_INT32\\n        tensor_shape {\\n          dim {\\n            size: 2\\n          }\\n        }\\n        tensor_content: &quot;\\\\002\\\\000\\\\000\\\\000\\\\005\\\\000\\\\000\\\\000&quot;\\n      }\\n    }\\n  }\\n}\\nnode {\\n  name: &quot;linear/w/Initializer/truncated_normal/mean&quot;\\n  op: &quot;Const&quot;\\n  attr {\\n    key: &quot;_class&quot;\\n    value {\\n      list {\\n        s: &quot;loc:@linear/w&quot;\\n      }\\n    }\\n  }\\n  attr {\\n    key: &quot;dtype&quot;\\n    value {\\n      type: DT_FLOAT\\n    }\\n  }\\n  attr {\\n    key: &quot;value&quot;\\n    value {\\n      tensor {\\n        dtype: DT_FLOAT\\n        tensor_shape {\\n        }\\n        float_val: 0.0\\n      }\\n    }\\n  }\\n}\\nnode {\\n  name: &quot;linear/w/Initializer/truncated_normal/stddev&quot;\\n  op: &quot;Const&quot;\\n  attr {\\n    key: &quot;_class&quot;\\n    value {\\n      list {\\n        s: &quot;loc:@linear/w&quot;\\n      }\\n    }\\n  }\\n  attr {\\n    key: &quot;dtype&quot;\\n    value {\\n      type: DT_FLOAT\\n    }\\n  }\\n  attr {\\n    key: &quot;value&quot;\\n    value {\\n      tensor {\\n        dtype: DT_FLOAT\\n        tensor_shape {\\n        }\\n        float_val: 0.707106769085\\n      }\\n    }\\n  }\\n}\\nnode {\\n  name: &quot;linear/w/Initializer/truncated_normal/TruncatedNormal&quot;\\n  op: &quot;TruncatedNormal&quot;\\n  input: &quot;linear/w/Initializer/truncated_normal/shape&quot;\\n  attr {\\n    key: &quot;T&quot;\\n    value {\\n      type: DT_INT32\\n    }\\n  }\\n  attr {\\n    key: &quot;_class&quot;\\n    value {\\n      list {\\n        s: &quot;loc:@linear/w&quot;\\n      }\\n    }\\n  }\\n  attr {\\n    key: &quot;dtype&quot;\\n    value {\\n      type: DT_FLOAT\\n    }\\n  }\\n  attr {\\n    key: &quot;seed&quot;\\n    value {\\n      i: 0\\n    }\\n  }\\n  attr {\\n    key: &quot;seed2&quot;\\n    value {\\n      i: 0\\n    }\\n  }\\n}\\nnode {\\n  name: &quot;linear/w/Initializer/truncated_normal/mul&quot;\\n  op: &quot;Mul&quot;\\n  input: &quot;linear/w/Initializer/truncated_normal/TruncatedNormal&quot;\\n  input: &quot;linear/w/Initializer/truncated_normal/stddev&quot;\\n  attr {\\n    key: &quot;T&quot;\\n    value {\\n      type: DT_FLOAT\\n    }\\n  }\\n  attr {\\n    key: &quot;_class&quot;\\n    value {\\n      list {\\n        s: &quot;loc:@linear/w&quot;\\n      }\\n    }\\n  }\\n}\\nnode {\\n  name: &quot;linear/w/Initializer/truncated_normal&quot;\\n  op: &quot;Add&quot;\\n  input: &quot;linear/w/Initializer/truncated_normal/mul&quot;\\n  input: &quot;linear/w/Initializer/truncated_normal/mean&quot;\\n  attr {\\n    key: &quot;T&quot;\\n    value {\\n      type: DT_FLOAT\\n    }\\n  }\\n  attr {\\n    key: &quot;_class&quot;\\n    value {\\n      list {\\n        s: &quot;loc:@linear/w&quot;\\n      }\\n    }\\n  }\\n}\\nnode {\\n  name: &quot;linear/w&quot;\\n  op: &quot;VariableV2&quot;\\n  attr {\\n    key: &quot;_class&quot;\\n    value {\\n      list {\\n        s: &quot;loc:@linear/w&quot;\\n      }\\n    }\\n  }\\n  attr {\\n    key: &quot;container&quot;\\n    value {\\n      s: &quot;&quot;\\n    }\\n  }\\n  attr {\\n    key: &quot;dtype&quot;\\n    value {\\n      type: DT_FLOAT\\n    }\\n  }\\n  attr {\\n    key: &quot;shape&quot;\\n    value {\\n      shape {\\n        dim {\\n          size: 2\\n        }\\n        dim {\\n          size: 5\\n        }\\n      }\\n    }\\n  }\\n  attr {\\n    key: &quot;shared_name&quot;\\n    value {\\n      s: &quot;&quot;\\n    }\\n  }\\n}\\nnode {\\n  name: &quot;linear/w/Assign&quot;\\n  op: &quot;Assign&quot;\\n  input: &quot;linear/w&quot;\\n  input: &quot;linear/w/Initializer/truncated_normal&quot;\\n  attr {\\n    key: &quot;T&quot;\\n    value {\\n      type: DT_FLOAT\\n    }\\n  }\\n  attr {\\n    key: &quot;_class&quot;\\n    value {\\n      list {\\n        s: &quot;loc:@linear/w&quot;\\n      }\\n    }\\n  }\\n  attr {\\n    key: &quot;use_locking&quot;\\n    value {\\n      b: true\\n    }\\n  }\\n  attr {\\n    key: &quot;validate_shape&quot;\\n    value {\\n      b: true\\n    }\\n  }\\n}\\nnode {\\n  name: &quot;linear/w/read&quot;\\n  op: &quot;Identity&quot;\\n  input: &quot;linear/w&quot;\\n  attr {\\n    key: &quot;T&quot;\\n    value {\\n      type: DT_FLOAT\\n    }\\n  }\\n  attr {\\n    key: &quot;_class&quot;\\n    value {\\n      list {\\n        s: &quot;loc:@linear/w&quot;\\n      }\\n    }\\n  }\\n}\\nnode {\\n  name: &quot;linear/MatMul&quot;\\n  op: &quot;MatMul&quot;\\n  input: &quot;inputs&quot;\\n  input: &quot;linear/w/read&quot;\\n  attr {\\n    key: &quot;T&quot;\\n    value {\\n      type: DT_FLOAT\\n    }\\n  }\\n  attr {\\n    key: &quot;transpose_a&quot;\\n    value {\\n      b: false\\n    }\\n  }\\n  attr {\\n    key: &quot;transpose_b&quot;\\n    value {\\n      b: false\\n    }\\n  }\\n}\\nnode {\\n  name: &quot;linear/b/Initializer/zeros&quot;\\n  op: &quot;Const&quot;\\n  attr {\\n    key: &quot;_class&quot;\\n    value {\\n      list {\\n        s: &quot;loc:@linear/b&quot;\\n      }\\n    }\\n  }\\n  attr {\\n    key: &quot;dtype&quot;\\n    value {\\n      type: DT_FLOAT\\n    }\\n  }\\n  attr {\\n    key: &quot;value&quot;\\n    value {\\n      tensor {\\n        dtype: DT_FLOAT\\n        tensor_shape {\\n          dim {\\n            size: 5\\n          }\\n        }\\n        float_val: 0.0\\n      }\\n    }\\n  }\\n}\\nnode {\\n  name: &quot;linear/b&quot;\\n  op: &quot;VariableV2&quot;\\n  attr {\\n    key: &quot;_class&quot;\\n    value {\\n      list {\\n        s: &quot;loc:@linear/b&quot;\\n      }\\n    }\\n  }\\n  attr {\\n    key: &quot;container&quot;\\n    value {\\n      s: &quot;&quot;\\n    }\\n  }\\n  attr {\\n    key: &quot;dtype&quot;\\n    value {\\n      type: DT_FLOAT\\n    }\\n  }\\n  attr {\\n    key: &quot;shape&quot;\\n    value {\\n      shape {\\n        dim {\\n          size: 5\\n        }\\n      }\\n    }\\n  }\\n  attr {\\n    key: &quot;shared_name&quot;\\n    value {\\n      s: &quot;&quot;\\n    }\\n  }\\n}\\nnode {\\n  name: &quot;linear/b/Assign&quot;\\n  op: &quot;Assign&quot;\\n  input: &quot;linear/b&quot;\\n  input: &quot;linear/b/Initializer/zeros&quot;\\n  attr {\\n    key: &quot;T&quot;\\n    value {\\n      type: DT_FLOAT\\n    }\\n  }\\n  attr {\\n    key: &quot;_class&quot;\\n    value {\\n      list {\\n        s: &quot;loc:@linear/b&quot;\\n      }\\n    }\\n  }\\n  attr {\\n    key: &quot;use_locking&quot;\\n    value {\\n      b: true\\n    }\\n  }\\n  attr {\\n    key: &quot;validate_shape&quot;\\n    value {\\n      b: true\\n    }\\n  }\\n}\\nnode {\\n  name: &quot;linear/b/read&quot;\\n  op: &quot;Identity&quot;\\n  input: &quot;linear/b&quot;\\n  attr {\\n    key: &quot;T&quot;\\n    value {\\n      type: DT_FLOAT\\n    }\\n  }\\n  attr {\\n    key: &quot;_class&quot;\\n    value {\\n      list {\\n        s: &quot;loc:@linear/b&quot;\\n      }\\n    }\\n  }\\n}\\nnode {\\n  name: &quot;linear/add&quot;\\n  op: &quot;Add&quot;\\n  input: &quot;linear/MatMul&quot;\\n  input: &quot;linear/b/read&quot;\\n  attr {\\n    key: &quot;T&quot;\\n    value {\\n      type: DT_FLOAT\\n    }\\n  }\\n}\\nnode {\\n  name: &quot;Relu&quot;\\n  op: &quot;Relu&quot;\\n  input: &quot;linear/add&quot;\\n  attr {\\n    key: &quot;T&quot;\\n    value {\\n      type: DT_FLOAT\\n    }\\n  }\\n}\\nnode {\\n  name: &quot;linear_1/w/Initializer/truncated_normal/shape&quot;\\n  op: &quot;Const&quot;\\n  attr {\\n    key: &quot;_class&quot;\\n    value {\\n      list {\\n        s: &quot;loc:@linear_1/w&quot;\\n      }\\n    }\\n  }\\n  attr {\\n    key: &quot;dtype&quot;\\n    value {\\n      type: DT_INT32\\n    }\\n  }\\n  attr {\\n    key: &quot;value&quot;\\n    value {\\n      tensor {\\n        dtype: DT_INT32\\n        tensor_shape {\\n          dim {\\n            size: 2\\n          }\\n        }\\n        tensor_content: &quot;\\\\005\\\\000\\\\000\\\\000\\\\001\\\\000\\\\000\\\\000&quot;\\n      }\\n    }\\n  }\\n}\\nnode {\\n  name: &quot;linear_1/w/Initializer/truncated_normal/mean&quot;\\n  op: &quot;Const&quot;\\n  attr {\\n    key: &quot;_class&quot;\\n    value {\\n      list {\\n        s: &quot;loc:@linear_1/w&quot;\\n      }\\n    }\\n  }\\n  attr {\\n    key: &quot;dtype&quot;\\n    value {\\n      type: DT_FLOAT\\n    }\\n  }\\n  attr {\\n    key: &quot;value&quot;\\n    value {\\n      tensor {\\n        dtype: DT_FLOAT\\n        tensor_shape {\\n        }\\n        float_val: 0.0\\n      }\\n    }\\n  }\\n}\\nnode {\\n  name: &quot;linear_1/w/Initializer/truncated_normal/stddev&quot;\\n  op: &quot;Const&quot;\\n  attr {\\n    key: &quot;_class&quot;\\n    value {\\n      list {\\n        s: &quot;loc:@linear_1/w&quot;\\n      }\\n    }\\n  }\\n  attr {\\n    key: &quot;dtype&quot;\\n    value {\\n      type: DT_FLOAT\\n    }\\n  }\\n  attr {\\n    key: &quot;value&quot;\\n    value {\\n      tensor {\\n        dtype: DT_FLOAT\\n        tensor_shape {\\n        }\\n        float_val: 0.447213590145\\n      }\\n    }\\n  }\\n}\\nnode {\\n  name: &quot;linear_1/w/Initializer/truncated_normal/TruncatedNormal&quot;\\n  op: &quot;TruncatedNormal&quot;\\n  input: &quot;linear_1/w/Initializer/truncated_normal/shape&quot;\\n  attr {\\n    key: &quot;T&quot;\\n    value {\\n      type: DT_INT32\\n    }\\n  }\\n  attr {\\n    key: &quot;_class&quot;\\n    value {\\n      list {\\n        s: &quot;loc:@linear_1/w&quot;\\n      }\\n    }\\n  }\\n  attr {\\n    key: &quot;dtype&quot;\\n    value {\\n      type: DT_FLOAT\\n    }\\n  }\\n  attr {\\n    key: &quot;seed&quot;\\n    value {\\n      i: 0\\n    }\\n  }\\n  attr {\\n    key: &quot;seed2&quot;\\n    value {\\n      i: 0\\n    }\\n  }\\n}\\nnode {\\n  name: &quot;linear_1/w/Initializer/truncated_normal/mul&quot;\\n  op: &quot;Mul&quot;\\n  input: &quot;linear_1/w/Initializer/truncated_normal/TruncatedNormal&quot;\\n  input: &quot;linear_1/w/Initializer/truncated_normal/stddev&quot;\\n  attr {\\n    key: &quot;T&quot;\\n    value {\\n      type: DT_FLOAT\\n    }\\n  }\\n  attr {\\n    key: &quot;_class&quot;\\n    value {\\n      list {\\n        s: &quot;loc:@linear_1/w&quot;\\n      }\\n    }\\n  }\\n}\\nnode {\\n  name: &quot;linear_1/w/Initializer/truncated_normal&quot;\\n  op: &quot;Add&quot;\\n  input: &quot;linear_1/w/Initializer/truncated_normal/mul&quot;\\n  input: &quot;linear_1/w/Initializer/truncated_normal/mean&quot;\\n  attr {\\n    key: &quot;T&quot;\\n    value {\\n      type: DT_FLOAT\\n    }\\n  }\\n  attr {\\n    key: &quot;_class&quot;\\n    value {\\n      list {\\n        s: &quot;loc:@linear_1/w&quot;\\n      }\\n    }\\n  }\\n}\\nnode {\\n  name: &quot;linear_1/w&quot;\\n  op: &quot;VariableV2&quot;\\n  attr {\\n    key: &quot;_class&quot;\\n    value {\\n      list {\\n        s: &quot;loc:@linear_1/w&quot;\\n      }\\n    }\\n  }\\n  attr {\\n    key: &quot;container&quot;\\n    value {\\n      s: &quot;&quot;\\n    }\\n  }\\n  attr {\\n    key: &quot;dtype&quot;\\n    value {\\n      type: DT_FLOAT\\n    }\\n  }\\n  attr {\\n    key: &quot;shape&quot;\\n    value {\\n      shape {\\n        dim {\\n          size: 5\\n        }\\n        dim {\\n          size: 1\\n        }\\n      }\\n    }\\n  }\\n  attr {\\n    key: &quot;shared_name&quot;\\n    value {\\n      s: &quot;&quot;\\n    }\\n  }\\n}\\nnode {\\n  name: &quot;linear_1/w/Assign&quot;\\n  op: &quot;Assign&quot;\\n  input: &quot;linear_1/w&quot;\\n  input: &quot;linear_1/w/Initializer/truncated_normal&quot;\\n  attr {\\n    key: &quot;T&quot;\\n    value {\\n      type: DT_FLOAT\\n    }\\n  }\\n  attr {\\n    key: &quot;_class&quot;\\n    value {\\n      list {\\n        s: &quot;loc:@linear_1/w&quot;\\n      }\\n    }\\n  }\\n  attr {\\n    key: &quot;use_locking&quot;\\n    value {\\n      b: true\\n    }\\n  }\\n  attr {\\n    key: &quot;validate_shape&quot;\\n    value {\\n      b: true\\n    }\\n  }\\n}\\nnode {\\n  name: &quot;linear_1/w/read&quot;\\n  op: &quot;Identity&quot;\\n  input: &quot;linear_1/w&quot;\\n  attr {\\n    key: &quot;T&quot;\\n    value {\\n      type: DT_FLOAT\\n    }\\n  }\\n  attr {\\n    key: &quot;_class&quot;\\n    value {\\n      list {\\n        s: &quot;loc:@linear_1/w&quot;\\n      }\\n    }\\n  }\\n}\\nnode {\\n  name: &quot;linear_1/MatMul&quot;\\n  op: &quot;MatMul&quot;\\n  input: &quot;Relu&quot;\\n  input: &quot;linear_1/w/read&quot;\\n  attr {\\n    key: &quot;T&quot;\\n    value {\\n      type: DT_FLOAT\\n    }\\n  }\\n  attr {\\n    key: &quot;transpose_a&quot;\\n    value {\\n      b: false\\n    }\\n  }\\n  attr {\\n    key: &quot;transpose_b&quot;\\n    value {\\n      b: false\\n    }\\n  }\\n}\\nnode {\\n  name: &quot;linear_1/b/Initializer/zeros&quot;\\n  op: &quot;Const&quot;\\n  attr {\\n    key: &quot;_class&quot;\\n    value {\\n      list {\\n        s: &quot;loc:@linear_1/b&quot;\\n      }\\n    }\\n  }\\n  attr {\\n    key: &quot;dtype&quot;\\n    value {\\n      type: DT_FLOAT\\n    }\\n  }\\n  attr {\\n    key: &quot;value&quot;\\n    value {\\n      tensor {\\n        dtype: DT_FLOAT\\n        tensor_shape {\\n          dim {\\n            size: 1\\n          }\\n        }\\n        float_val: 0.0\\n      }\\n    }\\n  }\\n}\\nnode {\\n  name: &quot;linear_1/b&quot;\\n  op: &quot;VariableV2&quot;\\n  attr {\\n    key: &quot;_class&quot;\\n    value {\\n      list {\\n        s: &quot;loc:@linear_1/b&quot;\\n      }\\n    }\\n  }\\n  attr {\\n    key: &quot;container&quot;\\n    value {\\n      s: &quot;&quot;\\n    }\\n  }\\n  attr {\\n    key: &quot;dtype&quot;\\n    value {\\n      type: DT_FLOAT\\n    }\\n  }\\n  attr {\\n    key: &quot;shape&quot;\\n    value {\\n      shape {\\n        dim {\\n          size: 1\\n        }\\n      }\\n    }\\n  }\\n  attr {\\n    key: &quot;shared_name&quot;\\n    value {\\n      s: &quot;&quot;\\n    }\\n  }\\n}\\nnode {\\n  name: &quot;linear_1/b/Assign&quot;\\n  op: &quot;Assign&quot;\\n  input: &quot;linear_1/b&quot;\\n  input: &quot;linear_1/b/Initializer/zeros&quot;\\n  attr {\\n    key: &quot;T&quot;\\n    value {\\n      type: DT_FLOAT\\n    }\\n  }\\n  attr {\\n    key: &quot;_class&quot;\\n    value {\\n      list {\\n        s: &quot;loc:@linear_1/b&quot;\\n      }\\n    }\\n  }\\n  attr {\\n    key: &quot;use_locking&quot;\\n    value {\\n      b: true\\n    }\\n  }\\n  attr {\\n    key: &quot;validate_shape&quot;\\n    value {\\n      b: true\\n    }\\n  }\\n}\\nnode {\\n  name: &quot;linear_1/b/read&quot;\\n  op: &quot;Identity&quot;\\n  input: &quot;linear_1/b&quot;\\n  attr {\\n    key: &quot;T&quot;\\n    value {\\n      type: DT_FLOAT\\n    }\\n  }\\n  attr {\\n    key: &quot;_class&quot;\\n    value {\\n      list {\\n        s: &quot;loc:@linear_1/b&quot;\\n      }\\n    }\\n  }\\n}\\nnode {\\n  name: &quot;linear_1/add&quot;\\n  op: &quot;Add&quot;\\n  input: &quot;linear_1/MatMul&quot;\\n  input: &quot;linear_1/b/read&quot;\\n  attr {\\n    key: &quot;T&quot;\\n    value {\\n      type: DT_FLOAT\\n    }\\n  }\\n}\\nnode {\\n  name: &quot;Squeeze&quot;\\n  op: &quot;Squeeze&quot;\\n  input: &quot;linear_1/add&quot;\\n  attr {\\n    key: &quot;T&quot;\\n    value {\\n      type: DT_FLOAT\\n    }\\n  }\\n  attr {\\n    key: &quot;squeeze_dims&quot;\\n    value {\\n      list {\\n        i: -1\\n      }\\n    }\\n  }\\n}\\n';\n",
              "          }\n",
              "        </script>\n",
              "        <link rel=&quot;import&quot; href=&quot;https://tensorboard.appspot.com/tf-graph-basic.build.html&quot; onload=load()>\n",
              "        <div style=&quot;height:600px&quot;>\n",
              "          <tf-graph-basic id=&quot;graph0.490176235088&quot;></tf-graph-basic>\n",
              "        </div>\n",
              "    \"></iframe>\n",
              "    "
            ]
          },
          "metadata": {
            "tags": []
          }
        }
      ]
    },
    {
      "metadata": {
        "id": "9H3q1yfMkewp",
        "colab_type": "text"
      },
      "cell_type": "markdown",
      "source": [
        "You can explore the exact set of tensorflow operations that were created the sonnet code by expanding colored boxes. **We can verify that each linear layer implements $WX+b$ for $X$ inputs and $W$ weights and $b$ bias with basic tensorflow operations**."
      ]
    },
    {
      "metadata": {
        "id": "0I76TX0ql3Q8",
        "colab_type": "text"
      },
      "cell_type": "markdown",
      "source": [
        "Let's pass some data through our model. We will use the data generating function we wrote in the numpy colab. (It is redefined at the top of this colab)."
      ]
    },
    {
      "metadata": {
        "id": "Dugx7fxknxsV",
        "colab_type": "code",
        "colab": {
          "autoexec": {
            "startup": false,
            "wait_interval": 0
          }
        }
      },
      "cell_type": "code",
      "source": [
        "init_op = tf.global_variables_initializer()"
      ],
      "execution_count": 0,
      "outputs": []
    },
    {
      "metadata": {
        "id": "tCtNXgVAke4Q",
        "colab_type": "code",
        "colab": {
          "autoexec": {
            "startup": false,
            "wait_interval": 0
          },
          "base_uri": "https://localhost:8080/",
          "height": 53
        },
        "outputId": "94856381-665b-44f1-8c5c-785a673ba14c",
        "executionInfo": {
          "status": "ok",
          "timestamp": 1530876924378,
          "user_tz": -60,
          "elapsed": 494,
          "user": {
            "displayName": "David Szepesvari",
            "photoUrl": "//lh3.googleusercontent.com/-b59pEhK2Mu4/AAAAAAAAAAI/AAAAAAAABYk/II49sX2Iiac/s50-c-k-no/photo.jpg",
            "userId": "112028855906936668175"
          }
        }
      },
      "cell_type": "code",
      "source": [
        "inputs_np, unused_labels_np = get_data(num_examples=8)\n",
        "\n",
        "with tf.Session() as session:\n",
        "  session.run(init_op)  # Initializes the weights in the network.\n",
        "  outputs_np = session.run(outputs, feed_dict={\n",
        "      inputs_placeholder: inputs_np,\n",
        "  })\n",
        "\n",
        "outputs_np"
      ],
      "execution_count": 36,
      "outputs": [
        {
          "output_type": "execute_result",
          "data": {
            "text/plain": [
              "array([ 0.00455318,  0.15441611,  0.00609156, -0.04886217, -0.4408838 ,\n",
              "       -0.06215075, -0.39659762, -0.00140705], dtype=float32)"
            ]
          },
          "metadata": {
            "tags": []
          },
          "execution_count": 36
        }
      ]
    },
    {
      "metadata": {
        "id": "ZfkWabTike_i",
        "colab_type": "text"
      },
      "cell_type": "markdown",
      "source": [
        "You can rerun the above cell to see the output on new and new batches. The one thing that now remains is...\n",
        "\n"
      ]
    },
    {
      "metadata": {
        "id": "LPlrr6NvqhjE",
        "colab_type": "text"
      },
      "cell_type": "markdown",
      "source": [
        "## Training a tensorflow model\n",
        "\n",
        "This is the same with or without sonnet. \n",
        "\n",
        "We will start by\n",
        "\n",
        "1. Making the correct labels available to the graph,\n",
        "2. Using these to define and calculate the loss on the output of the network."
      ]
    },
    {
      "metadata": {
        "id": "5NjyuVM0nzVC",
        "colab_type": "code",
        "colab": {
          "autoexec": {
            "startup": false,
            "wait_interval": 0
          }
        }
      },
      "cell_type": "code",
      "source": [
        "labels_placeholder = tf.placeholder(tf.float32, shape=(None,), name='labels')\n"
      ],
      "execution_count": 0,
      "outputs": []
    },
    {
      "metadata": {
        "id": "WM5liEzKTa0q",
        "colab_type": "text"
      },
      "cell_type": "markdown",
      "source": [
        "Here we will simply regress onto the labels with the squared loss. (It would be better to calculate a cross entropy.)"
      ]
    },
    {
      "metadata": {
        "id": "dveVOLfC9GKf",
        "colab_type": "code",
        "colab": {
          "autoexec": {
            "startup": false,
            "wait_interval": 0
          },
          "base_uri": "https://localhost:8080/",
          "height": 35
        },
        "outputId": "971348c6-3013-40d5-dff4-1dcb48e9c82f",
        "executionInfo": {
          "status": "ok",
          "timestamp": 1530876925675,
          "user_tz": -60,
          "elapsed": 463,
          "user": {
            "displayName": "David Szepesvari",
            "photoUrl": "//lh3.googleusercontent.com/-b59pEhK2Mu4/AAAAAAAAAAI/AAAAAAAABYk/II49sX2Iiac/s50-c-k-no/photo.jpg",
            "userId": "112028855906936668175"
          }
        }
      },
      "cell_type": "code",
      "source": [
        "with tf.name_scope('element_wise_loss'):\n",
        "  loss = tf.square(labels_placeholder - outputs)\n",
        "loss"
      ],
      "execution_count": 38,
      "outputs": [
        {
          "output_type": "execute_result",
          "data": {
            "text/plain": [
              "<tf.Tensor 'element_wise_loss/Square:0' shape=(?,) dtype=float32>"
            ]
          },
          "metadata": {
            "tags": []
          },
          "execution_count": 38
        }
      ]
    },
    {
      "metadata": {
        "id": "9lTQIdr79e-_",
        "colab_type": "text"
      },
      "cell_type": "markdown",
      "source": [
        "The loss tensor now calculates the loss per example. We want one scalar to optimize:"
      ]
    },
    {
      "metadata": {
        "id": "pT_esW_H9Veo",
        "colab_type": "code",
        "colab": {
          "autoexec": {
            "startup": false,
            "wait_interval": 0
          },
          "base_uri": "https://localhost:8080/",
          "height": 35
        },
        "outputId": "01d866d8-a69b-4a13-f771-4375011ae1c8",
        "executionInfo": {
          "status": "ok",
          "timestamp": 1530876926193,
          "user_tz": -60,
          "elapsed": 445,
          "user": {
            "displayName": "David Szepesvari",
            "photoUrl": "//lh3.googleusercontent.com/-b59pEhK2Mu4/AAAAAAAAAAI/AAAAAAAABYk/II49sX2Iiac/s50-c-k-no/photo.jpg",
            "userId": "112028855906936668175"
          }
        }
      },
      "cell_type": "code",
      "source": [
        "loss = tf.reduce_mean(loss, name='batch_mean_loss')\n",
        "loss"
      ],
      "execution_count": 39,
      "outputs": [
        {
          "output_type": "execute_result",
          "data": {
            "text/plain": [
              "<tf.Tensor 'batch_mean_loss:0' shape=() dtype=float32>"
            ]
          },
          "metadata": {
            "tags": []
          },
          "execution_count": 39
        }
      ]
    },
    {
      "metadata": {
        "id": "f6i4I7WInzlO",
        "colab_type": "text"
      },
      "cell_type": "markdown",
      "source": [
        "We can verify on the graph that everything is as expected. The `name_scope` and `name` instructions make the graph easier to interpret."
      ]
    },
    {
      "metadata": {
        "id": "AYrxqaptsnA-",
        "colab_type": "code",
        "colab": {
          "autoexec": {
            "startup": false,
            "wait_interval": 0
          },
          "base_uri": "https://localhost:8080/",
          "height": 640
        },
        "outputId": "cafa3192-d724-4d19-a115-cb9d0c03e815",
        "executionInfo": {
          "status": "ok",
          "timestamp": 1530876926828,
          "user_tz": -60,
          "elapsed": 514,
          "user": {
            "displayName": "David Szepesvari",
            "photoUrl": "//lh3.googleusercontent.com/-b59pEhK2Mu4/AAAAAAAAAAI/AAAAAAAABYk/II49sX2Iiac/s50-c-k-no/photo.jpg",
            "userId": "112028855906936668175"
          }
        }
      },
      "cell_type": "code",
      "source": [
        "show_graph()"
      ],
      "execution_count": 40,
      "outputs": [
        {
          "output_type": "display_data",
          "data": {
            "text/plain": [
              "<IPython.core.display.HTML object>"
            ],
            "text/html": [
              "\n",
              "        <iframe seamless style=\"width:1200px;height:620px;border:0\" srcdoc=\"\n",
              "        <script>\n",
              "          function load() {\n",
              "            document.getElementById(&quot;graph0.778891054778&quot;).pbtxt = 'node {\\n  name: &quot;inputs&quot;\\n  op: &quot;Placeholder&quot;\\n  attr {\\n    key: &quot;dtype&quot;\\n    value {\\n      type: DT_FLOAT\\n    }\\n  }\\n  attr {\\n    key: &quot;shape&quot;\\n    value {\\n      shape {\\n        dim {\\n          size: -1\\n        }\\n        dim {\\n          size: 2\\n        }\\n      }\\n    }\\n  }\\n}\\nnode {\\n  name: &quot;linear/w/Initializer/truncated_normal/shape&quot;\\n  op: &quot;Const&quot;\\n  attr {\\n    key: &quot;_class&quot;\\n    value {\\n      list {\\n        s: &quot;loc:@linear/w&quot;\\n      }\\n    }\\n  }\\n  attr {\\n    key: &quot;dtype&quot;\\n    value {\\n      type: DT_INT32\\n    }\\n  }\\n  attr {\\n    key: &quot;value&quot;\\n    value {\\n      tensor {\\n        dtype: DT_INT32\\n        tensor_shape {\\n          dim {\\n            size: 2\\n          }\\n        }\\n        tensor_content: &quot;\\\\002\\\\000\\\\000\\\\000\\\\005\\\\000\\\\000\\\\000&quot;\\n      }\\n    }\\n  }\\n}\\nnode {\\n  name: &quot;linear/w/Initializer/truncated_normal/mean&quot;\\n  op: &quot;Const&quot;\\n  attr {\\n    key: &quot;_class&quot;\\n    value {\\n      list {\\n        s: &quot;loc:@linear/w&quot;\\n      }\\n    }\\n  }\\n  attr {\\n    key: &quot;dtype&quot;\\n    value {\\n      type: DT_FLOAT\\n    }\\n  }\\n  attr {\\n    key: &quot;value&quot;\\n    value {\\n      tensor {\\n        dtype: DT_FLOAT\\n        tensor_shape {\\n        }\\n        float_val: 0.0\\n      }\\n    }\\n  }\\n}\\nnode {\\n  name: &quot;linear/w/Initializer/truncated_normal/stddev&quot;\\n  op: &quot;Const&quot;\\n  attr {\\n    key: &quot;_class&quot;\\n    value {\\n      list {\\n        s: &quot;loc:@linear/w&quot;\\n      }\\n    }\\n  }\\n  attr {\\n    key: &quot;dtype&quot;\\n    value {\\n      type: DT_FLOAT\\n    }\\n  }\\n  attr {\\n    key: &quot;value&quot;\\n    value {\\n      tensor {\\n        dtype: DT_FLOAT\\n        tensor_shape {\\n        }\\n        float_val: 0.707106769085\\n      }\\n    }\\n  }\\n}\\nnode {\\n  name: &quot;linear/w/Initializer/truncated_normal/TruncatedNormal&quot;\\n  op: &quot;TruncatedNormal&quot;\\n  input: &quot;linear/w/Initializer/truncated_normal/shape&quot;\\n  attr {\\n    key: &quot;T&quot;\\n    value {\\n      type: DT_INT32\\n    }\\n  }\\n  attr {\\n    key: &quot;_class&quot;\\n    value {\\n      list {\\n        s: &quot;loc:@linear/w&quot;\\n      }\\n    }\\n  }\\n  attr {\\n    key: &quot;dtype&quot;\\n    value {\\n      type: DT_FLOAT\\n    }\\n  }\\n  attr {\\n    key: &quot;seed&quot;\\n    value {\\n      i: 0\\n    }\\n  }\\n  attr {\\n    key: &quot;seed2&quot;\\n    value {\\n      i: 0\\n    }\\n  }\\n}\\nnode {\\n  name: &quot;linear/w/Initializer/truncated_normal/mul&quot;\\n  op: &quot;Mul&quot;\\n  input: &quot;linear/w/Initializer/truncated_normal/TruncatedNormal&quot;\\n  input: &quot;linear/w/Initializer/truncated_normal/stddev&quot;\\n  attr {\\n    key: &quot;T&quot;\\n    value {\\n      type: DT_FLOAT\\n    }\\n  }\\n  attr {\\n    key: &quot;_class&quot;\\n    value {\\n      list {\\n        s: &quot;loc:@linear/w&quot;\\n      }\\n    }\\n  }\\n}\\nnode {\\n  name: &quot;linear/w/Initializer/truncated_normal&quot;\\n  op: &quot;Add&quot;\\n  input: &quot;linear/w/Initializer/truncated_normal/mul&quot;\\n  input: &quot;linear/w/Initializer/truncated_normal/mean&quot;\\n  attr {\\n    key: &quot;T&quot;\\n    value {\\n      type: DT_FLOAT\\n    }\\n  }\\n  attr {\\n    key: &quot;_class&quot;\\n    value {\\n      list {\\n        s: &quot;loc:@linear/w&quot;\\n      }\\n    }\\n  }\\n}\\nnode {\\n  name: &quot;linear/w&quot;\\n  op: &quot;VariableV2&quot;\\n  attr {\\n    key: &quot;_class&quot;\\n    value {\\n      list {\\n        s: &quot;loc:@linear/w&quot;\\n      }\\n    }\\n  }\\n  attr {\\n    key: &quot;container&quot;\\n    value {\\n      s: &quot;&quot;\\n    }\\n  }\\n  attr {\\n    key: &quot;dtype&quot;\\n    value {\\n      type: DT_FLOAT\\n    }\\n  }\\n  attr {\\n    key: &quot;shape&quot;\\n    value {\\n      shape {\\n        dim {\\n          size: 2\\n        }\\n        dim {\\n          size: 5\\n        }\\n      }\\n    }\\n  }\\n  attr {\\n    key: &quot;shared_name&quot;\\n    value {\\n      s: &quot;&quot;\\n    }\\n  }\\n}\\nnode {\\n  name: &quot;linear/w/Assign&quot;\\n  op: &quot;Assign&quot;\\n  input: &quot;linear/w&quot;\\n  input: &quot;linear/w/Initializer/truncated_normal&quot;\\n  attr {\\n    key: &quot;T&quot;\\n    value {\\n      type: DT_FLOAT\\n    }\\n  }\\n  attr {\\n    key: &quot;_class&quot;\\n    value {\\n      list {\\n        s: &quot;loc:@linear/w&quot;\\n      }\\n    }\\n  }\\n  attr {\\n    key: &quot;use_locking&quot;\\n    value {\\n      b: true\\n    }\\n  }\\n  attr {\\n    key: &quot;validate_shape&quot;\\n    value {\\n      b: true\\n    }\\n  }\\n}\\nnode {\\n  name: &quot;linear/w/read&quot;\\n  op: &quot;Identity&quot;\\n  input: &quot;linear/w&quot;\\n  attr {\\n    key: &quot;T&quot;\\n    value {\\n      type: DT_FLOAT\\n    }\\n  }\\n  attr {\\n    key: &quot;_class&quot;\\n    value {\\n      list {\\n        s: &quot;loc:@linear/w&quot;\\n      }\\n    }\\n  }\\n}\\nnode {\\n  name: &quot;linear/MatMul&quot;\\n  op: &quot;MatMul&quot;\\n  input: &quot;inputs&quot;\\n  input: &quot;linear/w/read&quot;\\n  attr {\\n    key: &quot;T&quot;\\n    value {\\n      type: DT_FLOAT\\n    }\\n  }\\n  attr {\\n    key: &quot;transpose_a&quot;\\n    value {\\n      b: false\\n    }\\n  }\\n  attr {\\n    key: &quot;transpose_b&quot;\\n    value {\\n      b: false\\n    }\\n  }\\n}\\nnode {\\n  name: &quot;linear/b/Initializer/zeros&quot;\\n  op: &quot;Const&quot;\\n  attr {\\n    key: &quot;_class&quot;\\n    value {\\n      list {\\n        s: &quot;loc:@linear/b&quot;\\n      }\\n    }\\n  }\\n  attr {\\n    key: &quot;dtype&quot;\\n    value {\\n      type: DT_FLOAT\\n    }\\n  }\\n  attr {\\n    key: &quot;value&quot;\\n    value {\\n      tensor {\\n        dtype: DT_FLOAT\\n        tensor_shape {\\n          dim {\\n            size: 5\\n          }\\n        }\\n        float_val: 0.0\\n      }\\n    }\\n  }\\n}\\nnode {\\n  name: &quot;linear/b&quot;\\n  op: &quot;VariableV2&quot;\\n  attr {\\n    key: &quot;_class&quot;\\n    value {\\n      list {\\n        s: &quot;loc:@linear/b&quot;\\n      }\\n    }\\n  }\\n  attr {\\n    key: &quot;container&quot;\\n    value {\\n      s: &quot;&quot;\\n    }\\n  }\\n  attr {\\n    key: &quot;dtype&quot;\\n    value {\\n      type: DT_FLOAT\\n    }\\n  }\\n  attr {\\n    key: &quot;shape&quot;\\n    value {\\n      shape {\\n        dim {\\n          size: 5\\n        }\\n      }\\n    }\\n  }\\n  attr {\\n    key: &quot;shared_name&quot;\\n    value {\\n      s: &quot;&quot;\\n    }\\n  }\\n}\\nnode {\\n  name: &quot;linear/b/Assign&quot;\\n  op: &quot;Assign&quot;\\n  input: &quot;linear/b&quot;\\n  input: &quot;linear/b/Initializer/zeros&quot;\\n  attr {\\n    key: &quot;T&quot;\\n    value {\\n      type: DT_FLOAT\\n    }\\n  }\\n  attr {\\n    key: &quot;_class&quot;\\n    value {\\n      list {\\n        s: &quot;loc:@linear/b&quot;\\n      }\\n    }\\n  }\\n  attr {\\n    key: &quot;use_locking&quot;\\n    value {\\n      b: true\\n    }\\n  }\\n  attr {\\n    key: &quot;validate_shape&quot;\\n    value {\\n      b: true\\n    }\\n  }\\n}\\nnode {\\n  name: &quot;linear/b/read&quot;\\n  op: &quot;Identity&quot;\\n  input: &quot;linear/b&quot;\\n  attr {\\n    key: &quot;T&quot;\\n    value {\\n      type: DT_FLOAT\\n    }\\n  }\\n  attr {\\n    key: &quot;_class&quot;\\n    value {\\n      list {\\n        s: &quot;loc:@linear/b&quot;\\n      }\\n    }\\n  }\\n}\\nnode {\\n  name: &quot;linear/add&quot;\\n  op: &quot;Add&quot;\\n  input: &quot;linear/MatMul&quot;\\n  input: &quot;linear/b/read&quot;\\n  attr {\\n    key: &quot;T&quot;\\n    value {\\n      type: DT_FLOAT\\n    }\\n  }\\n}\\nnode {\\n  name: &quot;Relu&quot;\\n  op: &quot;Relu&quot;\\n  input: &quot;linear/add&quot;\\n  attr {\\n    key: &quot;T&quot;\\n    value {\\n      type: DT_FLOAT\\n    }\\n  }\\n}\\nnode {\\n  name: &quot;linear_1/w/Initializer/truncated_normal/shape&quot;\\n  op: &quot;Const&quot;\\n  attr {\\n    key: &quot;_class&quot;\\n    value {\\n      list {\\n        s: &quot;loc:@linear_1/w&quot;\\n      }\\n    }\\n  }\\n  attr {\\n    key: &quot;dtype&quot;\\n    value {\\n      type: DT_INT32\\n    }\\n  }\\n  attr {\\n    key: &quot;value&quot;\\n    value {\\n      tensor {\\n        dtype: DT_INT32\\n        tensor_shape {\\n          dim {\\n            size: 2\\n          }\\n        }\\n        tensor_content: &quot;\\\\005\\\\000\\\\000\\\\000\\\\001\\\\000\\\\000\\\\000&quot;\\n      }\\n    }\\n  }\\n}\\nnode {\\n  name: &quot;linear_1/w/Initializer/truncated_normal/mean&quot;\\n  op: &quot;Const&quot;\\n  attr {\\n    key: &quot;_class&quot;\\n    value {\\n      list {\\n        s: &quot;loc:@linear_1/w&quot;\\n      }\\n    }\\n  }\\n  attr {\\n    key: &quot;dtype&quot;\\n    value {\\n      type: DT_FLOAT\\n    }\\n  }\\n  attr {\\n    key: &quot;value&quot;\\n    value {\\n      tensor {\\n        dtype: DT_FLOAT\\n        tensor_shape {\\n        }\\n        float_val: 0.0\\n      }\\n    }\\n  }\\n}\\nnode {\\n  name: &quot;linear_1/w/Initializer/truncated_normal/stddev&quot;\\n  op: &quot;Const&quot;\\n  attr {\\n    key: &quot;_class&quot;\\n    value {\\n      list {\\n        s: &quot;loc:@linear_1/w&quot;\\n      }\\n    }\\n  }\\n  attr {\\n    key: &quot;dtype&quot;\\n    value {\\n      type: DT_FLOAT\\n    }\\n  }\\n  attr {\\n    key: &quot;value&quot;\\n    value {\\n      tensor {\\n        dtype: DT_FLOAT\\n        tensor_shape {\\n        }\\n        float_val: 0.447213590145\\n      }\\n    }\\n  }\\n}\\nnode {\\n  name: &quot;linear_1/w/Initializer/truncated_normal/TruncatedNormal&quot;\\n  op: &quot;TruncatedNormal&quot;\\n  input: &quot;linear_1/w/Initializer/truncated_normal/shape&quot;\\n  attr {\\n    key: &quot;T&quot;\\n    value {\\n      type: DT_INT32\\n    }\\n  }\\n  attr {\\n    key: &quot;_class&quot;\\n    value {\\n      list {\\n        s: &quot;loc:@linear_1/w&quot;\\n      }\\n    }\\n  }\\n  attr {\\n    key: &quot;dtype&quot;\\n    value {\\n      type: DT_FLOAT\\n    }\\n  }\\n  attr {\\n    key: &quot;seed&quot;\\n    value {\\n      i: 0\\n    }\\n  }\\n  attr {\\n    key: &quot;seed2&quot;\\n    value {\\n      i: 0\\n    }\\n  }\\n}\\nnode {\\n  name: &quot;linear_1/w/Initializer/truncated_normal/mul&quot;\\n  op: &quot;Mul&quot;\\n  input: &quot;linear_1/w/Initializer/truncated_normal/TruncatedNormal&quot;\\n  input: &quot;linear_1/w/Initializer/truncated_normal/stddev&quot;\\n  attr {\\n    key: &quot;T&quot;\\n    value {\\n      type: DT_FLOAT\\n    }\\n  }\\n  attr {\\n    key: &quot;_class&quot;\\n    value {\\n      list {\\n        s: &quot;loc:@linear_1/w&quot;\\n      }\\n    }\\n  }\\n}\\nnode {\\n  name: &quot;linear_1/w/Initializer/truncated_normal&quot;\\n  op: &quot;Add&quot;\\n  input: &quot;linear_1/w/Initializer/truncated_normal/mul&quot;\\n  input: &quot;linear_1/w/Initializer/truncated_normal/mean&quot;\\n  attr {\\n    key: &quot;T&quot;\\n    value {\\n      type: DT_FLOAT\\n    }\\n  }\\n  attr {\\n    key: &quot;_class&quot;\\n    value {\\n      list {\\n        s: &quot;loc:@linear_1/w&quot;\\n      }\\n    }\\n  }\\n}\\nnode {\\n  name: &quot;linear_1/w&quot;\\n  op: &quot;VariableV2&quot;\\n  attr {\\n    key: &quot;_class&quot;\\n    value {\\n      list {\\n        s: &quot;loc:@linear_1/w&quot;\\n      }\\n    }\\n  }\\n  attr {\\n    key: &quot;container&quot;\\n    value {\\n      s: &quot;&quot;\\n    }\\n  }\\n  attr {\\n    key: &quot;dtype&quot;\\n    value {\\n      type: DT_FLOAT\\n    }\\n  }\\n  attr {\\n    key: &quot;shape&quot;\\n    value {\\n      shape {\\n        dim {\\n          size: 5\\n        }\\n        dim {\\n          size: 1\\n        }\\n      }\\n    }\\n  }\\n  attr {\\n    key: &quot;shared_name&quot;\\n    value {\\n      s: &quot;&quot;\\n    }\\n  }\\n}\\nnode {\\n  name: &quot;linear_1/w/Assign&quot;\\n  op: &quot;Assign&quot;\\n  input: &quot;linear_1/w&quot;\\n  input: &quot;linear_1/w/Initializer/truncated_normal&quot;\\n  attr {\\n    key: &quot;T&quot;\\n    value {\\n      type: DT_FLOAT\\n    }\\n  }\\n  attr {\\n    key: &quot;_class&quot;\\n    value {\\n      list {\\n        s: &quot;loc:@linear_1/w&quot;\\n      }\\n    }\\n  }\\n  attr {\\n    key: &quot;use_locking&quot;\\n    value {\\n      b: true\\n    }\\n  }\\n  attr {\\n    key: &quot;validate_shape&quot;\\n    value {\\n      b: true\\n    }\\n  }\\n}\\nnode {\\n  name: &quot;linear_1/w/read&quot;\\n  op: &quot;Identity&quot;\\n  input: &quot;linear_1/w&quot;\\n  attr {\\n    key: &quot;T&quot;\\n    value {\\n      type: DT_FLOAT\\n    }\\n  }\\n  attr {\\n    key: &quot;_class&quot;\\n    value {\\n      list {\\n        s: &quot;loc:@linear_1/w&quot;\\n      }\\n    }\\n  }\\n}\\nnode {\\n  name: &quot;linear_1/MatMul&quot;\\n  op: &quot;MatMul&quot;\\n  input: &quot;Relu&quot;\\n  input: &quot;linear_1/w/read&quot;\\n  attr {\\n    key: &quot;T&quot;\\n    value {\\n      type: DT_FLOAT\\n    }\\n  }\\n  attr {\\n    key: &quot;transpose_a&quot;\\n    value {\\n      b: false\\n    }\\n  }\\n  attr {\\n    key: &quot;transpose_b&quot;\\n    value {\\n      b: false\\n    }\\n  }\\n}\\nnode {\\n  name: &quot;linear_1/b/Initializer/zeros&quot;\\n  op: &quot;Const&quot;\\n  attr {\\n    key: &quot;_class&quot;\\n    value {\\n      list {\\n        s: &quot;loc:@linear_1/b&quot;\\n      }\\n    }\\n  }\\n  attr {\\n    key: &quot;dtype&quot;\\n    value {\\n      type: DT_FLOAT\\n    }\\n  }\\n  attr {\\n    key: &quot;value&quot;\\n    value {\\n      tensor {\\n        dtype: DT_FLOAT\\n        tensor_shape {\\n          dim {\\n            size: 1\\n          }\\n        }\\n        float_val: 0.0\\n      }\\n    }\\n  }\\n}\\nnode {\\n  name: &quot;linear_1/b&quot;\\n  op: &quot;VariableV2&quot;\\n  attr {\\n    key: &quot;_class&quot;\\n    value {\\n      list {\\n        s: &quot;loc:@linear_1/b&quot;\\n      }\\n    }\\n  }\\n  attr {\\n    key: &quot;container&quot;\\n    value {\\n      s: &quot;&quot;\\n    }\\n  }\\n  attr {\\n    key: &quot;dtype&quot;\\n    value {\\n      type: DT_FLOAT\\n    }\\n  }\\n  attr {\\n    key: &quot;shape&quot;\\n    value {\\n      shape {\\n        dim {\\n          size: 1\\n        }\\n      }\\n    }\\n  }\\n  attr {\\n    key: &quot;shared_name&quot;\\n    value {\\n      s: &quot;&quot;\\n    }\\n  }\\n}\\nnode {\\n  name: &quot;linear_1/b/Assign&quot;\\n  op: &quot;Assign&quot;\\n  input: &quot;linear_1/b&quot;\\n  input: &quot;linear_1/b/Initializer/zeros&quot;\\n  attr {\\n    key: &quot;T&quot;\\n    value {\\n      type: DT_FLOAT\\n    }\\n  }\\n  attr {\\n    key: &quot;_class&quot;\\n    value {\\n      list {\\n        s: &quot;loc:@linear_1/b&quot;\\n      }\\n    }\\n  }\\n  attr {\\n    key: &quot;use_locking&quot;\\n    value {\\n      b: true\\n    }\\n  }\\n  attr {\\n    key: &quot;validate_shape&quot;\\n    value {\\n      b: true\\n    }\\n  }\\n}\\nnode {\\n  name: &quot;linear_1/b/read&quot;\\n  op: &quot;Identity&quot;\\n  input: &quot;linear_1/b&quot;\\n  attr {\\n    key: &quot;T&quot;\\n    value {\\n      type: DT_FLOAT\\n    }\\n  }\\n  attr {\\n    key: &quot;_class&quot;\\n    value {\\n      list {\\n        s: &quot;loc:@linear_1/b&quot;\\n      }\\n    }\\n  }\\n}\\nnode {\\n  name: &quot;linear_1/add&quot;\\n  op: &quot;Add&quot;\\n  input: &quot;linear_1/MatMul&quot;\\n  input: &quot;linear_1/b/read&quot;\\n  attr {\\n    key: &quot;T&quot;\\n    value {\\n      type: DT_FLOAT\\n    }\\n  }\\n}\\nnode {\\n  name: &quot;Squeeze&quot;\\n  op: &quot;Squeeze&quot;\\n  input: &quot;linear_1/add&quot;\\n  attr {\\n    key: &quot;T&quot;\\n    value {\\n      type: DT_FLOAT\\n    }\\n  }\\n  attr {\\n    key: &quot;squeeze_dims&quot;\\n    value {\\n      list {\\n        i: -1\\n      }\\n    }\\n  }\\n}\\nnode {\\n  name: &quot;init&quot;\\n  op: &quot;NoOp&quot;\\n  input: &quot;^linear/b/Assign&quot;\\n  input: &quot;^linear/w/Assign&quot;\\n  input: &quot;^linear_1/b/Assign&quot;\\n  input: &quot;^linear_1/w/Assign&quot;\\n}\\nnode {\\n  name: &quot;labels&quot;\\n  op: &quot;Placeholder&quot;\\n  attr {\\n    key: &quot;dtype&quot;\\n    value {\\n      type: DT_FLOAT\\n    }\\n  }\\n  attr {\\n    key: &quot;shape&quot;\\n    value {\\n      shape {\\n        dim {\\n          size: -1\\n        }\\n      }\\n    }\\n  }\\n}\\nnode {\\n  name: &quot;element_wise_loss/sub&quot;\\n  op: &quot;Sub&quot;\\n  input: &quot;labels&quot;\\n  input: &quot;Squeeze&quot;\\n  attr {\\n    key: &quot;T&quot;\\n    value {\\n      type: DT_FLOAT\\n    }\\n  }\\n}\\nnode {\\n  name: &quot;element_wise_loss/Square&quot;\\n  op: &quot;Square&quot;\\n  input: &quot;element_wise_loss/sub&quot;\\n  attr {\\n    key: &quot;T&quot;\\n    value {\\n      type: DT_FLOAT\\n    }\\n  }\\n}\\nnode {\\n  name: &quot;Const&quot;\\n  op: &quot;Const&quot;\\n  attr {\\n    key: &quot;dtype&quot;\\n    value {\\n      type: DT_INT32\\n    }\\n  }\\n  attr {\\n    key: &quot;value&quot;\\n    value {\\n      tensor {\\n        dtype: DT_INT32\\n        tensor_shape {\\n          dim {\\n            size: 1\\n          }\\n        }\\n        int_val: 0\\n      }\\n    }\\n  }\\n}\\nnode {\\n  name: &quot;batch_mean_loss&quot;\\n  op: &quot;Mean&quot;\\n  input: &quot;element_wise_loss/Square&quot;\\n  input: &quot;Const&quot;\\n  attr {\\n    key: &quot;T&quot;\\n    value {\\n      type: DT_FLOAT\\n    }\\n  }\\n  attr {\\n    key: &quot;Tidx&quot;\\n    value {\\n      type: DT_INT32\\n    }\\n  }\\n  attr {\\n    key: &quot;keep_dims&quot;\\n    value {\\n      b: false\\n    }\\n  }\\n}\\n';\n",
              "          }\n",
              "        </script>\n",
              "        <link rel=&quot;import&quot; href=&quot;https://tensorboard.appspot.com/tf-graph-basic.build.html&quot; onload=load()>\n",
              "        <div style=&quot;height:600px&quot;>\n",
              "          <tf-graph-basic id=&quot;graph0.778891054778&quot;></tf-graph-basic>\n",
              "        </div>\n",
              "    \"></iframe>\n",
              "    "
            ]
          },
          "metadata": {
            "tags": []
          }
        }
      ]
    },
    {
      "metadata": {
        "id": "5Ad9LzFJsnHk",
        "colab_type": "text"
      },
      "cell_type": "markdown",
      "source": [
        "We need to tell the computation graph that we want to minimize this loss."
      ]
    },
    {
      "metadata": {
        "id": "mn5gwBw5s2kq",
        "colab_type": "code",
        "colab": {
          "autoexec": {
            "startup": false,
            "wait_interval": 0
          }
        }
      },
      "cell_type": "code",
      "source": [
        "optimizer = tf.train.GradientDescentOptimizer(learning_rate=0.01)\n",
        "train_op = optimizer.minimize(loss)"
      ],
      "execution_count": 0,
      "outputs": []
    },
    {
      "metadata": {
        "id": "iLQ37jcduDwE",
        "colab_type": "text"
      },
      "cell_type": "markdown",
      "source": [
        "**It is worth noting here the effect of this call on the graph.**"
      ]
    },
    {
      "metadata": {
        "id": "bqEc0SO-totM",
        "colab_type": "code",
        "colab": {
          "autoexec": {
            "startup": false,
            "wait_interval": 0
          },
          "base_uri": "https://localhost:8080/",
          "height": 640
        },
        "outputId": "68e277ae-cdb3-45a6-e471-00535a061aae",
        "executionInfo": {
          "status": "ok",
          "timestamp": 1530876928153,
          "user_tz": -60,
          "elapsed": 529,
          "user": {
            "displayName": "David Szepesvari",
            "photoUrl": "//lh3.googleusercontent.com/-b59pEhK2Mu4/AAAAAAAAAAI/AAAAAAAABYk/II49sX2Iiac/s50-c-k-no/photo.jpg",
            "userId": "112028855906936668175"
          }
        }
      },
      "cell_type": "code",
      "source": [
        "show_graph()"
      ],
      "execution_count": 42,
      "outputs": [
        {
          "output_type": "display_data",
          "data": {
            "text/plain": [
              "<IPython.core.display.HTML object>"
            ],
            "text/html": [
              "\n",
              "        <iframe seamless style=\"width:1200px;height:620px;border:0\" srcdoc=\"\n",
              "        <script>\n",
              "          function load() {\n",
              "            document.getElementById(&quot;graph0.184533947106&quot;).pbtxt = 'node {\\n  name: &quot;inputs&quot;\\n  op: &quot;Placeholder&quot;\\n  attr {\\n    key: &quot;dtype&quot;\\n    value {\\n      type: DT_FLOAT\\n    }\\n  }\\n  attr {\\n    key: &quot;shape&quot;\\n    value {\\n      shape {\\n        dim {\\n          size: -1\\n        }\\n        dim {\\n          size: 2\\n        }\\n      }\\n    }\\n  }\\n}\\nnode {\\n  name: &quot;linear/w/Initializer/truncated_normal/shape&quot;\\n  op: &quot;Const&quot;\\n  attr {\\n    key: &quot;_class&quot;\\n    value {\\n      list {\\n        s: &quot;loc:@linear/w&quot;\\n      }\\n    }\\n  }\\n  attr {\\n    key: &quot;dtype&quot;\\n    value {\\n      type: DT_INT32\\n    }\\n  }\\n  attr {\\n    key: &quot;value&quot;\\n    value {\\n      tensor {\\n        dtype: DT_INT32\\n        tensor_shape {\\n          dim {\\n            size: 2\\n          }\\n        }\\n        tensor_content: &quot;\\\\002\\\\000\\\\000\\\\000\\\\005\\\\000\\\\000\\\\000&quot;\\n      }\\n    }\\n  }\\n}\\nnode {\\n  name: &quot;linear/w/Initializer/truncated_normal/mean&quot;\\n  op: &quot;Const&quot;\\n  attr {\\n    key: &quot;_class&quot;\\n    value {\\n      list {\\n        s: &quot;loc:@linear/w&quot;\\n      }\\n    }\\n  }\\n  attr {\\n    key: &quot;dtype&quot;\\n    value {\\n      type: DT_FLOAT\\n    }\\n  }\\n  attr {\\n    key: &quot;value&quot;\\n    value {\\n      tensor {\\n        dtype: DT_FLOAT\\n        tensor_shape {\\n        }\\n        float_val: 0.0\\n      }\\n    }\\n  }\\n}\\nnode {\\n  name: &quot;linear/w/Initializer/truncated_normal/stddev&quot;\\n  op: &quot;Const&quot;\\n  attr {\\n    key: &quot;_class&quot;\\n    value {\\n      list {\\n        s: &quot;loc:@linear/w&quot;\\n      }\\n    }\\n  }\\n  attr {\\n    key: &quot;dtype&quot;\\n    value {\\n      type: DT_FLOAT\\n    }\\n  }\\n  attr {\\n    key: &quot;value&quot;\\n    value {\\n      tensor {\\n        dtype: DT_FLOAT\\n        tensor_shape {\\n        }\\n        float_val: 0.707106769085\\n      }\\n    }\\n  }\\n}\\nnode {\\n  name: &quot;linear/w/Initializer/truncated_normal/TruncatedNormal&quot;\\n  op: &quot;TruncatedNormal&quot;\\n  input: &quot;linear/w/Initializer/truncated_normal/shape&quot;\\n  attr {\\n    key: &quot;T&quot;\\n    value {\\n      type: DT_INT32\\n    }\\n  }\\n  attr {\\n    key: &quot;_class&quot;\\n    value {\\n      list {\\n        s: &quot;loc:@linear/w&quot;\\n      }\\n    }\\n  }\\n  attr {\\n    key: &quot;dtype&quot;\\n    value {\\n      type: DT_FLOAT\\n    }\\n  }\\n  attr {\\n    key: &quot;seed&quot;\\n    value {\\n      i: 0\\n    }\\n  }\\n  attr {\\n    key: &quot;seed2&quot;\\n    value {\\n      i: 0\\n    }\\n  }\\n}\\nnode {\\n  name: &quot;linear/w/Initializer/truncated_normal/mul&quot;\\n  op: &quot;Mul&quot;\\n  input: &quot;linear/w/Initializer/truncated_normal/TruncatedNormal&quot;\\n  input: &quot;linear/w/Initializer/truncated_normal/stddev&quot;\\n  attr {\\n    key: &quot;T&quot;\\n    value {\\n      type: DT_FLOAT\\n    }\\n  }\\n  attr {\\n    key: &quot;_class&quot;\\n    value {\\n      list {\\n        s: &quot;loc:@linear/w&quot;\\n      }\\n    }\\n  }\\n}\\nnode {\\n  name: &quot;linear/w/Initializer/truncated_normal&quot;\\n  op: &quot;Add&quot;\\n  input: &quot;linear/w/Initializer/truncated_normal/mul&quot;\\n  input: &quot;linear/w/Initializer/truncated_normal/mean&quot;\\n  attr {\\n    key: &quot;T&quot;\\n    value {\\n      type: DT_FLOAT\\n    }\\n  }\\n  attr {\\n    key: &quot;_class&quot;\\n    value {\\n      list {\\n        s: &quot;loc:@linear/w&quot;\\n      }\\n    }\\n  }\\n}\\nnode {\\n  name: &quot;linear/w&quot;\\n  op: &quot;VariableV2&quot;\\n  attr {\\n    key: &quot;_class&quot;\\n    value {\\n      list {\\n        s: &quot;loc:@linear/w&quot;\\n      }\\n    }\\n  }\\n  attr {\\n    key: &quot;container&quot;\\n    value {\\n      s: &quot;&quot;\\n    }\\n  }\\n  attr {\\n    key: &quot;dtype&quot;\\n    value {\\n      type: DT_FLOAT\\n    }\\n  }\\n  attr {\\n    key: &quot;shape&quot;\\n    value {\\n      shape {\\n        dim {\\n          size: 2\\n        }\\n        dim {\\n          size: 5\\n        }\\n      }\\n    }\\n  }\\n  attr {\\n    key: &quot;shared_name&quot;\\n    value {\\n      s: &quot;&quot;\\n    }\\n  }\\n}\\nnode {\\n  name: &quot;linear/w/Assign&quot;\\n  op: &quot;Assign&quot;\\n  input: &quot;linear/w&quot;\\n  input: &quot;linear/w/Initializer/truncated_normal&quot;\\n  attr {\\n    key: &quot;T&quot;\\n    value {\\n      type: DT_FLOAT\\n    }\\n  }\\n  attr {\\n    key: &quot;_class&quot;\\n    value {\\n      list {\\n        s: &quot;loc:@linear/w&quot;\\n      }\\n    }\\n  }\\n  attr {\\n    key: &quot;use_locking&quot;\\n    value {\\n      b: true\\n    }\\n  }\\n  attr {\\n    key: &quot;validate_shape&quot;\\n    value {\\n      b: true\\n    }\\n  }\\n}\\nnode {\\n  name: &quot;linear/w/read&quot;\\n  op: &quot;Identity&quot;\\n  input: &quot;linear/w&quot;\\n  attr {\\n    key: &quot;T&quot;\\n    value {\\n      type: DT_FLOAT\\n    }\\n  }\\n  attr {\\n    key: &quot;_class&quot;\\n    value {\\n      list {\\n        s: &quot;loc:@linear/w&quot;\\n      }\\n    }\\n  }\\n}\\nnode {\\n  name: &quot;linear/MatMul&quot;\\n  op: &quot;MatMul&quot;\\n  input: &quot;inputs&quot;\\n  input: &quot;linear/w/read&quot;\\n  attr {\\n    key: &quot;T&quot;\\n    value {\\n      type: DT_FLOAT\\n    }\\n  }\\n  attr {\\n    key: &quot;transpose_a&quot;\\n    value {\\n      b: false\\n    }\\n  }\\n  attr {\\n    key: &quot;transpose_b&quot;\\n    value {\\n      b: false\\n    }\\n  }\\n}\\nnode {\\n  name: &quot;linear/b/Initializer/zeros&quot;\\n  op: &quot;Const&quot;\\n  attr {\\n    key: &quot;_class&quot;\\n    value {\\n      list {\\n        s: &quot;loc:@linear/b&quot;\\n      }\\n    }\\n  }\\n  attr {\\n    key: &quot;dtype&quot;\\n    value {\\n      type: DT_FLOAT\\n    }\\n  }\\n  attr {\\n    key: &quot;value&quot;\\n    value {\\n      tensor {\\n        dtype: DT_FLOAT\\n        tensor_shape {\\n          dim {\\n            size: 5\\n          }\\n        }\\n        float_val: 0.0\\n      }\\n    }\\n  }\\n}\\nnode {\\n  name: &quot;linear/b&quot;\\n  op: &quot;VariableV2&quot;\\n  attr {\\n    key: &quot;_class&quot;\\n    value {\\n      list {\\n        s: &quot;loc:@linear/b&quot;\\n      }\\n    }\\n  }\\n  attr {\\n    key: &quot;container&quot;\\n    value {\\n      s: &quot;&quot;\\n    }\\n  }\\n  attr {\\n    key: &quot;dtype&quot;\\n    value {\\n      type: DT_FLOAT\\n    }\\n  }\\n  attr {\\n    key: &quot;shape&quot;\\n    value {\\n      shape {\\n        dim {\\n          size: 5\\n        }\\n      }\\n    }\\n  }\\n  attr {\\n    key: &quot;shared_name&quot;\\n    value {\\n      s: &quot;&quot;\\n    }\\n  }\\n}\\nnode {\\n  name: &quot;linear/b/Assign&quot;\\n  op: &quot;Assign&quot;\\n  input: &quot;linear/b&quot;\\n  input: &quot;linear/b/Initializer/zeros&quot;\\n  attr {\\n    key: &quot;T&quot;\\n    value {\\n      type: DT_FLOAT\\n    }\\n  }\\n  attr {\\n    key: &quot;_class&quot;\\n    value {\\n      list {\\n        s: &quot;loc:@linear/b&quot;\\n      }\\n    }\\n  }\\n  attr {\\n    key: &quot;use_locking&quot;\\n    value {\\n      b: true\\n    }\\n  }\\n  attr {\\n    key: &quot;validate_shape&quot;\\n    value {\\n      b: true\\n    }\\n  }\\n}\\nnode {\\n  name: &quot;linear/b/read&quot;\\n  op: &quot;Identity&quot;\\n  input: &quot;linear/b&quot;\\n  attr {\\n    key: &quot;T&quot;\\n    value {\\n      type: DT_FLOAT\\n    }\\n  }\\n  attr {\\n    key: &quot;_class&quot;\\n    value {\\n      list {\\n        s: &quot;loc:@linear/b&quot;\\n      }\\n    }\\n  }\\n}\\nnode {\\n  name: &quot;linear/add&quot;\\n  op: &quot;Add&quot;\\n  input: &quot;linear/MatMul&quot;\\n  input: &quot;linear/b/read&quot;\\n  attr {\\n    key: &quot;T&quot;\\n    value {\\n      type: DT_FLOAT\\n    }\\n  }\\n}\\nnode {\\n  name: &quot;Relu&quot;\\n  op: &quot;Relu&quot;\\n  input: &quot;linear/add&quot;\\n  attr {\\n    key: &quot;T&quot;\\n    value {\\n      type: DT_FLOAT\\n    }\\n  }\\n}\\nnode {\\n  name: &quot;linear_1/w/Initializer/truncated_normal/shape&quot;\\n  op: &quot;Const&quot;\\n  attr {\\n    key: &quot;_class&quot;\\n    value {\\n      list {\\n        s: &quot;loc:@linear_1/w&quot;\\n      }\\n    }\\n  }\\n  attr {\\n    key: &quot;dtype&quot;\\n    value {\\n      type: DT_INT32\\n    }\\n  }\\n  attr {\\n    key: &quot;value&quot;\\n    value {\\n      tensor {\\n        dtype: DT_INT32\\n        tensor_shape {\\n          dim {\\n            size: 2\\n          }\\n        }\\n        tensor_content: &quot;\\\\005\\\\000\\\\000\\\\000\\\\001\\\\000\\\\000\\\\000&quot;\\n      }\\n    }\\n  }\\n}\\nnode {\\n  name: &quot;linear_1/w/Initializer/truncated_normal/mean&quot;\\n  op: &quot;Const&quot;\\n  attr {\\n    key: &quot;_class&quot;\\n    value {\\n      list {\\n        s: &quot;loc:@linear_1/w&quot;\\n      }\\n    }\\n  }\\n  attr {\\n    key: &quot;dtype&quot;\\n    value {\\n      type: DT_FLOAT\\n    }\\n  }\\n  attr {\\n    key: &quot;value&quot;\\n    value {\\n      tensor {\\n        dtype: DT_FLOAT\\n        tensor_shape {\\n        }\\n        float_val: 0.0\\n      }\\n    }\\n  }\\n}\\nnode {\\n  name: &quot;linear_1/w/Initializer/truncated_normal/stddev&quot;\\n  op: &quot;Const&quot;\\n  attr {\\n    key: &quot;_class&quot;\\n    value {\\n      list {\\n        s: &quot;loc:@linear_1/w&quot;\\n      }\\n    }\\n  }\\n  attr {\\n    key: &quot;dtype&quot;\\n    value {\\n      type: DT_FLOAT\\n    }\\n  }\\n  attr {\\n    key: &quot;value&quot;\\n    value {\\n      tensor {\\n        dtype: DT_FLOAT\\n        tensor_shape {\\n        }\\n        float_val: 0.447213590145\\n      }\\n    }\\n  }\\n}\\nnode {\\n  name: &quot;linear_1/w/Initializer/truncated_normal/TruncatedNormal&quot;\\n  op: &quot;TruncatedNormal&quot;\\n  input: &quot;linear_1/w/Initializer/truncated_normal/shape&quot;\\n  attr {\\n    key: &quot;T&quot;\\n    value {\\n      type: DT_INT32\\n    }\\n  }\\n  attr {\\n    key: &quot;_class&quot;\\n    value {\\n      list {\\n        s: &quot;loc:@linear_1/w&quot;\\n      }\\n    }\\n  }\\n  attr {\\n    key: &quot;dtype&quot;\\n    value {\\n      type: DT_FLOAT\\n    }\\n  }\\n  attr {\\n    key: &quot;seed&quot;\\n    value {\\n      i: 0\\n    }\\n  }\\n  attr {\\n    key: &quot;seed2&quot;\\n    value {\\n      i: 0\\n    }\\n  }\\n}\\nnode {\\n  name: &quot;linear_1/w/Initializer/truncated_normal/mul&quot;\\n  op: &quot;Mul&quot;\\n  input: &quot;linear_1/w/Initializer/truncated_normal/TruncatedNormal&quot;\\n  input: &quot;linear_1/w/Initializer/truncated_normal/stddev&quot;\\n  attr {\\n    key: &quot;T&quot;\\n    value {\\n      type: DT_FLOAT\\n    }\\n  }\\n  attr {\\n    key: &quot;_class&quot;\\n    value {\\n      list {\\n        s: &quot;loc:@linear_1/w&quot;\\n      }\\n    }\\n  }\\n}\\nnode {\\n  name: &quot;linear_1/w/Initializer/truncated_normal&quot;\\n  op: &quot;Add&quot;\\n  input: &quot;linear_1/w/Initializer/truncated_normal/mul&quot;\\n  input: &quot;linear_1/w/Initializer/truncated_normal/mean&quot;\\n  attr {\\n    key: &quot;T&quot;\\n    value {\\n      type: DT_FLOAT\\n    }\\n  }\\n  attr {\\n    key: &quot;_class&quot;\\n    value {\\n      list {\\n        s: &quot;loc:@linear_1/w&quot;\\n      }\\n    }\\n  }\\n}\\nnode {\\n  name: &quot;linear_1/w&quot;\\n  op: &quot;VariableV2&quot;\\n  attr {\\n    key: &quot;_class&quot;\\n    value {\\n      list {\\n        s: &quot;loc:@linear_1/w&quot;\\n      }\\n    }\\n  }\\n  attr {\\n    key: &quot;container&quot;\\n    value {\\n      s: &quot;&quot;\\n    }\\n  }\\n  attr {\\n    key: &quot;dtype&quot;\\n    value {\\n      type: DT_FLOAT\\n    }\\n  }\\n  attr {\\n    key: &quot;shape&quot;\\n    value {\\n      shape {\\n        dim {\\n          size: 5\\n        }\\n        dim {\\n          size: 1\\n        }\\n      }\\n    }\\n  }\\n  attr {\\n    key: &quot;shared_name&quot;\\n    value {\\n      s: &quot;&quot;\\n    }\\n  }\\n}\\nnode {\\n  name: &quot;linear_1/w/Assign&quot;\\n  op: &quot;Assign&quot;\\n  input: &quot;linear_1/w&quot;\\n  input: &quot;linear_1/w/Initializer/truncated_normal&quot;\\n  attr {\\n    key: &quot;T&quot;\\n    value {\\n      type: DT_FLOAT\\n    }\\n  }\\n  attr {\\n    key: &quot;_class&quot;\\n    value {\\n      list {\\n        s: &quot;loc:@linear_1/w&quot;\\n      }\\n    }\\n  }\\n  attr {\\n    key: &quot;use_locking&quot;\\n    value {\\n      b: true\\n    }\\n  }\\n  attr {\\n    key: &quot;validate_shape&quot;\\n    value {\\n      b: true\\n    }\\n  }\\n}\\nnode {\\n  name: &quot;linear_1/w/read&quot;\\n  op: &quot;Identity&quot;\\n  input: &quot;linear_1/w&quot;\\n  attr {\\n    key: &quot;T&quot;\\n    value {\\n      type: DT_FLOAT\\n    }\\n  }\\n  attr {\\n    key: &quot;_class&quot;\\n    value {\\n      list {\\n        s: &quot;loc:@linear_1/w&quot;\\n      }\\n    }\\n  }\\n}\\nnode {\\n  name: &quot;linear_1/MatMul&quot;\\n  op: &quot;MatMul&quot;\\n  input: &quot;Relu&quot;\\n  input: &quot;linear_1/w/read&quot;\\n  attr {\\n    key: &quot;T&quot;\\n    value {\\n      type: DT_FLOAT\\n    }\\n  }\\n  attr {\\n    key: &quot;transpose_a&quot;\\n    value {\\n      b: false\\n    }\\n  }\\n  attr {\\n    key: &quot;transpose_b&quot;\\n    value {\\n      b: false\\n    }\\n  }\\n}\\nnode {\\n  name: &quot;linear_1/b/Initializer/zeros&quot;\\n  op: &quot;Const&quot;\\n  attr {\\n    key: &quot;_class&quot;\\n    value {\\n      list {\\n        s: &quot;loc:@linear_1/b&quot;\\n      }\\n    }\\n  }\\n  attr {\\n    key: &quot;dtype&quot;\\n    value {\\n      type: DT_FLOAT\\n    }\\n  }\\n  attr {\\n    key: &quot;value&quot;\\n    value {\\n      tensor {\\n        dtype: DT_FLOAT\\n        tensor_shape {\\n          dim {\\n            size: 1\\n          }\\n        }\\n        float_val: 0.0\\n      }\\n    }\\n  }\\n}\\nnode {\\n  name: &quot;linear_1/b&quot;\\n  op: &quot;VariableV2&quot;\\n  attr {\\n    key: &quot;_class&quot;\\n    value {\\n      list {\\n        s: &quot;loc:@linear_1/b&quot;\\n      }\\n    }\\n  }\\n  attr {\\n    key: &quot;container&quot;\\n    value {\\n      s: &quot;&quot;\\n    }\\n  }\\n  attr {\\n    key: &quot;dtype&quot;\\n    value {\\n      type: DT_FLOAT\\n    }\\n  }\\n  attr {\\n    key: &quot;shape&quot;\\n    value {\\n      shape {\\n        dim {\\n          size: 1\\n        }\\n      }\\n    }\\n  }\\n  attr {\\n    key: &quot;shared_name&quot;\\n    value {\\n      s: &quot;&quot;\\n    }\\n  }\\n}\\nnode {\\n  name: &quot;linear_1/b/Assign&quot;\\n  op: &quot;Assign&quot;\\n  input: &quot;linear_1/b&quot;\\n  input: &quot;linear_1/b/Initializer/zeros&quot;\\n  attr {\\n    key: &quot;T&quot;\\n    value {\\n      type: DT_FLOAT\\n    }\\n  }\\n  attr {\\n    key: &quot;_class&quot;\\n    value {\\n      list {\\n        s: &quot;loc:@linear_1/b&quot;\\n      }\\n    }\\n  }\\n  attr {\\n    key: &quot;use_locking&quot;\\n    value {\\n      b: true\\n    }\\n  }\\n  attr {\\n    key: &quot;validate_shape&quot;\\n    value {\\n      b: true\\n    }\\n  }\\n}\\nnode {\\n  name: &quot;linear_1/b/read&quot;\\n  op: &quot;Identity&quot;\\n  input: &quot;linear_1/b&quot;\\n  attr {\\n    key: &quot;T&quot;\\n    value {\\n      type: DT_FLOAT\\n    }\\n  }\\n  attr {\\n    key: &quot;_class&quot;\\n    value {\\n      list {\\n        s: &quot;loc:@linear_1/b&quot;\\n      }\\n    }\\n  }\\n}\\nnode {\\n  name: &quot;linear_1/add&quot;\\n  op: &quot;Add&quot;\\n  input: &quot;linear_1/MatMul&quot;\\n  input: &quot;linear_1/b/read&quot;\\n  attr {\\n    key: &quot;T&quot;\\n    value {\\n      type: DT_FLOAT\\n    }\\n  }\\n}\\nnode {\\n  name: &quot;Squeeze&quot;\\n  op: &quot;Squeeze&quot;\\n  input: &quot;linear_1/add&quot;\\n  attr {\\n    key: &quot;T&quot;\\n    value {\\n      type: DT_FLOAT\\n    }\\n  }\\n  attr {\\n    key: &quot;squeeze_dims&quot;\\n    value {\\n      list {\\n        i: -1\\n      }\\n    }\\n  }\\n}\\nnode {\\n  name: &quot;init&quot;\\n  op: &quot;NoOp&quot;\\n  input: &quot;^linear/b/Assign&quot;\\n  input: &quot;^linear/w/Assign&quot;\\n  input: &quot;^linear_1/b/Assign&quot;\\n  input: &quot;^linear_1/w/Assign&quot;\\n}\\nnode {\\n  name: &quot;labels&quot;\\n  op: &quot;Placeholder&quot;\\n  attr {\\n    key: &quot;dtype&quot;\\n    value {\\n      type: DT_FLOAT\\n    }\\n  }\\n  attr {\\n    key: &quot;shape&quot;\\n    value {\\n      shape {\\n        dim {\\n          size: -1\\n        }\\n      }\\n    }\\n  }\\n}\\nnode {\\n  name: &quot;element_wise_loss/sub&quot;\\n  op: &quot;Sub&quot;\\n  input: &quot;labels&quot;\\n  input: &quot;Squeeze&quot;\\n  attr {\\n    key: &quot;T&quot;\\n    value {\\n      type: DT_FLOAT\\n    }\\n  }\\n}\\nnode {\\n  name: &quot;element_wise_loss/Square&quot;\\n  op: &quot;Square&quot;\\n  input: &quot;element_wise_loss/sub&quot;\\n  attr {\\n    key: &quot;T&quot;\\n    value {\\n      type: DT_FLOAT\\n    }\\n  }\\n}\\nnode {\\n  name: &quot;Const&quot;\\n  op: &quot;Const&quot;\\n  attr {\\n    key: &quot;dtype&quot;\\n    value {\\n      type: DT_INT32\\n    }\\n  }\\n  attr {\\n    key: &quot;value&quot;\\n    value {\\n      tensor {\\n        dtype: DT_INT32\\n        tensor_shape {\\n          dim {\\n            size: 1\\n          }\\n        }\\n        int_val: 0\\n      }\\n    }\\n  }\\n}\\nnode {\\n  name: &quot;batch_mean_loss&quot;\\n  op: &quot;Mean&quot;\\n  input: &quot;element_wise_loss/Square&quot;\\n  input: &quot;Const&quot;\\n  attr {\\n    key: &quot;T&quot;\\n    value {\\n      type: DT_FLOAT\\n    }\\n  }\\n  attr {\\n    key: &quot;Tidx&quot;\\n    value {\\n      type: DT_INT32\\n    }\\n  }\\n  attr {\\n    key: &quot;keep_dims&quot;\\n    value {\\n      b: false\\n    }\\n  }\\n}\\nnode {\\n  name: &quot;gradients/Shape&quot;\\n  op: &quot;Const&quot;\\n  attr {\\n    key: &quot;dtype&quot;\\n    value {\\n      type: DT_INT32\\n    }\\n  }\\n  attr {\\n    key: &quot;value&quot;\\n    value {\\n      tensor {\\n        dtype: DT_INT32\\n        tensor_shape {\\n          dim {\\n          }\\n        }\\n      }\\n    }\\n  }\\n}\\nnode {\\n  name: &quot;gradients/grad_ys_0&quot;\\n  op: &quot;Const&quot;\\n  attr {\\n    key: &quot;dtype&quot;\\n    value {\\n      type: DT_FLOAT\\n    }\\n  }\\n  attr {\\n    key: &quot;value&quot;\\n    value {\\n      tensor {\\n        dtype: DT_FLOAT\\n        tensor_shape {\\n        }\\n        float_val: 1.0\\n      }\\n    }\\n  }\\n}\\nnode {\\n  name: &quot;gradients/Fill&quot;\\n  op: &quot;Fill&quot;\\n  input: &quot;gradients/Shape&quot;\\n  input: &quot;gradients/grad_ys_0&quot;\\n  attr {\\n    key: &quot;T&quot;\\n    value {\\n      type: DT_FLOAT\\n    }\\n  }\\n  attr {\\n    key: &quot;index_type&quot;\\n    value {\\n      type: DT_INT32\\n    }\\n  }\\n}\\nnode {\\n  name: &quot;gradients/batch_mean_loss_grad/Reshape/shape&quot;\\n  op: &quot;Const&quot;\\n  attr {\\n    key: &quot;dtype&quot;\\n    value {\\n      type: DT_INT32\\n    }\\n  }\\n  attr {\\n    key: &quot;value&quot;\\n    value {\\n      tensor {\\n        dtype: DT_INT32\\n        tensor_shape {\\n          dim {\\n            size: 1\\n          }\\n        }\\n        int_val: 1\\n      }\\n    }\\n  }\\n}\\nnode {\\n  name: &quot;gradients/batch_mean_loss_grad/Reshape&quot;\\n  op: &quot;Reshape&quot;\\n  input: &quot;gradients/Fill&quot;\\n  input: &quot;gradients/batch_mean_loss_grad/Reshape/shape&quot;\\n  attr {\\n    key: &quot;T&quot;\\n    value {\\n      type: DT_FLOAT\\n    }\\n  }\\n  attr {\\n    key: &quot;Tshape&quot;\\n    value {\\n      type: DT_INT32\\n    }\\n  }\\n}\\nnode {\\n  name: &quot;gradients/batch_mean_loss_grad/Shape&quot;\\n  op: &quot;Shape&quot;\\n  input: &quot;element_wise_loss/Square&quot;\\n  attr {\\n    key: &quot;T&quot;\\n    value {\\n      type: DT_FLOAT\\n    }\\n  }\\n  attr {\\n    key: &quot;out_type&quot;\\n    value {\\n      type: DT_INT32\\n    }\\n  }\\n}\\nnode {\\n  name: &quot;gradients/batch_mean_loss_grad/Tile&quot;\\n  op: &quot;Tile&quot;\\n  input: &quot;gradients/batch_mean_loss_grad/Reshape&quot;\\n  input: &quot;gradients/batch_mean_loss_grad/Shape&quot;\\n  attr {\\n    key: &quot;T&quot;\\n    value {\\n      type: DT_FLOAT\\n    }\\n  }\\n  attr {\\n    key: &quot;Tmultiples&quot;\\n    value {\\n      type: DT_INT32\\n    }\\n  }\\n}\\nnode {\\n  name: &quot;gradients/batch_mean_loss_grad/Shape_1&quot;\\n  op: &quot;Shape&quot;\\n  input: &quot;element_wise_loss/Square&quot;\\n  attr {\\n    key: &quot;T&quot;\\n    value {\\n      type: DT_FLOAT\\n    }\\n  }\\n  attr {\\n    key: &quot;out_type&quot;\\n    value {\\n      type: DT_INT32\\n    }\\n  }\\n}\\nnode {\\n  name: &quot;gradients/batch_mean_loss_grad/Shape_2&quot;\\n  op: &quot;Const&quot;\\n  attr {\\n    key: &quot;dtype&quot;\\n    value {\\n      type: DT_INT32\\n    }\\n  }\\n  attr {\\n    key: &quot;value&quot;\\n    value {\\n      tensor {\\n        dtype: DT_INT32\\n        tensor_shape {\\n          dim {\\n          }\\n        }\\n      }\\n    }\\n  }\\n}\\nnode {\\n  name: &quot;gradients/batch_mean_loss_grad/Const&quot;\\n  op: &quot;Const&quot;\\n  attr {\\n    key: &quot;dtype&quot;\\n    value {\\n      type: DT_INT32\\n    }\\n  }\\n  attr {\\n    key: &quot;value&quot;\\n    value {\\n      tensor {\\n        dtype: DT_INT32\\n        tensor_shape {\\n          dim {\\n            size: 1\\n          }\\n        }\\n        int_val: 0\\n      }\\n    }\\n  }\\n}\\nnode {\\n  name: &quot;gradients/batch_mean_loss_grad/Prod&quot;\\n  op: &quot;Prod&quot;\\n  input: &quot;gradients/batch_mean_loss_grad/Shape_1&quot;\\n  input: &quot;gradients/batch_mean_loss_grad/Const&quot;\\n  attr {\\n    key: &quot;T&quot;\\n    value {\\n      type: DT_INT32\\n    }\\n  }\\n  attr {\\n    key: &quot;Tidx&quot;\\n    value {\\n      type: DT_INT32\\n    }\\n  }\\n  attr {\\n    key: &quot;keep_dims&quot;\\n    value {\\n      b: false\\n    }\\n  }\\n}\\nnode {\\n  name: &quot;gradients/batch_mean_loss_grad/Const_1&quot;\\n  op: &quot;Const&quot;\\n  attr {\\n    key: &quot;dtype&quot;\\n    value {\\n      type: DT_INT32\\n    }\\n  }\\n  attr {\\n    key: &quot;value&quot;\\n    value {\\n      tensor {\\n        dtype: DT_INT32\\n        tensor_shape {\\n          dim {\\n            size: 1\\n          }\\n        }\\n        int_val: 0\\n      }\\n    }\\n  }\\n}\\nnode {\\n  name: &quot;gradients/batch_mean_loss_grad/Prod_1&quot;\\n  op: &quot;Prod&quot;\\n  input: &quot;gradients/batch_mean_loss_grad/Shape_2&quot;\\n  input: &quot;gradients/batch_mean_loss_grad/Const_1&quot;\\n  attr {\\n    key: &quot;T&quot;\\n    value {\\n      type: DT_INT32\\n    }\\n  }\\n  attr {\\n    key: &quot;Tidx&quot;\\n    value {\\n      type: DT_INT32\\n    }\\n  }\\n  attr {\\n    key: &quot;keep_dims&quot;\\n    value {\\n      b: false\\n    }\\n  }\\n}\\nnode {\\n  name: &quot;gradients/batch_mean_loss_grad/Maximum/y&quot;\\n  op: &quot;Const&quot;\\n  attr {\\n    key: &quot;dtype&quot;\\n    value {\\n      type: DT_INT32\\n    }\\n  }\\n  attr {\\n    key: &quot;value&quot;\\n    value {\\n      tensor {\\n        dtype: DT_INT32\\n        tensor_shape {\\n        }\\n        int_val: 1\\n      }\\n    }\\n  }\\n}\\nnode {\\n  name: &quot;gradients/batch_mean_loss_grad/Maximum&quot;\\n  op: &quot;Maximum&quot;\\n  input: &quot;gradients/batch_mean_loss_grad/Prod_1&quot;\\n  input: &quot;gradients/batch_mean_loss_grad/Maximum/y&quot;\\n  attr {\\n    key: &quot;T&quot;\\n    value {\\n      type: DT_INT32\\n    }\\n  }\\n}\\nnode {\\n  name: &quot;gradients/batch_mean_loss_grad/floordiv&quot;\\n  op: &quot;FloorDiv&quot;\\n  input: &quot;gradients/batch_mean_loss_grad/Prod&quot;\\n  input: &quot;gradients/batch_mean_loss_grad/Maximum&quot;\\n  attr {\\n    key: &quot;T&quot;\\n    value {\\n      type: DT_INT32\\n    }\\n  }\\n}\\nnode {\\n  name: &quot;gradients/batch_mean_loss_grad/Cast&quot;\\n  op: &quot;Cast&quot;\\n  input: &quot;gradients/batch_mean_loss_grad/floordiv&quot;\\n  attr {\\n    key: &quot;DstT&quot;\\n    value {\\n      type: DT_FLOAT\\n    }\\n  }\\n  attr {\\n    key: &quot;SrcT&quot;\\n    value {\\n      type: DT_INT32\\n    }\\n  }\\n}\\nnode {\\n  name: &quot;gradients/batch_mean_loss_grad/truediv&quot;\\n  op: &quot;RealDiv&quot;\\n  input: &quot;gradients/batch_mean_loss_grad/Tile&quot;\\n  input: &quot;gradients/batch_mean_loss_grad/Cast&quot;\\n  attr {\\n    key: &quot;T&quot;\\n    value {\\n      type: DT_FLOAT\\n    }\\n  }\\n}\\nnode {\\n  name: &quot;gradients/element_wise_loss/Square_grad/Const&quot;\\n  op: &quot;Const&quot;\\n  input: &quot;^gradients/batch_mean_loss_grad/truediv&quot;\\n  attr {\\n    key: &quot;dtype&quot;\\n    value {\\n      type: DT_FLOAT\\n    }\\n  }\\n  attr {\\n    key: &quot;value&quot;\\n    value {\\n      tensor {\\n        dtype: DT_FLOAT\\n        tensor_shape {\\n        }\\n        float_val: 2.0\\n      }\\n    }\\n  }\\n}\\nnode {\\n  name: &quot;gradients/element_wise_loss/Square_grad/Mul&quot;\\n  op: &quot;Mul&quot;\\n  input: &quot;element_wise_loss/sub&quot;\\n  input: &quot;gradients/element_wise_loss/Square_grad/Const&quot;\\n  attr {\\n    key: &quot;T&quot;\\n    value {\\n      type: DT_FLOAT\\n    }\\n  }\\n}\\nnode {\\n  name: &quot;gradients/element_wise_loss/Square_grad/Mul_1&quot;\\n  op: &quot;Mul&quot;\\n  input: &quot;gradients/batch_mean_loss_grad/truediv&quot;\\n  input: &quot;gradients/element_wise_loss/Square_grad/Mul&quot;\\n  attr {\\n    key: &quot;T&quot;\\n    value {\\n      type: DT_FLOAT\\n    }\\n  }\\n}\\nnode {\\n  name: &quot;gradients/element_wise_loss/sub_grad/Shape&quot;\\n  op: &quot;Shape&quot;\\n  input: &quot;labels&quot;\\n  attr {\\n    key: &quot;T&quot;\\n    value {\\n      type: DT_FLOAT\\n    }\\n  }\\n  attr {\\n    key: &quot;out_type&quot;\\n    value {\\n      type: DT_INT32\\n    }\\n  }\\n}\\nnode {\\n  name: &quot;gradients/element_wise_loss/sub_grad/Shape_1&quot;\\n  op: &quot;Shape&quot;\\n  input: &quot;Squeeze&quot;\\n  attr {\\n    key: &quot;T&quot;\\n    value {\\n      type: DT_FLOAT\\n    }\\n  }\\n  attr {\\n    key: &quot;out_type&quot;\\n    value {\\n      type: DT_INT32\\n    }\\n  }\\n}\\nnode {\\n  name: &quot;gradients/element_wise_loss/sub_grad/BroadcastGradientArgs&quot;\\n  op: &quot;BroadcastGradientArgs&quot;\\n  input: &quot;gradients/element_wise_loss/sub_grad/Shape&quot;\\n  input: &quot;gradients/element_wise_loss/sub_grad/Shape_1&quot;\\n  attr {\\n    key: &quot;T&quot;\\n    value {\\n      type: DT_INT32\\n    }\\n  }\\n}\\nnode {\\n  name: &quot;gradients/element_wise_loss/sub_grad/Sum&quot;\\n  op: &quot;Sum&quot;\\n  input: &quot;gradients/element_wise_loss/Square_grad/Mul_1&quot;\\n  input: &quot;gradients/element_wise_loss/sub_grad/BroadcastGradientArgs&quot;\\n  attr {\\n    key: &quot;T&quot;\\n    value {\\n      type: DT_FLOAT\\n    }\\n  }\\n  attr {\\n    key: &quot;Tidx&quot;\\n    value {\\n      type: DT_INT32\\n    }\\n  }\\n  attr {\\n    key: &quot;keep_dims&quot;\\n    value {\\n      b: false\\n    }\\n  }\\n}\\nnode {\\n  name: &quot;gradients/element_wise_loss/sub_grad/Reshape&quot;\\n  op: &quot;Reshape&quot;\\n  input: &quot;gradients/element_wise_loss/sub_grad/Sum&quot;\\n  input: &quot;gradients/element_wise_loss/sub_grad/Shape&quot;\\n  attr {\\n    key: &quot;T&quot;\\n    value {\\n      type: DT_FLOAT\\n    }\\n  }\\n  attr {\\n    key: &quot;Tshape&quot;\\n    value {\\n      type: DT_INT32\\n    }\\n  }\\n}\\nnode {\\n  name: &quot;gradients/element_wise_loss/sub_grad/Sum_1&quot;\\n  op: &quot;Sum&quot;\\n  input: &quot;gradients/element_wise_loss/Square_grad/Mul_1&quot;\\n  input: &quot;gradients/element_wise_loss/sub_grad/BroadcastGradientArgs:1&quot;\\n  attr {\\n    key: &quot;T&quot;\\n    value {\\n      type: DT_FLOAT\\n    }\\n  }\\n  attr {\\n    key: &quot;Tidx&quot;\\n    value {\\n      type: DT_INT32\\n    }\\n  }\\n  attr {\\n    key: &quot;keep_dims&quot;\\n    value {\\n      b: false\\n    }\\n  }\\n}\\nnode {\\n  name: &quot;gradients/element_wise_loss/sub_grad/Neg&quot;\\n  op: &quot;Neg&quot;\\n  input: &quot;gradients/element_wise_loss/sub_grad/Sum_1&quot;\\n  attr {\\n    key: &quot;T&quot;\\n    value {\\n      type: DT_FLOAT\\n    }\\n  }\\n}\\nnode {\\n  name: &quot;gradients/element_wise_loss/sub_grad/Reshape_1&quot;\\n  op: &quot;Reshape&quot;\\n  input: &quot;gradients/element_wise_loss/sub_grad/Neg&quot;\\n  input: &quot;gradients/element_wise_loss/sub_grad/Shape_1&quot;\\n  attr {\\n    key: &quot;T&quot;\\n    value {\\n      type: DT_FLOAT\\n    }\\n  }\\n  attr {\\n    key: &quot;Tshape&quot;\\n    value {\\n      type: DT_INT32\\n    }\\n  }\\n}\\nnode {\\n  name: &quot;gradients/element_wise_loss/sub_grad/tuple/group_deps&quot;\\n  op: &quot;NoOp&quot;\\n  input: &quot;^gradients/element_wise_loss/sub_grad/Reshape&quot;\\n  input: &quot;^gradients/element_wise_loss/sub_grad/Reshape_1&quot;\\n}\\nnode {\\n  name: &quot;gradients/element_wise_loss/sub_grad/tuple/control_dependency&quot;\\n  op: &quot;Identity&quot;\\n  input: &quot;gradients/element_wise_loss/sub_grad/Reshape&quot;\\n  input: &quot;^gradients/element_wise_loss/sub_grad/tuple/group_deps&quot;\\n  attr {\\n    key: &quot;T&quot;\\n    value {\\n      type: DT_FLOAT\\n    }\\n  }\\n  attr {\\n    key: &quot;_class&quot;\\n    value {\\n      list {\\n        s: &quot;loc:@gradients/element_wise_loss/sub_grad/Reshape&quot;\\n      }\\n    }\\n  }\\n}\\nnode {\\n  name: &quot;gradients/element_wise_loss/sub_grad/tuple/control_dependency_1&quot;\\n  op: &quot;Identity&quot;\\n  input: &quot;gradients/element_wise_loss/sub_grad/Reshape_1&quot;\\n  input: &quot;^gradients/element_wise_loss/sub_grad/tuple/group_deps&quot;\\n  attr {\\n    key: &quot;T&quot;\\n    value {\\n      type: DT_FLOAT\\n    }\\n  }\\n  attr {\\n    key: &quot;_class&quot;\\n    value {\\n      list {\\n        s: &quot;loc:@gradients/element_wise_loss/sub_grad/Reshape_1&quot;\\n      }\\n    }\\n  }\\n}\\nnode {\\n  name: &quot;gradients/Squeeze_grad/Shape&quot;\\n  op: &quot;Shape&quot;\\n  input: &quot;linear_1/add&quot;\\n  attr {\\n    key: &quot;T&quot;\\n    value {\\n      type: DT_FLOAT\\n    }\\n  }\\n  attr {\\n    key: &quot;out_type&quot;\\n    value {\\n      type: DT_INT32\\n    }\\n  }\\n}\\nnode {\\n  name: &quot;gradients/Squeeze_grad/Reshape&quot;\\n  op: &quot;Reshape&quot;\\n  input: &quot;gradients/element_wise_loss/sub_grad/tuple/control_dependency_1&quot;\\n  input: &quot;gradients/Squeeze_grad/Shape&quot;\\n  attr {\\n    key: &quot;T&quot;\\n    value {\\n      type: DT_FLOAT\\n    }\\n  }\\n  attr {\\n    key: &quot;Tshape&quot;\\n    value {\\n      type: DT_INT32\\n    }\\n  }\\n}\\nnode {\\n  name: &quot;gradients/linear_1/add_grad/Shape&quot;\\n  op: &quot;Shape&quot;\\n  input: &quot;linear_1/MatMul&quot;\\n  attr {\\n    key: &quot;T&quot;\\n    value {\\n      type: DT_FLOAT\\n    }\\n  }\\n  attr {\\n    key: &quot;out_type&quot;\\n    value {\\n      type: DT_INT32\\n    }\\n  }\\n}\\nnode {\\n  name: &quot;gradients/linear_1/add_grad/Shape_1&quot;\\n  op: &quot;Const&quot;\\n  attr {\\n    key: &quot;dtype&quot;\\n    value {\\n      type: DT_INT32\\n    }\\n  }\\n  attr {\\n    key: &quot;value&quot;\\n    value {\\n      tensor {\\n        dtype: DT_INT32\\n        tensor_shape {\\n          dim {\\n            size: 1\\n          }\\n        }\\n        int_val: 1\\n      }\\n    }\\n  }\\n}\\nnode {\\n  name: &quot;gradients/linear_1/add_grad/BroadcastGradientArgs&quot;\\n  op: &quot;BroadcastGradientArgs&quot;\\n  input: &quot;gradients/linear_1/add_grad/Shape&quot;\\n  input: &quot;gradients/linear_1/add_grad/Shape_1&quot;\\n  attr {\\n    key: &quot;T&quot;\\n    value {\\n      type: DT_INT32\\n    }\\n  }\\n}\\nnode {\\n  name: &quot;gradients/linear_1/add_grad/Sum&quot;\\n  op: &quot;Sum&quot;\\n  input: &quot;gradients/Squeeze_grad/Reshape&quot;\\n  input: &quot;gradients/linear_1/add_grad/BroadcastGradientArgs&quot;\\n  attr {\\n    key: &quot;T&quot;\\n    value {\\n      type: DT_FLOAT\\n    }\\n  }\\n  attr {\\n    key: &quot;Tidx&quot;\\n    value {\\n      type: DT_INT32\\n    }\\n  }\\n  attr {\\n    key: &quot;keep_dims&quot;\\n    value {\\n      b: false\\n    }\\n  }\\n}\\nnode {\\n  name: &quot;gradients/linear_1/add_grad/Reshape&quot;\\n  op: &quot;Reshape&quot;\\n  input: &quot;gradients/linear_1/add_grad/Sum&quot;\\n  input: &quot;gradients/linear_1/add_grad/Shape&quot;\\n  attr {\\n    key: &quot;T&quot;\\n    value {\\n      type: DT_FLOAT\\n    }\\n  }\\n  attr {\\n    key: &quot;Tshape&quot;\\n    value {\\n      type: DT_INT32\\n    }\\n  }\\n}\\nnode {\\n  name: &quot;gradients/linear_1/add_grad/Sum_1&quot;\\n  op: &quot;Sum&quot;\\n  input: &quot;gradients/Squeeze_grad/Reshape&quot;\\n  input: &quot;gradients/linear_1/add_grad/BroadcastGradientArgs:1&quot;\\n  attr {\\n    key: &quot;T&quot;\\n    value {\\n      type: DT_FLOAT\\n    }\\n  }\\n  attr {\\n    key: &quot;Tidx&quot;\\n    value {\\n      type: DT_INT32\\n    }\\n  }\\n  attr {\\n    key: &quot;keep_dims&quot;\\n    value {\\n      b: false\\n    }\\n  }\\n}\\nnode {\\n  name: &quot;gradients/linear_1/add_grad/Reshape_1&quot;\\n  op: &quot;Reshape&quot;\\n  input: &quot;gradients/linear_1/add_grad/Sum_1&quot;\\n  input: &quot;gradients/linear_1/add_grad/Shape_1&quot;\\n  attr {\\n    key: &quot;T&quot;\\n    value {\\n      type: DT_FLOAT\\n    }\\n  }\\n  attr {\\n    key: &quot;Tshape&quot;\\n    value {\\n      type: DT_INT32\\n    }\\n  }\\n}\\nnode {\\n  name: &quot;gradients/linear_1/add_grad/tuple/group_deps&quot;\\n  op: &quot;NoOp&quot;\\n  input: &quot;^gradients/linear_1/add_grad/Reshape&quot;\\n  input: &quot;^gradients/linear_1/add_grad/Reshape_1&quot;\\n}\\nnode {\\n  name: &quot;gradients/linear_1/add_grad/tuple/control_dependency&quot;\\n  op: &quot;Identity&quot;\\n  input: &quot;gradients/linear_1/add_grad/Reshape&quot;\\n  input: &quot;^gradients/linear_1/add_grad/tuple/group_deps&quot;\\n  attr {\\n    key: &quot;T&quot;\\n    value {\\n      type: DT_FLOAT\\n    }\\n  }\\n  attr {\\n    key: &quot;_class&quot;\\n    value {\\n      list {\\n        s: &quot;loc:@gradients/linear_1/add_grad/Reshape&quot;\\n      }\\n    }\\n  }\\n}\\nnode {\\n  name: &quot;gradients/linear_1/add_grad/tuple/control_dependency_1&quot;\\n  op: &quot;Identity&quot;\\n  input: &quot;gradients/linear_1/add_grad/Reshape_1&quot;\\n  input: &quot;^gradients/linear_1/add_grad/tuple/group_deps&quot;\\n  attr {\\n    key: &quot;T&quot;\\n    value {\\n      type: DT_FLOAT\\n    }\\n  }\\n  attr {\\n    key: &quot;_class&quot;\\n    value {\\n      list {\\n        s: &quot;loc:@gradients/linear_1/add_grad/Reshape_1&quot;\\n      }\\n    }\\n  }\\n}\\nnode {\\n  name: &quot;gradients/linear_1/MatMul_grad/MatMul&quot;\\n  op: &quot;MatMul&quot;\\n  input: &quot;gradients/linear_1/add_grad/tuple/control_dependency&quot;\\n  input: &quot;linear_1/w/read&quot;\\n  attr {\\n    key: &quot;T&quot;\\n    value {\\n      type: DT_FLOAT\\n    }\\n  }\\n  attr {\\n    key: &quot;transpose_a&quot;\\n    value {\\n      b: false\\n    }\\n  }\\n  attr {\\n    key: &quot;transpose_b&quot;\\n    value {\\n      b: true\\n    }\\n  }\\n}\\nnode {\\n  name: &quot;gradients/linear_1/MatMul_grad/MatMul_1&quot;\\n  op: &quot;MatMul&quot;\\n  input: &quot;Relu&quot;\\n  input: &quot;gradients/linear_1/add_grad/tuple/control_dependency&quot;\\n  attr {\\n    key: &quot;T&quot;\\n    value {\\n      type: DT_FLOAT\\n    }\\n  }\\n  attr {\\n    key: &quot;transpose_a&quot;\\n    value {\\n      b: true\\n    }\\n  }\\n  attr {\\n    key: &quot;transpose_b&quot;\\n    value {\\n      b: false\\n    }\\n  }\\n}\\nnode {\\n  name: &quot;gradients/linear_1/MatMul_grad/tuple/group_deps&quot;\\n  op: &quot;NoOp&quot;\\n  input: &quot;^gradients/linear_1/MatMul_grad/MatMul&quot;\\n  input: &quot;^gradients/linear_1/MatMul_grad/MatMul_1&quot;\\n}\\nnode {\\n  name: &quot;gradients/linear_1/MatMul_grad/tuple/control_dependency&quot;\\n  op: &quot;Identity&quot;\\n  input: &quot;gradients/linear_1/MatMul_grad/MatMul&quot;\\n  input: &quot;^gradients/linear_1/MatMul_grad/tuple/group_deps&quot;\\n  attr {\\n    key: &quot;T&quot;\\n    value {\\n      type: DT_FLOAT\\n    }\\n  }\\n  attr {\\n    key: &quot;_class&quot;\\n    value {\\n      list {\\n        s: &quot;loc:@gradients/linear_1/MatMul_grad/MatMul&quot;\\n      }\\n    }\\n  }\\n}\\nnode {\\n  name: &quot;gradients/linear_1/MatMul_grad/tuple/control_dependency_1&quot;\\n  op: &quot;Identity&quot;\\n  input: &quot;gradients/linear_1/MatMul_grad/MatMul_1&quot;\\n  input: &quot;^gradients/linear_1/MatMul_grad/tuple/group_deps&quot;\\n  attr {\\n    key: &quot;T&quot;\\n    value {\\n      type: DT_FLOAT\\n    }\\n  }\\n  attr {\\n    key: &quot;_class&quot;\\n    value {\\n      list {\\n        s: &quot;loc:@gradients/linear_1/MatMul_grad/MatMul_1&quot;\\n      }\\n    }\\n  }\\n}\\nnode {\\n  name: &quot;gradients/Relu_grad/ReluGrad&quot;\\n  op: &quot;ReluGrad&quot;\\n  input: &quot;gradients/linear_1/MatMul_grad/tuple/control_dependency&quot;\\n  input: &quot;Relu&quot;\\n  attr {\\n    key: &quot;T&quot;\\n    value {\\n      type: DT_FLOAT\\n    }\\n  }\\n}\\nnode {\\n  name: &quot;gradients/linear/add_grad/Shape&quot;\\n  op: &quot;Shape&quot;\\n  input: &quot;linear/MatMul&quot;\\n  attr {\\n    key: &quot;T&quot;\\n    value {\\n      type: DT_FLOAT\\n    }\\n  }\\n  attr {\\n    key: &quot;out_type&quot;\\n    value {\\n      type: DT_INT32\\n    }\\n  }\\n}\\nnode {\\n  name: &quot;gradients/linear/add_grad/Shape_1&quot;\\n  op: &quot;Const&quot;\\n  attr {\\n    key: &quot;dtype&quot;\\n    value {\\n      type: DT_INT32\\n    }\\n  }\\n  attr {\\n    key: &quot;value&quot;\\n    value {\\n      tensor {\\n        dtype: DT_INT32\\n        tensor_shape {\\n          dim {\\n            size: 1\\n          }\\n        }\\n        int_val: 5\\n      }\\n    }\\n  }\\n}\\nnode {\\n  name: &quot;gradients/linear/add_grad/BroadcastGradientArgs&quot;\\n  op: &quot;BroadcastGradientArgs&quot;\\n  input: &quot;gradients/linear/add_grad/Shape&quot;\\n  input: &quot;gradients/linear/add_grad/Shape_1&quot;\\n  attr {\\n    key: &quot;T&quot;\\n    value {\\n      type: DT_INT32\\n    }\\n  }\\n}\\nnode {\\n  name: &quot;gradients/linear/add_grad/Sum&quot;\\n  op: &quot;Sum&quot;\\n  input: &quot;gradients/Relu_grad/ReluGrad&quot;\\n  input: &quot;gradients/linear/add_grad/BroadcastGradientArgs&quot;\\n  attr {\\n    key: &quot;T&quot;\\n    value {\\n      type: DT_FLOAT\\n    }\\n  }\\n  attr {\\n    key: &quot;Tidx&quot;\\n    value {\\n      type: DT_INT32\\n    }\\n  }\\n  attr {\\n    key: &quot;keep_dims&quot;\\n    value {\\n      b: false\\n    }\\n  }\\n}\\nnode {\\n  name: &quot;gradients/linear/add_grad/Reshape&quot;\\n  op: &quot;Reshape&quot;\\n  input: &quot;gradients/linear/add_grad/Sum&quot;\\n  input: &quot;gradients/linear/add_grad/Shape&quot;\\n  attr {\\n    key: &quot;T&quot;\\n    value {\\n      type: DT_FLOAT\\n    }\\n  }\\n  attr {\\n    key: &quot;Tshape&quot;\\n    value {\\n      type: DT_INT32\\n    }\\n  }\\n}\\nnode {\\n  name: &quot;gradients/linear/add_grad/Sum_1&quot;\\n  op: &quot;Sum&quot;\\n  input: &quot;gradients/Relu_grad/ReluGrad&quot;\\n  input: &quot;gradients/linear/add_grad/BroadcastGradientArgs:1&quot;\\n  attr {\\n    key: &quot;T&quot;\\n    value {\\n      type: DT_FLOAT\\n    }\\n  }\\n  attr {\\n    key: &quot;Tidx&quot;\\n    value {\\n      type: DT_INT32\\n    }\\n  }\\n  attr {\\n    key: &quot;keep_dims&quot;\\n    value {\\n      b: false\\n    }\\n  }\\n}\\nnode {\\n  name: &quot;gradients/linear/add_grad/Reshape_1&quot;\\n  op: &quot;Reshape&quot;\\n  input: &quot;gradients/linear/add_grad/Sum_1&quot;\\n  input: &quot;gradients/linear/add_grad/Shape_1&quot;\\n  attr {\\n    key: &quot;T&quot;\\n    value {\\n      type: DT_FLOAT\\n    }\\n  }\\n  attr {\\n    key: &quot;Tshape&quot;\\n    value {\\n      type: DT_INT32\\n    }\\n  }\\n}\\nnode {\\n  name: &quot;gradients/linear/add_grad/tuple/group_deps&quot;\\n  op: &quot;NoOp&quot;\\n  input: &quot;^gradients/linear/add_grad/Reshape&quot;\\n  input: &quot;^gradients/linear/add_grad/Reshape_1&quot;\\n}\\nnode {\\n  name: &quot;gradients/linear/add_grad/tuple/control_dependency&quot;\\n  op: &quot;Identity&quot;\\n  input: &quot;gradients/linear/add_grad/Reshape&quot;\\n  input: &quot;^gradients/linear/add_grad/tuple/group_deps&quot;\\n  attr {\\n    key: &quot;T&quot;\\n    value {\\n      type: DT_FLOAT\\n    }\\n  }\\n  attr {\\n    key: &quot;_class&quot;\\n    value {\\n      list {\\n        s: &quot;loc:@gradients/linear/add_grad/Reshape&quot;\\n      }\\n    }\\n  }\\n}\\nnode {\\n  name: &quot;gradients/linear/add_grad/tuple/control_dependency_1&quot;\\n  op: &quot;Identity&quot;\\n  input: &quot;gradients/linear/add_grad/Reshape_1&quot;\\n  input: &quot;^gradients/linear/add_grad/tuple/group_deps&quot;\\n  attr {\\n    key: &quot;T&quot;\\n    value {\\n      type: DT_FLOAT\\n    }\\n  }\\n  attr {\\n    key: &quot;_class&quot;\\n    value {\\n      list {\\n        s: &quot;loc:@gradients/linear/add_grad/Reshape_1&quot;\\n      }\\n    }\\n  }\\n}\\nnode {\\n  name: &quot;gradients/linear/MatMul_grad/MatMul&quot;\\n  op: &quot;MatMul&quot;\\n  input: &quot;gradients/linear/add_grad/tuple/control_dependency&quot;\\n  input: &quot;linear/w/read&quot;\\n  attr {\\n    key: &quot;T&quot;\\n    value {\\n      type: DT_FLOAT\\n    }\\n  }\\n  attr {\\n    key: &quot;transpose_a&quot;\\n    value {\\n      b: false\\n    }\\n  }\\n  attr {\\n    key: &quot;transpose_b&quot;\\n    value {\\n      b: true\\n    }\\n  }\\n}\\nnode {\\n  name: &quot;gradients/linear/MatMul_grad/MatMul_1&quot;\\n  op: &quot;MatMul&quot;\\n  input: &quot;inputs&quot;\\n  input: &quot;gradients/linear/add_grad/tuple/control_dependency&quot;\\n  attr {\\n    key: &quot;T&quot;\\n    value {\\n      type: DT_FLOAT\\n    }\\n  }\\n  attr {\\n    key: &quot;transpose_a&quot;\\n    value {\\n      b: true\\n    }\\n  }\\n  attr {\\n    key: &quot;transpose_b&quot;\\n    value {\\n      b: false\\n    }\\n  }\\n}\\nnode {\\n  name: &quot;gradients/linear/MatMul_grad/tuple/group_deps&quot;\\n  op: &quot;NoOp&quot;\\n  input: &quot;^gradients/linear/MatMul_grad/MatMul&quot;\\n  input: &quot;^gradients/linear/MatMul_grad/MatMul_1&quot;\\n}\\nnode {\\n  name: &quot;gradients/linear/MatMul_grad/tuple/control_dependency&quot;\\n  op: &quot;Identity&quot;\\n  input: &quot;gradients/linear/MatMul_grad/MatMul&quot;\\n  input: &quot;^gradients/linear/MatMul_grad/tuple/group_deps&quot;\\n  attr {\\n    key: &quot;T&quot;\\n    value {\\n      type: DT_FLOAT\\n    }\\n  }\\n  attr {\\n    key: &quot;_class&quot;\\n    value {\\n      list {\\n        s: &quot;loc:@gradients/linear/MatMul_grad/MatMul&quot;\\n      }\\n    }\\n  }\\n}\\nnode {\\n  name: &quot;gradients/linear/MatMul_grad/tuple/control_dependency_1&quot;\\n  op: &quot;Identity&quot;\\n  input: &quot;gradients/linear/MatMul_grad/MatMul_1&quot;\\n  input: &quot;^gradients/linear/MatMul_grad/tuple/group_deps&quot;\\n  attr {\\n    key: &quot;T&quot;\\n    value {\\n      type: DT_FLOAT\\n    }\\n  }\\n  attr {\\n    key: &quot;_class&quot;\\n    value {\\n      list {\\n        s: &quot;loc:@gradients/linear/MatMul_grad/MatMul_1&quot;\\n      }\\n    }\\n  }\\n}\\nnode {\\n  name: &quot;GradientDescent/learning_rate&quot;\\n  op: &quot;Const&quot;\\n  attr {\\n    key: &quot;dtype&quot;\\n    value {\\n      type: DT_FLOAT\\n    }\\n  }\\n  attr {\\n    key: &quot;value&quot;\\n    value {\\n      tensor {\\n        dtype: DT_FLOAT\\n        tensor_shape {\\n        }\\n        float_val: 0.00999999977648\\n      }\\n    }\\n  }\\n}\\nnode {\\n  name: &quot;GradientDescent/update_linear/w/ApplyGradientDescent&quot;\\n  op: &quot;ApplyGradientDescent&quot;\\n  input: &quot;linear/w&quot;\\n  input: &quot;GradientDescent/learning_rate&quot;\\n  input: &quot;gradients/linear/MatMul_grad/tuple/control_dependency_1&quot;\\n  attr {\\n    key: &quot;T&quot;\\n    value {\\n      type: DT_FLOAT\\n    }\\n  }\\n  attr {\\n    key: &quot;_class&quot;\\n    value {\\n      list {\\n        s: &quot;loc:@linear/w&quot;\\n      }\\n    }\\n  }\\n  attr {\\n    key: &quot;use_locking&quot;\\n    value {\\n      b: false\\n    }\\n  }\\n}\\nnode {\\n  name: &quot;GradientDescent/update_linear/b/ApplyGradientDescent&quot;\\n  op: &quot;ApplyGradientDescent&quot;\\n  input: &quot;linear/b&quot;\\n  input: &quot;GradientDescent/learning_rate&quot;\\n  input: &quot;gradients/linear/add_grad/tuple/control_dependency_1&quot;\\n  attr {\\n    key: &quot;T&quot;\\n    value {\\n      type: DT_FLOAT\\n    }\\n  }\\n  attr {\\n    key: &quot;_class&quot;\\n    value {\\n      list {\\n        s: &quot;loc:@linear/b&quot;\\n      }\\n    }\\n  }\\n  attr {\\n    key: &quot;use_locking&quot;\\n    value {\\n      b: false\\n    }\\n  }\\n}\\nnode {\\n  name: &quot;GradientDescent/update_linear_1/w/ApplyGradientDescent&quot;\\n  op: &quot;ApplyGradientDescent&quot;\\n  input: &quot;linear_1/w&quot;\\n  input: &quot;GradientDescent/learning_rate&quot;\\n  input: &quot;gradients/linear_1/MatMul_grad/tuple/control_dependency_1&quot;\\n  attr {\\n    key: &quot;T&quot;\\n    value {\\n      type: DT_FLOAT\\n    }\\n  }\\n  attr {\\n    key: &quot;_class&quot;\\n    value {\\n      list {\\n        s: &quot;loc:@linear_1/w&quot;\\n      }\\n    }\\n  }\\n  attr {\\n    key: &quot;use_locking&quot;\\n    value {\\n      b: false\\n    }\\n  }\\n}\\nnode {\\n  name: &quot;GradientDescent/update_linear_1/b/ApplyGradientDescent&quot;\\n  op: &quot;ApplyGradientDescent&quot;\\n  input: &quot;linear_1/b&quot;\\n  input: &quot;GradientDescent/learning_rate&quot;\\n  input: &quot;gradients/linear_1/add_grad/tuple/control_dependency_1&quot;\\n  attr {\\n    key: &quot;T&quot;\\n    value {\\n      type: DT_FLOAT\\n    }\\n  }\\n  attr {\\n    key: &quot;_class&quot;\\n    value {\\n      list {\\n        s: &quot;loc:@linear_1/b&quot;\\n      }\\n    }\\n  }\\n  attr {\\n    key: &quot;use_locking&quot;\\n    value {\\n      b: false\\n    }\\n  }\\n}\\nnode {\\n  name: &quot;GradientDescent&quot;\\n  op: &quot;NoOp&quot;\\n  input: &quot;^GradientDescent/update_linear/b/ApplyGradientDescent&quot;\\n  input: &quot;^GradientDescent/update_linear/w/ApplyGradientDescent&quot;\\n  input: &quot;^GradientDescent/update_linear_1/b/ApplyGradientDescent&quot;\\n  input: &quot;^GradientDescent/update_linear_1/w/ApplyGradientDescent&quot;\\n}\\n';\n",
              "          }\n",
              "        </script>\n",
              "        <link rel=&quot;import&quot; href=&quot;https://tensorboard.appspot.com/tf-graph-basic.build.html&quot; onload=load()>\n",
              "        <div style=&quot;height:600px&quot;>\n",
              "          <tf-graph-basic id=&quot;graph0.184533947106&quot;></tf-graph-basic>\n",
              "        </div>\n",
              "    \"></iframe>\n",
              "    "
            ]
          },
          "metadata": {
            "tags": []
          }
        }
      ]
    },
    {
      "metadata": {
        "id": "BCcYLuZms1-B",
        "colab_type": "text"
      },
      "cell_type": "markdown",
      "source": [
        "The minimization call added\n",
        "\n",
        "* gradient calculation operations\n",
        "* operations that update the weights based on these gradients.\n",
        "\n",
        "In fact, **we could have built the graph corresponding to `minimize()` manually** by\n",
        "\n",
        "* calculating the gradients of the loss with respect to the weights with the `tf.gradients(loss, [list of weights])` operation,\n",
        "* potentially scaling these gradients and adding them to the existing weights.\n"
      ]
    },
    {
      "metadata": {
        "id": "JSOTFgNDnxQv",
        "colab_type": "text"
      },
      "cell_type": "markdown",
      "source": [
        "By running the returned `train_op`, we take one gradient step, fitting the data just a bit better. Let's do this! But first some setup."
      ]
    },
    {
      "metadata": {
        "id": "g1rq6u6JHuYV",
        "colab_type": "code",
        "colab": {
          "autoexec": {
            "startup": false,
            "wait_interval": 0
          },
          "base_uri": "https://localhost:8080/",
          "height": 404
        },
        "outputId": "6a80953f-174e-430d-d31c-8cdd015f1221",
        "executionInfo": {
          "status": "ok",
          "timestamp": 1530876928993,
          "user_tz": -60,
          "elapsed": 485,
          "user": {
            "displayName": "David Szepesvari",
            "photoUrl": "//lh3.googleusercontent.com/-b59pEhK2Mu4/AAAAAAAAAAI/AAAAAAAABYk/II49sX2Iiac/s50-c-k-no/photo.jpg",
            "userId": "112028855906936668175"
          }
        }
      },
      "cell_type": "code",
      "source": [
        "# Get some training data, and plot it. This is based on earlier exercises.\n",
        "inputs_np, true_labels_np = get_data(num_examples=128)\n",
        "plot_nxor_data(inputs_np, true_labels_np, title='Train data')\n",
        "\n",
        "# Show some statistics that can help with debugging\n",
        "print('Mean label on train data:', np.mean(true_labels_np))\n"
      ],
      "execution_count": 43,
      "outputs": [
        {
          "output_type": "stream",
          "text": [
            "No handlers could be found for logger \"matplotlib.legend\"\n"
          ],
          "name": "stderr"
        },
        {
          "output_type": "display_data",
          "data": {
            "image/png": "[encoded data removed]",
            "text/plain": [
              "<matplotlib.figure.Figure at 0x7f27df1e1610>"
            ]
          },
          "metadata": {
            "tags": []
          }
        },
        {
          "output_type": "stream",
          "text": [
            "Mean label on train data: 0.109375\n"
          ],
          "name": "stdout"
        }
      ]
    },
    {
      "metadata": {
        "id": "-1rqXbD66xH4",
        "colab_type": "code",
        "colab": {
          "autoexec": {
            "startup": false,
            "wait_interval": 0
          }
        }
      },
      "cell_type": "code",
      "source": [
        "init_op = tf.global_variables_initializer()"
      ],
      "execution_count": 0,
      "outputs": []
    },
    {
      "metadata": {
        "id": "kep9Tdjln0Ki",
        "colab_type": "text"
      },
      "cell_type": "markdown",
      "source": [
        "**The final training script.**  \n",
        "\n",
        "This cell contains all training and some reporting code. For now you can just run it, but for the next exercise you will have to understand it.\n",
        "\n",
        "*Note that sometimes we can get a bad weight initialization, but in a few runs you can easily get below 5% error.*"
      ]
    },
    {
      "metadata": {
        "id": "HxIP3cY4kfIA",
        "colab_type": "code",
        "colab": {
          "autoexec": {
            "startup": false,
            "wait_interval": 0
          },
          "base_uri": "https://localhost:8080/",
          "height": 602
        },
        "outputId": "a89b6089-b029-42ca-e5ce-84aebce38530",
        "executionInfo": {
          "status": "ok",
          "timestamp": 1530876935790,
          "user_tz": -60,
          "elapsed": 5886,
          "user": {
            "displayName": "David Szepesvari",
            "photoUrl": "//lh3.googleusercontent.com/-b59pEhK2Mu4/AAAAAAAAAAI/AAAAAAAABYk/II49sX2Iiac/s50-c-k-no/photo.jpg",
            "userId": "112028855906936668175"
          }
        }
      },
      "cell_type": "code",
      "source": [
        "RECORD_PERIOD = int(1e3)\n",
        "\n",
        "training_steps = 10000   #@param {'type': 'integer'}\n",
        "\n",
        "print('Losses:')\n",
        "with tf.Session() as session:\n",
        "  session.run(init_op)  # Initializes the weights in the network.\n",
        "\n",
        "  for i in range(training_steps):\n",
        "    _, loss_np = session.run(\n",
        "        [train_op, loss],\n",
        "        feed_dict={\n",
        "            inputs_placeholder: inputs_np,\n",
        "            labels_placeholder: true_labels_np,\n",
        "    })\n",
        "    if (i % RECORD_PERIOD) == 0:\n",
        "      print(' ', loss_np)\n",
        "      if loss_np < 0.01:\n",
        "        print()\n",
        "        print('Loss hit threshold after {} steps, stopping.'.format(i))\n",
        "        break\n",
        "  \n",
        "  print()\n",
        "  # The model is ready to be evaluated. Fetch the predicted outputs.\n",
        "  predictions_np = session.run(outputs,\n",
        "      feed_dict={\n",
        "          inputs_placeholder: inputs_np,\n",
        "  })\n",
        "  # Actual label predictions given as {-1, +1}.\n",
        "  predictions_np[predictions_np <= 0] = -1\n",
        "  predictions_np[predictions_np > 0] = 1\n",
        "  # Prediction errors and plotting.\n",
        "  num_correct = np.count_nonzero(np.isclose(predictions_np, true_labels_np))\n",
        "  num_examples = true_labels_np.shape[0]\n",
        "  print('Prediction error:', (num_examples-num_correct)/num_examples)\n",
        "  plot_nxor_data(inputs_np, predictions_np, title='Predictions')\n",
        "  "
      ],
      "execution_count": 45,
      "outputs": [
        {
          "output_type": "stream",
          "text": [
            "Losses:\n",
            "  0.91392404\n",
            "  0.6306331\n",
            "  0.62314343\n",
            "  0.61937404\n",
            "  0.61619776\n",
            "  0.6134037\n",
            "  0.6103557\n",
            "  0.6076933\n",
            "  0.6053133\n",
            "  0.602031\n",
            "\n",
            "Prediction error: 0.171875\n"
          ],
          "name": "stdout"
        },
        {
          "output_type": "display_data",
          "data": {
            "image/png": "[encoded data removed]",
            "text/plain": [
              "<matplotlib.figure.Figure at 0x7f27dfad3690>"
            ]
          },
          "metadata": {
            "tags": []
          }
        }
      ]
    },
    {
      "metadata": {
        "id": "BA0DfXiDWVym",
        "colab_type": "text"
      },
      "cell_type": "markdown",
      "source": [
        "Notice that the prediction error calculation was inside the `with tf.Session()` context manager. This because **the graph state (including weights) is only maintained on a per session basis**. It is possible to save (and load) graphs, including their weights, with a [`tf.train.Saver`](https://www.tensorflow.org/api_docs/python/tf/train/Saver)."
      ]
    },
    {
      "metadata": {
        "id": "SJLoWp90ueo4",
        "colab_type": "text"
      },
      "cell_type": "markdown",
      "source": [
        "## Exercise:  Evaluate the trained model\n",
        "\n",
        "We have seen how to train the model -- that is -- we saw that the model can fit the training set well. But we are actually  interested in generalizing to new examples from the same data distribution.\n",
        "\n",
        "1. Define a training and a test dataset using our data generation function.\n",
        "2. Fit the training data using the model we defined above.\n",
        "3. Instead of reporting the prediction error only on the training set, also report it on the test set.\n",
        "4. Plot the predictions on the test set using the pre-defined plotting function."
      ]
    },
    {
      "metadata": {
        "id": "Z-3LJCcXxSxO",
        "colab_type": "text"
      },
      "cell_type": "markdown",
      "source": [
        "For simplicity, the full model building code is included in the cell below:"
      ]
    },
    {
      "metadata": {
        "id": "0-i6rjzYXGa8",
        "colab_type": "code",
        "colab": {
          "autoexec": {
            "startup": false,
            "wait_interval": 0
          }
        }
      },
      "cell_type": "code",
      "source": [
        "tf.reset_default_graph()\n",
        "\n",
        "# Inputs.\n",
        "inputs_placeholder = tf.placeholder(tf.float32, shape=(None, 2), name='inputs')\n",
        "labels_placeholder = tf.placeholder(tf.float32, shape=(None,), name='labels')\n",
        "\n",
        "# All network and loss definition.\n",
        "activations = tf.nn.relu(\n",
        "    snt.Linear(output_size=5)(inputs_placeholder))\n",
        "outputs = tf.squeeze(\n",
        "    snt.Linear(output_size=1)(activations), axis=-1)\n",
        "loss = tf.reduce_mean(\n",
        "    tf.squared_difference(labels_placeholder, outputs))\n",
        "\n",
        "# Optimizer and initializer.\n",
        "optimizer = tf.train.GradientDescentOptimizer(learning_rate=0.03)\n",
        "train_op = optimizer.minimize(loss)\n",
        "init_op = tf.global_variables_initializer()"
      ],
      "execution_count": 0,
      "outputs": []
    },
    {
      "metadata": {
        "id": "uYdMlXp6uehe",
        "colab_type": "code",
        "colab": {
          "autoexec": {
            "startup": false,
            "wait_interval": 0
          }
        }
      },
      "cell_type": "code",
      "source": [
        "#@title Your Code"
      ],
      "execution_count": 0,
      "outputs": []
    },
    {
      "metadata": {
        "id": "nIDH0C6lWVku",
        "colab_type": "code",
        "colab": {
          "autoexec": {
            "startup": false,
            "wait_interval": 0
          },
          "base_uri": "https://localhost:8080/",
          "height": 776
        },
        "cellView": "form",
        "outputId": "8159a66a-79c8-4db9-b40c-fc0f5f11e7bd",
        "executionInfo": {
          "status": "ok",
          "timestamp": 1530760035160,
          "user_tz": -60,
          "elapsed": 13698,
          "user": {
            "displayName": "David Szepesvari",
            "photoUrl": "//lh3.googleusercontent.com/-b59pEhK2Mu4/AAAAAAAAAAI/AAAAAAAABYk/II49sX2Iiac/s50-c-k-no/photo.jpg",
            "userId": "112028855906936668175"
          }
        }
      },
      "cell_type": "code",
      "source": [
        "#@title Solution\n",
        "\n",
        "# The solution is very similar to the previous training script, except care\n",
        "# needs to be taken to have a separate train and test set.\n",
        "\n",
        "train_inputs_np, train_labels_np = get_data(num_examples=256)\n",
        "test_inputs_np, test_labels_np = get_data(num_examples=128)\n",
        "\n",
        "\n",
        "TRAINING_STEPS = int(2e4)\n",
        "RECORD_PERIOD = int(1e3)\n",
        "\n",
        "\n",
        "def _get_predictions(inputs):\n",
        "  predictions_np = session.run(outputs,\n",
        "      feed_dict={\n",
        "          inputs_placeholder: inputs,\n",
        "  })\n",
        "  # Actual label predictions given as {-1, +1}.\n",
        "  predictions_np[predictions_np <= 0] = -1\n",
        "  predictions_np[predictions_np > 0] = 1\n",
        "  return predictions_np\n",
        "\n",
        "\n",
        "def _get_error(predictions, true_labels):\n",
        "  num_correct = np.count_nonzero(np.isclose(predictions, true_labels))\n",
        "  num_examples = true_labels.shape[0]\n",
        "  return (num_examples-num_correct) / num_examples\n",
        "\n",
        "\n",
        "print('Losses:')\n",
        "with tf.Session() as session:\n",
        "  session.run(init_op)  # Initializes the weights in the network.\n",
        "\n",
        "  for i in range(TRAINING_STEPS):\n",
        "    _, loss_np = session.run(\n",
        "        [train_op, loss],\n",
        "        feed_dict={\n",
        "            inputs_placeholder: train_inputs_np,\n",
        "            labels_placeholder: train_labels_np,\n",
        "    })\n",
        "    if (i % RECORD_PERIOD) == 0:\n",
        "      print(' ', loss_np)\n",
        "      if loss_np < 0.01:\n",
        "        print()\n",
        "        print('Loss hit threshold after {} steps, stopping.'.format(i))\n",
        "        break\n",
        "  \n",
        "  print()\n",
        "  # The model is ready to be evaluated.\n",
        "  train_predictions = _get_predictions(train_inputs_np)\n",
        "  train_error = _get_error(train_predictions, train_labels_np)\n",
        "  \n",
        "  test_predictions = _get_predictions(test_inputs_np)\n",
        "  test_error = _get_error(test_predictions, test_labels_np)\n",
        "  \n",
        "  print('Train error:', train_error)\n",
        "  print('Test error:', test_error)\n",
        "  plot_nxor_data(test_inputs_np, test_predictions, title='Predictions')\n",
        "  \n"
      ],
      "execution_count": 56,
      "outputs": [
        {
          "output_type": "stream",
          "text": [
            "Losses:\n",
            "  1.0628083\n",
            "  0.31083763\n",
            "  0.2941851\n",
            "  0.2877147\n",
            "  0.25853628\n",
            "  0.23970088\n",
            "  0.22883812\n",
            "  0.22175285\n",
            "  0.21791592\n",
            "  0.21551651\n",
            "  0.2135395\n",
            "  0.21194534\n",
            "  0.21068309\n",
            "  0.20956883\n",
            "  0.20852733\n",
            "  0.20751819\n",
            "  0.20653886\n",
            "  0.2056006\n",
            "  0.20474796\n",
            "  0.2040184\n",
            "\n",
            "Train error: 0.03125\n",
            "Test error: 0.0390625\n"
          ],
          "name": "stdout"
        },
        {
          "output_type": "display_data",
          "data": {
            "image/png": "[encoded data removed]",
            "text/plain": [
              "<matplotlib.figure.Figure at 0x7f39f11bdad0>"
            ]
          },
          "metadata": {
            "tags": []
          }
        }
      ]
    },
    {
      "metadata": {
        "id": "MAJnizTyrIan",
        "colab_type": "text"
      },
      "cell_type": "markdown",
      "source": [
        "## Datasets\n",
        "\n",
        "So far we used a `feed_dict`s to pass data to the computation graph. Another, often more efficient solution is to have nodes in the graph read, maninpulate, and make data available.\n",
        "\n",
        "Tensorflow has a dedicated `tf.data` module.  Tensorflow's [Importing Data Guide](https://www.tensorflow.org/guide/datasets) guide is a great resource for learning about it. **Read this guide up to and including the \"Reading input data > Consuming NumPy arrays\"** section.\n",
        "\n",
        "\n",
        "\n"
      ]
    },
    {
      "metadata": {
        "id": "3nrz4qxB_CwD",
        "colab_type": "text"
      },
      "cell_type": "markdown",
      "source": [
        "### Exercise: define a tensorflow dataset\n",
        "\n",
        "1. Use the `get_data` function from before to generate a training dataset of 1000 examples and a test dataset of 500 examples.\n",
        "2. Using `from_tensor_slices()`, define a training and a test `tf.data.Dataset`.\n",
        "3. Ensure that the train data is (a) fully shuffled (b) can be iterated infinitely (c) is batched with a batch size of 64.\n",
        "4. We do not shuffle the test data and we only want to iterate it once. We still batch it up so that the amount of data we compute on is limited.\n",
        "\n",
        "**Write a function called `get_tf_dataset()` that returns a (`train_dataset, test_dataset`)-tuple according to these instructions.** Print the returned datasets in order to verify they are correctly defined."
      ]
    },
    {
      "metadata": {
        "id": "pNOBmK79HTpD",
        "colab_type": "code",
        "colab": {
          "autoexec": {
            "startup": false,
            "wait_interval": 0
          }
        }
      },
      "cell_type": "code",
      "source": [
        "tf.reset_default_graph()"
      ],
      "execution_count": 0,
      "outputs": []
    },
    {
      "metadata": {
        "id": "lksIuNH5_DjN",
        "colab_type": "code",
        "colab": {
          "autoexec": {
            "startup": false,
            "wait_interval": 0
          }
        }
      },
      "cell_type": "code",
      "source": [
        "#@title Your Code"
      ],
      "execution_count": 0,
      "outputs": []
    },
    {
      "metadata": {
        "id": "XxX8XhTKAS-9",
        "colab_type": "code",
        "colab": {
          "autoexec": {
            "startup": false,
            "wait_interval": 0
          },
          "base_uri": "https://localhost:8080/",
          "height": 54
        },
        "cellView": "form",
        "outputId": "ec15ef00-07a5-4978-f519-6e79207e2db5",
        "executionInfo": {
          "status": "ok",
          "timestamp": 1530760037186,
          "user_tz": -60,
          "elapsed": 475,
          "user": {
            "displayName": "David Szepesvari",
            "photoUrl": "//lh3.googleusercontent.com/-b59pEhK2Mu4/AAAAAAAAAAI/AAAAAAAABYk/II49sX2Iiac/s50-c-k-no/photo.jpg",
            "userId": "112028855906936668175"
          }
        }
      },
      "cell_type": "code",
      "source": [
        "#@title Solution\n",
        "\n",
        "BATCH_SIZE = 64\n",
        "\n",
        "train_data_np = get_data(1000)\n",
        "test_data_np = get_data(500)\n",
        "\n",
        "def get_tf_dataset():\n",
        "  train_dataset = tf.data.Dataset.from_tensor_slices(train_data_np)\n",
        "  train_dataset = train_dataset.shuffle(1000).repeat().batch(BATCH_SIZE)\n",
        "\n",
        "  test_dataset = tf.data.Dataset.from_tensor_slices(test_data_np)\n",
        "  test_dataset = test_dataset.batch(BATCH_SIZE)\n",
        "  \n",
        "  return train_dataset, test_dataset\n",
        "\n",
        "print(get_tf_dataset())"
      ],
      "execution_count": 59,
      "outputs": [
        {
          "output_type": "stream",
          "text": [
            "(<BatchDataset shapes: ((?, 2), (?,)), types: (tf.float64, tf.float64)>, <BatchDataset shapes: ((?, 2), (?,)), types: (tf.float64, tf.float64)>)\n"
          ],
          "name": "stdout"
        }
      ]
    },
    {
      "metadata": {
        "id": "3pxg1Tvj9l_X",
        "colab_type": "text"
      },
      "cell_type": "markdown",
      "source": [
        "We need to access the data as tensors. We can do so by asking for an iterator over the dataset. We use the simplest iterator, which simply iterates over the dataset:"
      ]
    },
    {
      "metadata": {
        "id": "t_MqBL1AOLve",
        "colab_type": "code",
        "colab": {
          "autoexec": {
            "startup": false,
            "wait_interval": 0
          }
        }
      },
      "cell_type": "code",
      "source": [
        "train_dataset, test_dataset = get_tf_dataset()"
      ],
      "execution_count": 0,
      "outputs": []
    },
    {
      "metadata": {
        "id": "rMCtoQalD6go",
        "colab_type": "code",
        "colab": {
          "autoexec": {
            "startup": false,
            "wait_interval": 0
          },
          "base_uri": "https://localhost:8080/",
          "height": 51
        },
        "outputId": "19eabbe3-e9ba-489c-a0e9-0326182a6015",
        "executionInfo": {
          "status": "ok",
          "timestamp": 1530760038568,
          "user_tz": -60,
          "elapsed": 506,
          "user": {
            "displayName": "David Szepesvari",
            "photoUrl": "//lh3.googleusercontent.com/-b59pEhK2Mu4/AAAAAAAAAAI/AAAAAAAABYk/II49sX2Iiac/s50-c-k-no/photo.jpg",
            "userId": "112028855906936668175"
          }
        }
      },
      "cell_type": "code",
      "source": [
        "train_data_iter = train_dataset.make_one_shot_iterator()\n",
        "(train_inputs, train_labels) = train_data_iter.get_next()\n",
        "train_inputs, train_labels"
      ],
      "execution_count": 61,
      "outputs": [
        {
          "output_type": "execute_result",
          "data": {
            "text/plain": [
              "(<tf.Tensor 'IteratorGetNext:0' shape=(?, 2) dtype=float64>,\n",
              " <tf.Tensor 'IteratorGetNext:1' shape=(?,) dtype=float64>)"
            ]
          },
          "metadata": {
            "tags": []
          },
          "execution_count": 61
        }
      ]
    },
    {
      "metadata": {
        "id": "nO8DGVktHARQ",
        "colab_type": "code",
        "colab": {
          "autoexec": {
            "startup": false,
            "wait_interval": 0
          }
        }
      },
      "cell_type": "code",
      "source": [
        "test_data = test_dataset.make_one_shot_iterator().get_next()"
      ],
      "execution_count": 0,
      "outputs": []
    },
    {
      "metadata": {
        "id": "PZ9iRdHjD6nE",
        "colab_type": "text"
      },
      "cell_type": "markdown",
      "source": [
        "Now we can use `train_inputs` and `train_labels` like any other tensor. Each time we use them in a `session.run()` the tensor will hold a new batch."
      ]
    },
    {
      "metadata": {
        "id": "STpmjTfOEduK",
        "colab_type": "code",
        "colab": {
          "autoexec": {
            "startup": false,
            "wait_interval": 0
          },
          "base_uri": "https://localhost:8080/",
          "height": 510
        },
        "outputId": "1f27a768-5692-4ef6-dd39-f9bf27a5cb5a",
        "executionInfo": {
          "status": "ok",
          "timestamp": 1530760039851,
          "user_tz": -60,
          "elapsed": 496,
          "user": {
            "displayName": "David Szepesvari",
            "photoUrl": "//lh3.googleusercontent.com/-b59pEhK2Mu4/AAAAAAAAAAI/AAAAAAAABYk/II49sX2Iiac/s50-c-k-no/photo.jpg",
            "userId": "112028855906936668175"
          }
        }
      },
      "cell_type": "code",
      "source": [
        "def _print_some(np_array, descr):\n",
        "  print(descr + ':')\n",
        "  print('  shape: {}'.format(np_array.shape))\n",
        "  print('  first examples in batch: {}'.format(np_array[:4]))\n",
        "\n",
        "\n",
        "with tf.Session() as session:\n",
        "  # Train data.\n",
        "  for _ in range(2):\n",
        "    train_inputs_np, train_labels_np = session.run([train_inputs, train_labels])\n",
        "    _print_some(train_inputs_np, 'train_inputs')\n",
        "    _print_some(train_labels_np, 'train_labels')\n",
        "    print()\n",
        "  \n",
        "  # Test data.\n",
        "  test_inputs_np, test_labels_np = session.run(test_data)\n",
        "  _print_some(test_inputs_np, 'test_inputs')\n",
        "  _print_some(test_labels_np, 'test_labels')\n",
        "  \n",
        "  "
      ],
      "execution_count": 63,
      "outputs": [
        {
          "output_type": "stream",
          "text": [
            "train_inputs:\n",
            "  shape: (64, 2)\n",
            "  first examples in batch: [[-0.58777422 -0.78869983]\n",
            " [ 0.7179271  -0.64715151]\n",
            " [-0.12140637  0.65429567]\n",
            " [ 0.09800077 -0.85471438]]\n",
            "train_labels:\n",
            "  shape: (64,)\n",
            "  first examples in batch: [ 1. -1. -1. -1.]\n",
            "\n",
            "train_inputs:\n",
            "  shape: (64, 2)\n",
            "  first examples in batch: [[ 0.13886789  0.3798227 ]\n",
            " [-0.93415229 -0.7382832 ]\n",
            " [ 0.86505128  0.06296764]\n",
            " [ 0.68930787 -0.71898744]]\n",
            "train_labels:\n",
            "  shape: (64,)\n",
            "  first examples in batch: [ 1.  1.  1. -1.]\n",
            "\n",
            "test_inputs:\n",
            "  shape: (64, 2)\n",
            "  first examples in batch: [[ 0.18199448 -0.85699414]\n",
            " [ 0.37041009 -0.80115044]\n",
            " [ 0.89971697  0.61786396]\n",
            " [ 0.41217503 -0.30669798]]\n",
            "test_labels:\n",
            "  shape: (64,)\n",
            "  first examples in batch: [-1. -1.  1. -1.]\n"
          ],
          "name": "stdout"
        }
      ]
    },
    {
      "metadata": {
        "id": "hZckeyEaTgO8",
        "colab_type": "text"
      },
      "cell_type": "markdown",
      "source": [
        "We defined the test dataset to supply data for exacly one full iteration of the test dataset. We can fetch data until tensorflow lets us know there is no more data."
      ]
    },
    {
      "metadata": {
        "id": "QMFducB2Tnbo",
        "colab_type": "code",
        "colab": {
          "autoexec": {
            "startup": false,
            "wait_interval": 0
          },
          "base_uri": "https://localhost:8080/",
          "height": 34
        },
        "outputId": "3bf68364-35b6-424f-cccc-0193fb295efc",
        "executionInfo": {
          "status": "ok",
          "timestamp": 1530760040532,
          "user_tz": -60,
          "elapsed": 509,
          "user": {
            "displayName": "David Szepesvari",
            "photoUrl": "//lh3.googleusercontent.com/-b59pEhK2Mu4/AAAAAAAAAAI/AAAAAAAABYk/II49sX2Iiac/s50-c-k-no/photo.jpg",
            "userId": "112028855906936668175"
          }
        }
      },
      "cell_type": "code",
      "source": [
        "with tf.Session() as session:\n",
        "  counter = 0\n",
        "  while True:\n",
        "    try:\n",
        "      test_inputs_np, test_labels_np = session.run(test_data)\n",
        "      counter += 1\n",
        "    except tf.errors.OutOfRangeError:\n",
        "      break\n",
        "  print('Counted {} batches of test examples.'.format(counter))\n",
        "  \n",
        "  "
      ],
      "execution_count": 64,
      "outputs": [
        {
          "output_type": "stream",
          "text": [
            "Counted 8 batches of test examples.\n"
          ],
          "name": "stdout"
        }
      ]
    },
    {
      "metadata": {
        "id": "M2nTc8Rxzytz",
        "colab_type": "text"
      },
      "cell_type": "markdown",
      "source": [
        "The `make_one_shot_iterator()` function returns an iterator that, when exhausted, cannot be restarted. "
      ]
    },
    {
      "metadata": {
        "id": "22XTfhplEd0s",
        "colab_type": "text"
      },
      "cell_type": "markdown",
      "source": [
        "There are many utility functions in the `tf.data` both for reading in and manipulating data; chances are, whatever you would like to do it is already available there."
      ]
    },
    {
      "metadata": {
        "id": "8sUCWDkSrS2s",
        "colab_type": "text"
      },
      "cell_type": "markdown",
      "source": [
        "### Queues\n",
        "\n",
        "In earlier versions of tensorflow datasets had to be manipulated with so called [Queues](https://www.tensorflow.org/api_guides/python/threading_and_queues). They allowed data loading and preprocessing to be asynchronous, making the input pipeline faster. Their use for input pipelines is now deprecated, if you are interested in increasing the performance of your input pipeline read the [official guide on this topic](https://www.tensorflow.org/performance/datasets_performance).\n",
        "\n",
        "Queues are still used for pushing data between different threads, potentially on different machines, but we will not cover them in this lab.\n"
      ]
    },
    {
      "metadata": {
        "id": "BtoJu2JQufKa",
        "colab_type": "text"
      },
      "cell_type": "markdown",
      "source": [
        "## The Power of Sonnet\n",
        "\n",
        "The Sonnet library has two key selling points:\n",
        "\n",
        "* Complex networks are easily reused.\n",
        "* Variable sharing is handled transparently by automatically reusing variables on subsequent calls to the same module. \n",
        "\n",
        "We will now see these features in action.\n"
      ]
    },
    {
      "metadata": {
        "id": "1WJZFNUPJfCW",
        "colab_type": "text"
      },
      "cell_type": "markdown",
      "source": [
        "We start by defining a sonnet module corresponding to the classifier we have been working with. The section on [defining your own submodules](https://deepmind.github.io/sonnet/#defining-your-own-modules) in the sonnet documentation is both helpful and precise. The key points are:\n",
        "\n",
        "* Inherit from snt.AbstractModule\n",
        "* Call superclass constructor\n",
        "* Implement the `_build()` method\n",
        "\n",
        "The `_build()` method is meant to construct all computation graph corresponding to this module. It takes as argument the inputs to the module, and returns the outputs.\n",
        "\n"
      ]
    },
    {
      "metadata": {
        "id": "YlUQsYkdq1Om",
        "colab_type": "code",
        "colab": {
          "autoexec": {
            "startup": false,
            "wait_interval": 0
          }
        }
      },
      "cell_type": "code",
      "source": [
        "class MySimpleModule(snt.AbstractModule):\n",
        "\n",
        "  def __init__(self, num_hidden, nonlinearity=tf.nn.relu,\n",
        "               name=\"my_simple_module\"):\n",
        "    super(MySimpleModule, self).__init__(name=name)\n",
        "    self._num_hidden = num_hidden\n",
        "    self._nonlinearity = nonlinearity\n",
        "   \n",
        "  def _build(self, inputs):\n",
        "    # Inputs has shape batch_size x ?.\n",
        "    pre_activations = snt.Linear(output_size=self._num_hidden)(inputs)\n",
        "    activations = self._nonlinearity(pre_activations)\n",
        "    outputs = snt.Linear(output_size=1)(activations)\n",
        "    return tf.squeeze(outputs, axis=-1)  # Shape: [batch_size].\n"
      ],
      "execution_count": 0,
      "outputs": []
    },
    {
      "metadata": {
        "id": "c02sphDjlqkB",
        "colab_type": "text"
      },
      "cell_type": "markdown",
      "source": [
        "Aside: since this module is simply a sequence of other modules and tensorflow ops (e.g. the non-linearity), the module could have been made using the `snt.Sequential()` wrapper."
      ]
    },
    {
      "metadata": {
        "id": "NArC4JAtOl7I",
        "colab_type": "text"
      },
      "cell_type": "markdown",
      "source": [
        "We can make a particular instance of the module we defined like so:"
      ]
    },
    {
      "metadata": {
        "id": "NECiDI2bOnRc",
        "colab_type": "code",
        "colab": {
          "autoexec": {
            "startup": false,
            "wait_interval": 0
          }
        }
      },
      "cell_type": "code",
      "source": [
        "tf.reset_default_graph()\n",
        "model = MySimpleModule(num_hidden=5)"
      ],
      "execution_count": 0,
      "outputs": []
    },
    {
      "metadata": {
        "id": "IcYsy2PDMZRQ",
        "colab_type": "text"
      },
      "cell_type": "markdown",
      "source": [
        "No graph has actually been created so far, since only the constructor of the class ran. Let's connect this module to the training data.\n",
        "\n",
        "*Note that while it is encouraged to only create graph in the `_build()` method, some sonnet modules may already do so in their constructor.*"
      ]
    },
    {
      "metadata": {
        "id": "bQGjSNnGObv2",
        "colab_type": "code",
        "colab": {
          "autoexec": {
            "startup": false,
            "wait_interval": 0
          }
        }
      },
      "cell_type": "code",
      "source": [
        "train_dataset, test_dataset = get_tf_dataset()\n",
        "train_inputs, train_labels = train_dataset.make_one_shot_iterator().get_next()\n",
        "train_ouputs = model(train_inputs)"
      ],
      "execution_count": 0,
      "outputs": []
    },
    {
      "metadata": {
        "id": "_6TgD66tP3Zb",
        "colab_type": "text"
      },
      "cell_type": "markdown",
      "source": [
        "The connection triggered the `_build()` function and we can see the graph corresponding to the model is built."
      ]
    },
    {
      "metadata": {
        "id": "M5Fa4BhDP3fQ",
        "colab_type": "code",
        "colab": {
          "autoexec": {
            "startup": false,
            "wait_interval": 0
          },
          "base_uri": "https://localhost:8080/",
          "height": 661
        },
        "outputId": "e0af36e8-c362-4092-e27a-e0ac882b1263",
        "executionInfo": {
          "status": "ok",
          "timestamp": 1530760043207,
          "user_tz": -60,
          "elapsed": 605,
          "user": {
            "displayName": "David Szepesvari",
            "photoUrl": "//lh3.googleusercontent.com/-b59pEhK2Mu4/AAAAAAAAAAI/AAAAAAAABYk/II49sX2Iiac/s50-c-k-no/photo.jpg",
            "userId": "112028855906936668175"
          }
        }
      },
      "cell_type": "code",
      "source": [
        "show_graph()"
      ],
      "execution_count": 68,
      "outputs": [
        {
          "output_type": "display_data",
          "data": {
            "text/plain": [
              "<IPython.core.display.HTML object>"
            ],
            "text/html": [
              "\n",
              "        <iframe seamless style=\"width:1200px;height:620px;border:0\" srcdoc=\"\n",
              "        <script>\n",
              "          function load() {\n",
              "            document.getElementById(&quot;graph0.970391606694&quot;).pbtxt = 'node {\\n  name: &quot;tensors/component_0&quot;\\n  op: &quot;Const&quot;\\n  attr {\\n    key: &quot;dtype&quot;\\n    value {\\n      type: DT_DOUBLE\\n    }\\n  }\\n  attr {\\n    key: &quot;value&quot;\\n    value {\\n      tensor {\\n        dtype: DT_DOUBLE\\n        tensor_shape {\\n          dim {\\n            size: 1000\\n          }\\n          dim {\\n            size: 2\\n          }\\n        }\\n        tensor_content: &quot;<stripped 16000 bytes>&quot;\\n      }\\n    }\\n  }\\n}\\nnode {\\n  name: &quot;tensors/component_1&quot;\\n  op: &quot;Const&quot;\\n  attr {\\n    key: &quot;dtype&quot;\\n    value {\\n      type: DT_DOUBLE\\n    }\\n  }\\n  attr {\\n    key: &quot;value&quot;\\n    value {\\n      tensor {\\n        dtype: DT_DOUBLE\\n        tensor_shape {\\n          dim {\\n            size: 1000\\n          }\\n        }\\n        tensor_content: &quot;<stripped 8000 bytes>&quot;\\n      }\\n    }\\n  }\\n}\\nnode {\\n  name: &quot;buffer_size&quot;\\n  op: &quot;Const&quot;\\n  attr {\\n    key: &quot;dtype&quot;\\n    value {\\n      type: DT_INT64\\n    }\\n  }\\n  attr {\\n    key: &quot;value&quot;\\n    value {\\n      tensor {\\n        dtype: DT_INT64\\n        tensor_shape {\\n        }\\n        int64_val: 1000\\n      }\\n    }\\n  }\\n}\\nnode {\\n  name: &quot;seed&quot;\\n  op: &quot;Const&quot;\\n  attr {\\n    key: &quot;dtype&quot;\\n    value {\\n      type: DT_INT64\\n    }\\n  }\\n  attr {\\n    key: &quot;value&quot;\\n    value {\\n      tensor {\\n        dtype: DT_INT64\\n        tensor_shape {\\n        }\\n        int64_val: 0\\n      }\\n    }\\n  }\\n}\\nnode {\\n  name: &quot;seed2&quot;\\n  op: &quot;Const&quot;\\n  attr {\\n    key: &quot;dtype&quot;\\n    value {\\n      type: DT_INT64\\n    }\\n  }\\n  attr {\\n    key: &quot;value&quot;\\n    value {\\n      tensor {\\n        dtype: DT_INT64\\n        tensor_shape {\\n        }\\n        int64_val: 0\\n      }\\n    }\\n  }\\n}\\nnode {\\n  name: &quot;count&quot;\\n  op: &quot;Const&quot;\\n  attr {\\n    key: &quot;dtype&quot;\\n    value {\\n      type: DT_INT64\\n    }\\n  }\\n  attr {\\n    key: &quot;value&quot;\\n    value {\\n      tensor {\\n        dtype: DT_INT64\\n        tensor_shape {\\n        }\\n        int64_val: -1\\n      }\\n    }\\n  }\\n}\\nnode {\\n  name: &quot;batch_size&quot;\\n  op: &quot;Const&quot;\\n  attr {\\n    key: &quot;dtype&quot;\\n    value {\\n      type: DT_INT64\\n    }\\n  }\\n  attr {\\n    key: &quot;value&quot;\\n    value {\\n      tensor {\\n        dtype: DT_INT64\\n        tensor_shape {\\n        }\\n        int64_val: 64\\n      }\\n    }\\n  }\\n}\\nnode {\\n  name: &quot;tensors_1/component_0&quot;\\n  op: &quot;Const&quot;\\n  attr {\\n    key: &quot;dtype&quot;\\n    value {\\n      type: DT_DOUBLE\\n    }\\n  }\\n  attr {\\n    key: &quot;value&quot;\\n    value {\\n      tensor {\\n        dtype: DT_DOUBLE\\n        tensor_shape {\\n          dim {\\n            size: 500\\n          }\\n          dim {\\n            size: 2\\n          }\\n        }\\n        tensor_content: &quot;<stripped 8000 bytes>&quot;\\n      }\\n    }\\n  }\\n}\\nnode {\\n  name: &quot;tensors_1/component_1&quot;\\n  op: &quot;Const&quot;\\n  attr {\\n    key: &quot;dtype&quot;\\n    value {\\n      type: DT_DOUBLE\\n    }\\n  }\\n  attr {\\n    key: &quot;value&quot;\\n    value {\\n      tensor {\\n        dtype: DT_DOUBLE\\n        tensor_shape {\\n          dim {\\n            size: 500\\n          }\\n        }\\n        tensor_content: &quot;<stripped 4000 bytes>&quot;\\n      }\\n    }\\n  }\\n}\\nnode {\\n  name: &quot;batch_size_1&quot;\\n  op: &quot;Const&quot;\\n  attr {\\n    key: &quot;dtype&quot;\\n    value {\\n      type: DT_INT64\\n    }\\n  }\\n  attr {\\n    key: &quot;value&quot;\\n    value {\\n      tensor {\\n        dtype: DT_INT64\\n        tensor_shape {\\n        }\\n        int64_val: 64\\n      }\\n    }\\n  }\\n}\\nnode {\\n  name: &quot;OneShotIterator&quot;\\n  op: &quot;OneShotIterator&quot;\\n  attr {\\n    key: &quot;container&quot;\\n    value {\\n      s: &quot;&quot;\\n    }\\n  }\\n  attr {\\n    key: &quot;dataset_factory&quot;\\n    value {\\n      func {\\n        name: &quot;_make_dataset_olrfYW37HcA&quot;\\n      }\\n    }\\n  }\\n  attr {\\n    key: &quot;output_shapes&quot;\\n    value {\\n      list {\\n        shape {\\n          dim {\\n            size: -1\\n          }\\n          dim {\\n            size: 2\\n          }\\n        }\\n        shape {\\n          dim {\\n            size: -1\\n          }\\n        }\\n      }\\n    }\\n  }\\n  attr {\\n    key: &quot;output_types&quot;\\n    value {\\n      list {\\n        type: DT_DOUBLE\\n        type: DT_DOUBLE\\n      }\\n    }\\n  }\\n  attr {\\n    key: &quot;shared_name&quot;\\n    value {\\n      s: &quot;&quot;\\n    }\\n  }\\n}\\nnode {\\n  name: &quot;IteratorToStringHandle&quot;\\n  op: &quot;IteratorToStringHandle&quot;\\n  input: &quot;OneShotIterator&quot;\\n}\\nnode {\\n  name: &quot;IteratorGetNext&quot;\\n  op: &quot;IteratorGetNext&quot;\\n  input: &quot;OneShotIterator&quot;\\n  attr {\\n    key: &quot;output_shapes&quot;\\n    value {\\n      list {\\n        shape {\\n          dim {\\n            size: -1\\n          }\\n          dim {\\n            size: 2\\n          }\\n        }\\n        shape {\\n          dim {\\n            size: -1\\n          }\\n        }\\n      }\\n    }\\n  }\\n  attr {\\n    key: &quot;output_types&quot;\\n    value {\\n      list {\\n        type: DT_DOUBLE\\n        type: DT_DOUBLE\\n      }\\n    }\\n  }\\n}\\nnode {\\n  name: &quot;my_simple_module/linear/w/Initializer/truncated_normal/shape&quot;\\n  op: &quot;Const&quot;\\n  attr {\\n    key: &quot;_class&quot;\\n    value {\\n      list {\\n        s: &quot;loc:@my_simple_module/linear/w&quot;\\n      }\\n    }\\n  }\\n  attr {\\n    key: &quot;dtype&quot;\\n    value {\\n      type: DT_INT32\\n    }\\n  }\\n  attr {\\n    key: &quot;value&quot;\\n    value {\\n      tensor {\\n        dtype: DT_INT32\\n        tensor_shape {\\n          dim {\\n            size: 2\\n          }\\n        }\\n        tensor_content: &quot;\\\\002\\\\000\\\\000\\\\000\\\\005\\\\000\\\\000\\\\000&quot;\\n      }\\n    }\\n  }\\n}\\nnode {\\n  name: &quot;my_simple_module/linear/w/Initializer/truncated_normal/mean&quot;\\n  op: &quot;Const&quot;\\n  attr {\\n    key: &quot;_class&quot;\\n    value {\\n      list {\\n        s: &quot;loc:@my_simple_module/linear/w&quot;\\n      }\\n    }\\n  }\\n  attr {\\n    key: &quot;dtype&quot;\\n    value {\\n      type: DT_DOUBLE\\n    }\\n  }\\n  attr {\\n    key: &quot;value&quot;\\n    value {\\n      tensor {\\n        dtype: DT_DOUBLE\\n        tensor_shape {\\n        }\\n        double_val: 0.0\\n      }\\n    }\\n  }\\n}\\nnode {\\n  name: &quot;my_simple_module/linear/w/Initializer/truncated_normal/stddev&quot;\\n  op: &quot;Const&quot;\\n  attr {\\n    key: &quot;_class&quot;\\n    value {\\n      list {\\n        s: &quot;loc:@my_simple_module/linear/w&quot;\\n      }\\n    }\\n  }\\n  attr {\\n    key: &quot;dtype&quot;\\n    value {\\n      type: DT_DOUBLE\\n    }\\n  }\\n  attr {\\n    key: &quot;value&quot;\\n    value {\\n      tensor {\\n        dtype: DT_DOUBLE\\n        tensor_shape {\\n        }\\n        double_val: 0.707106781187\\n      }\\n    }\\n  }\\n}\\nnode {\\n  name: &quot;my_simple_module/linear/w/Initializer/truncated_normal/TruncatedNormal&quot;\\n  op: &quot;TruncatedNormal&quot;\\n  input: &quot;my_simple_module/linear/w/Initializer/truncated_normal/shape&quot;\\n  attr {\\n    key: &quot;T&quot;\\n    value {\\n      type: DT_INT32\\n    }\\n  }\\n  attr {\\n    key: &quot;_class&quot;\\n    value {\\n      list {\\n        s: &quot;loc:@my_simple_module/linear/w&quot;\\n      }\\n    }\\n  }\\n  attr {\\n    key: &quot;dtype&quot;\\n    value {\\n      type: DT_DOUBLE\\n    }\\n  }\\n  attr {\\n    key: &quot;seed&quot;\\n    value {\\n      i: 0\\n    }\\n  }\\n  attr {\\n    key: &quot;seed2&quot;\\n    value {\\n      i: 0\\n    }\\n  }\\n}\\nnode {\\n  name: &quot;my_simple_module/linear/w/Initializer/truncated_normal/mul&quot;\\n  op: &quot;Mul&quot;\\n  input: &quot;my_simple_module/linear/w/Initializer/truncated_normal/TruncatedNormal&quot;\\n  input: &quot;my_simple_module/linear/w/Initializer/truncated_normal/stddev&quot;\\n  attr {\\n    key: &quot;T&quot;\\n    value {\\n      type: DT_DOUBLE\\n    }\\n  }\\n  attr {\\n    key: &quot;_class&quot;\\n    value {\\n      list {\\n        s: &quot;loc:@my_simple_module/linear/w&quot;\\n      }\\n    }\\n  }\\n}\\nnode {\\n  name: &quot;my_simple_module/linear/w/Initializer/truncated_normal&quot;\\n  op: &quot;Add&quot;\\n  input: &quot;my_simple_module/linear/w/Initializer/truncated_normal/mul&quot;\\n  input: &quot;my_simple_module/linear/w/Initializer/truncated_normal/mean&quot;\\n  attr {\\n    key: &quot;T&quot;\\n    value {\\n      type: DT_DOUBLE\\n    }\\n  }\\n  attr {\\n    key: &quot;_class&quot;\\n    value {\\n      list {\\n        s: &quot;loc:@my_simple_module/linear/w&quot;\\n      }\\n    }\\n  }\\n}\\nnode {\\n  name: &quot;my_simple_module/linear/w&quot;\\n  op: &quot;VariableV2&quot;\\n  attr {\\n    key: &quot;_class&quot;\\n    value {\\n      list {\\n        s: &quot;loc:@my_simple_module/linear/w&quot;\\n      }\\n    }\\n  }\\n  attr {\\n    key: &quot;container&quot;\\n    value {\\n      s: &quot;&quot;\\n    }\\n  }\\n  attr {\\n    key: &quot;dtype&quot;\\n    value {\\n      type: DT_DOUBLE\\n    }\\n  }\\n  attr {\\n    key: &quot;shape&quot;\\n    value {\\n      shape {\\n        dim {\\n          size: 2\\n        }\\n        dim {\\n          size: 5\\n        }\\n      }\\n    }\\n  }\\n  attr {\\n    key: &quot;shared_name&quot;\\n    value {\\n      s: &quot;&quot;\\n    }\\n  }\\n}\\nnode {\\n  name: &quot;my_simple_module/linear/w/Assign&quot;\\n  op: &quot;Assign&quot;\\n  input: &quot;my_simple_module/linear/w&quot;\\n  input: &quot;my_simple_module/linear/w/Initializer/truncated_normal&quot;\\n  attr {\\n    key: &quot;T&quot;\\n    value {\\n      type: DT_DOUBLE\\n    }\\n  }\\n  attr {\\n    key: &quot;_class&quot;\\n    value {\\n      list {\\n        s: &quot;loc:@my_simple_module/linear/w&quot;\\n      }\\n    }\\n  }\\n  attr {\\n    key: &quot;use_locking&quot;\\n    value {\\n      b: true\\n    }\\n  }\\n  attr {\\n    key: &quot;validate_shape&quot;\\n    value {\\n      b: true\\n    }\\n  }\\n}\\nnode {\\n  name: &quot;my_simple_module/linear/w/read&quot;\\n  op: &quot;Identity&quot;\\n  input: &quot;my_simple_module/linear/w&quot;\\n  attr {\\n    key: &quot;T&quot;\\n    value {\\n      type: DT_DOUBLE\\n    }\\n  }\\n  attr {\\n    key: &quot;_class&quot;\\n    value {\\n      list {\\n        s: &quot;loc:@my_simple_module/linear/w&quot;\\n      }\\n    }\\n  }\\n}\\nnode {\\n  name: &quot;my_simple_module/linear/MatMul&quot;\\n  op: &quot;MatMul&quot;\\n  input: &quot;IteratorGetNext&quot;\\n  input: &quot;my_simple_module/linear/w/read&quot;\\n  attr {\\n    key: &quot;T&quot;\\n    value {\\n      type: DT_DOUBLE\\n    }\\n  }\\n  attr {\\n    key: &quot;transpose_a&quot;\\n    value {\\n      b: false\\n    }\\n  }\\n  attr {\\n    key: &quot;transpose_b&quot;\\n    value {\\n      b: false\\n    }\\n  }\\n}\\nnode {\\n  name: &quot;my_simple_module/linear/b/Initializer/zeros&quot;\\n  op: &quot;Const&quot;\\n  attr {\\n    key: &quot;_class&quot;\\n    value {\\n      list {\\n        s: &quot;loc:@my_simple_module/linear/b&quot;\\n      }\\n    }\\n  }\\n  attr {\\n    key: &quot;dtype&quot;\\n    value {\\n      type: DT_DOUBLE\\n    }\\n  }\\n  attr {\\n    key: &quot;value&quot;\\n    value {\\n      tensor {\\n        dtype: DT_DOUBLE\\n        tensor_shape {\\n          dim {\\n            size: 5\\n          }\\n        }\\n        double_val: 0.0\\n      }\\n    }\\n  }\\n}\\nnode {\\n  name: &quot;my_simple_module/linear/b&quot;\\n  op: &quot;VariableV2&quot;\\n  attr {\\n    key: &quot;_class&quot;\\n    value {\\n      list {\\n        s: &quot;loc:@my_simple_module/linear/b&quot;\\n      }\\n    }\\n  }\\n  attr {\\n    key: &quot;container&quot;\\n    value {\\n      s: &quot;&quot;\\n    }\\n  }\\n  attr {\\n    key: &quot;dtype&quot;\\n    value {\\n      type: DT_DOUBLE\\n    }\\n  }\\n  attr {\\n    key: &quot;shape&quot;\\n    value {\\n      shape {\\n        dim {\\n          size: 5\\n        }\\n      }\\n    }\\n  }\\n  attr {\\n    key: &quot;shared_name&quot;\\n    value {\\n      s: &quot;&quot;\\n    }\\n  }\\n}\\nnode {\\n  name: &quot;my_simple_module/linear/b/Assign&quot;\\n  op: &quot;Assign&quot;\\n  input: &quot;my_simple_module/linear/b&quot;\\n  input: &quot;my_simple_module/linear/b/Initializer/zeros&quot;\\n  attr {\\n    key: &quot;T&quot;\\n    value {\\n      type: DT_DOUBLE\\n    }\\n  }\\n  attr {\\n    key: &quot;_class&quot;\\n    value {\\n      list {\\n        s: &quot;loc:@my_simple_module/linear/b&quot;\\n      }\\n    }\\n  }\\n  attr {\\n    key: &quot;use_locking&quot;\\n    value {\\n      b: true\\n    }\\n  }\\n  attr {\\n    key: &quot;validate_shape&quot;\\n    value {\\n      b: true\\n    }\\n  }\\n}\\nnode {\\n  name: &quot;my_simple_module/linear/b/read&quot;\\n  op: &quot;Identity&quot;\\n  input: &quot;my_simple_module/linear/b&quot;\\n  attr {\\n    key: &quot;T&quot;\\n    value {\\n      type: DT_DOUBLE\\n    }\\n  }\\n  attr {\\n    key: &quot;_class&quot;\\n    value {\\n      list {\\n        s: &quot;loc:@my_simple_module/linear/b&quot;\\n      }\\n    }\\n  }\\n}\\nnode {\\n  name: &quot;my_simple_module/linear/add&quot;\\n  op: &quot;Add&quot;\\n  input: &quot;my_simple_module/linear/MatMul&quot;\\n  input: &quot;my_simple_module/linear/b/read&quot;\\n  attr {\\n    key: &quot;T&quot;\\n    value {\\n      type: DT_DOUBLE\\n    }\\n  }\\n}\\nnode {\\n  name: &quot;my_simple_module/Relu&quot;\\n  op: &quot;Relu&quot;\\n  input: &quot;my_simple_module/linear/add&quot;\\n  attr {\\n    key: &quot;T&quot;\\n    value {\\n      type: DT_DOUBLE\\n    }\\n  }\\n}\\nnode {\\n  name: &quot;my_simple_module/linear_1/w/Initializer/truncated_normal/shape&quot;\\n  op: &quot;Const&quot;\\n  attr {\\n    key: &quot;_class&quot;\\n    value {\\n      list {\\n        s: &quot;loc:@my_simple_module/linear_1/w&quot;\\n      }\\n    }\\n  }\\n  attr {\\n    key: &quot;dtype&quot;\\n    value {\\n      type: DT_INT32\\n    }\\n  }\\n  attr {\\n    key: &quot;value&quot;\\n    value {\\n      tensor {\\n        dtype: DT_INT32\\n        tensor_shape {\\n          dim {\\n            size: 2\\n          }\\n        }\\n        tensor_content: &quot;\\\\005\\\\000\\\\000\\\\000\\\\001\\\\000\\\\000\\\\000&quot;\\n      }\\n    }\\n  }\\n}\\nnode {\\n  name: &quot;my_simple_module/linear_1/w/Initializer/truncated_normal/mean&quot;\\n  op: &quot;Const&quot;\\n  attr {\\n    key: &quot;_class&quot;\\n    value {\\n      list {\\n        s: &quot;loc:@my_simple_module/linear_1/w&quot;\\n      }\\n    }\\n  }\\n  attr {\\n    key: &quot;dtype&quot;\\n    value {\\n      type: DT_DOUBLE\\n    }\\n  }\\n  attr {\\n    key: &quot;value&quot;\\n    value {\\n      tensor {\\n        dtype: DT_DOUBLE\\n        tensor_shape {\\n        }\\n        double_val: 0.0\\n      }\\n    }\\n  }\\n}\\nnode {\\n  name: &quot;my_simple_module/linear_1/w/Initializer/truncated_normal/stddev&quot;\\n  op: &quot;Const&quot;\\n  attr {\\n    key: &quot;_class&quot;\\n    value {\\n      list {\\n        s: &quot;loc:@my_simple_module/linear_1/w&quot;\\n      }\\n    }\\n  }\\n  attr {\\n    key: &quot;dtype&quot;\\n    value {\\n      type: DT_DOUBLE\\n    }\\n  }\\n  attr {\\n    key: &quot;value&quot;\\n    value {\\n      tensor {\\n        dtype: DT_DOUBLE\\n        tensor_shape {\\n        }\\n        double_val: 0.4472135955\\n      }\\n    }\\n  }\\n}\\nnode {\\n  name: &quot;my_simple_module/linear_1/w/Initializer/truncated_normal/TruncatedNormal&quot;\\n  op: &quot;TruncatedNormal&quot;\\n  input: &quot;my_simple_module/linear_1/w/Initializer/truncated_normal/shape&quot;\\n  attr {\\n    key: &quot;T&quot;\\n    value {\\n      type: DT_INT32\\n    }\\n  }\\n  attr {\\n    key: &quot;_class&quot;\\n    value {\\n      list {\\n        s: &quot;loc:@my_simple_module/linear_1/w&quot;\\n      }\\n    }\\n  }\\n  attr {\\n    key: &quot;dtype&quot;\\n    value {\\n      type: DT_DOUBLE\\n    }\\n  }\\n  attr {\\n    key: &quot;seed&quot;\\n    value {\\n      i: 0\\n    }\\n  }\\n  attr {\\n    key: &quot;seed2&quot;\\n    value {\\n      i: 0\\n    }\\n  }\\n}\\nnode {\\n  name: &quot;my_simple_module/linear_1/w/Initializer/truncated_normal/mul&quot;\\n  op: &quot;Mul&quot;\\n  input: &quot;my_simple_module/linear_1/w/Initializer/truncated_normal/TruncatedNormal&quot;\\n  input: &quot;my_simple_module/linear_1/w/Initializer/truncated_normal/stddev&quot;\\n  attr {\\n    key: &quot;T&quot;\\n    value {\\n      type: DT_DOUBLE\\n    }\\n  }\\n  attr {\\n    key: &quot;_class&quot;\\n    value {\\n      list {\\n        s: &quot;loc:@my_simple_module/linear_1/w&quot;\\n      }\\n    }\\n  }\\n}\\nnode {\\n  name: &quot;my_simple_module/linear_1/w/Initializer/truncated_normal&quot;\\n  op: &quot;Add&quot;\\n  input: &quot;my_simple_module/linear_1/w/Initializer/truncated_normal/mul&quot;\\n  input: &quot;my_simple_module/linear_1/w/Initializer/truncated_normal/mean&quot;\\n  attr {\\n    key: &quot;T&quot;\\n    value {\\n      type: DT_DOUBLE\\n    }\\n  }\\n  attr {\\n    key: &quot;_class&quot;\\n    value {\\n      list {\\n        s: &quot;loc:@my_simple_module/linear_1/w&quot;\\n      }\\n    }\\n  }\\n}\\nnode {\\n  name: &quot;my_simple_module/linear_1/w&quot;\\n  op: &quot;VariableV2&quot;\\n  attr {\\n    key: &quot;_class&quot;\\n    value {\\n      list {\\n        s: &quot;loc:@my_simple_module/linear_1/w&quot;\\n      }\\n    }\\n  }\\n  attr {\\n    key: &quot;container&quot;\\n    value {\\n      s: &quot;&quot;\\n    }\\n  }\\n  attr {\\n    key: &quot;dtype&quot;\\n    value {\\n      type: DT_DOUBLE\\n    }\\n  }\\n  attr {\\n    key: &quot;shape&quot;\\n    value {\\n      shape {\\n        dim {\\n          size: 5\\n        }\\n        dim {\\n          size: 1\\n        }\\n      }\\n    }\\n  }\\n  attr {\\n    key: &quot;shared_name&quot;\\n    value {\\n      s: &quot;&quot;\\n    }\\n  }\\n}\\nnode {\\n  name: &quot;my_simple_module/linear_1/w/Assign&quot;\\n  op: &quot;Assign&quot;\\n  input: &quot;my_simple_module/linear_1/w&quot;\\n  input: &quot;my_simple_module/linear_1/w/Initializer/truncated_normal&quot;\\n  attr {\\n    key: &quot;T&quot;\\n    value {\\n      type: DT_DOUBLE\\n    }\\n  }\\n  attr {\\n    key: &quot;_class&quot;\\n    value {\\n      list {\\n        s: &quot;loc:@my_simple_module/linear_1/w&quot;\\n      }\\n    }\\n  }\\n  attr {\\n    key: &quot;use_locking&quot;\\n    value {\\n      b: true\\n    }\\n  }\\n  attr {\\n    key: &quot;validate_shape&quot;\\n    value {\\n      b: true\\n    }\\n  }\\n}\\nnode {\\n  name: &quot;my_simple_module/linear_1/w/read&quot;\\n  op: &quot;Identity&quot;\\n  input: &quot;my_simple_module/linear_1/w&quot;\\n  attr {\\n    key: &quot;T&quot;\\n    value {\\n      type: DT_DOUBLE\\n    }\\n  }\\n  attr {\\n    key: &quot;_class&quot;\\n    value {\\n      list {\\n        s: &quot;loc:@my_simple_module/linear_1/w&quot;\\n      }\\n    }\\n  }\\n}\\nnode {\\n  name: &quot;my_simple_module/linear_1/MatMul&quot;\\n  op: &quot;MatMul&quot;\\n  input: &quot;my_simple_module/Relu&quot;\\n  input: &quot;my_simple_module/linear_1/w/read&quot;\\n  attr {\\n    key: &quot;T&quot;\\n    value {\\n      type: DT_DOUBLE\\n    }\\n  }\\n  attr {\\n    key: &quot;transpose_a&quot;\\n    value {\\n      b: false\\n    }\\n  }\\n  attr {\\n    key: &quot;transpose_b&quot;\\n    value {\\n      b: false\\n    }\\n  }\\n}\\nnode {\\n  name: &quot;my_simple_module/linear_1/b/Initializer/zeros&quot;\\n  op: &quot;Const&quot;\\n  attr {\\n    key: &quot;_class&quot;\\n    value {\\n      list {\\n        s: &quot;loc:@my_simple_module/linear_1/b&quot;\\n      }\\n    }\\n  }\\n  attr {\\n    key: &quot;dtype&quot;\\n    value {\\n      type: DT_DOUBLE\\n    }\\n  }\\n  attr {\\n    key: &quot;value&quot;\\n    value {\\n      tensor {\\n        dtype: DT_DOUBLE\\n        tensor_shape {\\n          dim {\\n            size: 1\\n          }\\n        }\\n        double_val: 0.0\\n      }\\n    }\\n  }\\n}\\nnode {\\n  name: &quot;my_simple_module/linear_1/b&quot;\\n  op: &quot;VariableV2&quot;\\n  attr {\\n    key: &quot;_class&quot;\\n    value {\\n      list {\\n        s: &quot;loc:@my_simple_module/linear_1/b&quot;\\n      }\\n    }\\n  }\\n  attr {\\n    key: &quot;container&quot;\\n    value {\\n      s: &quot;&quot;\\n    }\\n  }\\n  attr {\\n    key: &quot;dtype&quot;\\n    value {\\n      type: DT_DOUBLE\\n    }\\n  }\\n  attr {\\n    key: &quot;shape&quot;\\n    value {\\n      shape {\\n        dim {\\n          size: 1\\n        }\\n      }\\n    }\\n  }\\n  attr {\\n    key: &quot;shared_name&quot;\\n    value {\\n      s: &quot;&quot;\\n    }\\n  }\\n}\\nnode {\\n  name: &quot;my_simple_module/linear_1/b/Assign&quot;\\n  op: &quot;Assign&quot;\\n  input: &quot;my_simple_module/linear_1/b&quot;\\n  input: &quot;my_simple_module/linear_1/b/Initializer/zeros&quot;\\n  attr {\\n    key: &quot;T&quot;\\n    value {\\n      type: DT_DOUBLE\\n    }\\n  }\\n  attr {\\n    key: &quot;_class&quot;\\n    value {\\n      list {\\n        s: &quot;loc:@my_simple_module/linear_1/b&quot;\\n      }\\n    }\\n  }\\n  attr {\\n    key: &quot;use_locking&quot;\\n    value {\\n      b: true\\n    }\\n  }\\n  attr {\\n    key: &quot;validate_shape&quot;\\n    value {\\n      b: true\\n    }\\n  }\\n}\\nnode {\\n  name: &quot;my_simple_module/linear_1/b/read&quot;\\n  op: &quot;Identity&quot;\\n  input: &quot;my_simple_module/linear_1/b&quot;\\n  attr {\\n    key: &quot;T&quot;\\n    value {\\n      type: DT_DOUBLE\\n    }\\n  }\\n  attr {\\n    key: &quot;_class&quot;\\n    value {\\n      list {\\n        s: &quot;loc:@my_simple_module/linear_1/b&quot;\\n      }\\n    }\\n  }\\n}\\nnode {\\n  name: &quot;my_simple_module/linear_1/add&quot;\\n  op: &quot;Add&quot;\\n  input: &quot;my_simple_module/linear_1/MatMul&quot;\\n  input: &quot;my_simple_module/linear_1/b/read&quot;\\n  attr {\\n    key: &quot;T&quot;\\n    value {\\n      type: DT_DOUBLE\\n    }\\n  }\\n}\\nnode {\\n  name: &quot;my_simple_module/Squeeze&quot;\\n  op: &quot;Squeeze&quot;\\n  input: &quot;my_simple_module/linear_1/add&quot;\\n  attr {\\n    key: &quot;T&quot;\\n    value {\\n      type: DT_DOUBLE\\n    }\\n  }\\n  attr {\\n    key: &quot;squeeze_dims&quot;\\n    value {\\n      list {\\n        i: -1\\n      }\\n    }\\n  }\\n}\\n';\n",
              "          }\n",
              "        </script>\n",
              "        <link rel=&quot;import&quot; href=&quot;https://tensorboard.appspot.com/tf-graph-basic.build.html&quot; onload=load()>\n",
              "        <div style=&quot;height:600px&quot;>\n",
              "          <tf-graph-basic id=&quot;graph0.970391606694&quot;></tf-graph-basic>\n",
              "        </div>\n",
              "    \"></iframe>\n",
              "    "
            ]
          },
          "metadata": {
            "tags": []
          }
        }
      ]
    },
    {
      "metadata": {
        "id": "X1y4JiTqJcvl",
        "colab_type": "text"
      },
      "cell_type": "markdown",
      "source": [
        "The beauty of sonnet is that we can **connect the same `model` instance to the test data tensor and it will automatically share variables**."
      ]
    },
    {
      "metadata": {
        "id": "0cqTPzOHRDpO",
        "colab_type": "code",
        "colab": {
          "autoexec": {
            "startup": false,
            "wait_interval": 0
          }
        }
      },
      "cell_type": "code",
      "source": [
        "test_inputs, test_labels = test_dataset.make_one_shot_iterator().get_next()\n",
        "test_outputs = model(test_inputs)"
      ],
      "execution_count": 0,
      "outputs": []
    },
    {
      "metadata": {
        "id": "Pr39gvUaX8O1",
        "colab_type": "text"
      },
      "cell_type": "markdown",
      "source": [
        "Of course creating another instance will not share variables. Can you tell, based on the graph (not considering the names) which modules share weights?"
      ]
    },
    {
      "metadata": {
        "id": "oWSEVHdkYB8T",
        "colab_type": "code",
        "colab": {
          "autoexec": {
            "startup": false,
            "wait_interval": 0
          },
          "base_uri": "https://localhost:8080/",
          "height": 661
        },
        "outputId": "78d07ca7-7d12-4910-bc0d-84aded16514c",
        "executionInfo": {
          "status": "ok",
          "timestamp": 1530760046143,
          "user_tz": -60,
          "elapsed": 718,
          "user": {
            "displayName": "David Szepesvari",
            "photoUrl": "//lh3.googleusercontent.com/-b59pEhK2Mu4/AAAAAAAAAAI/AAAAAAAABYk/II49sX2Iiac/s50-c-k-no/photo.jpg",
            "userId": "112028855906936668175"
          }
        }
      },
      "cell_type": "code",
      "source": [
        "unshared_test_outputs = MySimpleModule(num_hidden=5, name='unshared_simple_module')(test_inputs)\n",
        "show_graph()"
      ],
      "execution_count": 70,
      "outputs": [
        {
          "output_type": "display_data",
          "data": {
            "text/plain": [
              "<IPython.core.display.HTML object>"
            ],
            "text/html": [
              "\n",
              "        <iframe seamless style=\"width:1200px;height:620px;border:0\" srcdoc=\"\n",
              "        <script>\n",
              "          function load() {\n",
              "            document.getElementById(&quot;graph0.584971813463&quot;).pbtxt = 'node {\\n  name: &quot;tensors/component_0&quot;\\n  op: &quot;Const&quot;\\n  attr {\\n    key: &quot;dtype&quot;\\n    value {\\n      type: DT_DOUBLE\\n    }\\n  }\\n  attr {\\n    key: &quot;value&quot;\\n    value {\\n      tensor {\\n        dtype: DT_DOUBLE\\n        tensor_shape {\\n          dim {\\n            size: 1000\\n          }\\n          dim {\\n            size: 2\\n          }\\n        }\\n        tensor_content: &quot;<stripped 16000 bytes>&quot;\\n      }\\n    }\\n  }\\n}\\nnode {\\n  name: &quot;tensors/component_1&quot;\\n  op: &quot;Const&quot;\\n  attr {\\n    key: &quot;dtype&quot;\\n    value {\\n      type: DT_DOUBLE\\n    }\\n  }\\n  attr {\\n    key: &quot;value&quot;\\n    value {\\n      tensor {\\n        dtype: DT_DOUBLE\\n        tensor_shape {\\n          dim {\\n            size: 1000\\n          }\\n        }\\n        tensor_content: &quot;<stripped 8000 bytes>&quot;\\n      }\\n    }\\n  }\\n}\\nnode {\\n  name: &quot;buffer_size&quot;\\n  op: &quot;Const&quot;\\n  attr {\\n    key: &quot;dtype&quot;\\n    value {\\n      type: DT_INT64\\n    }\\n  }\\n  attr {\\n    key: &quot;value&quot;\\n    value {\\n      tensor {\\n        dtype: DT_INT64\\n        tensor_shape {\\n        }\\n        int64_val: 1000\\n      }\\n    }\\n  }\\n}\\nnode {\\n  name: &quot;seed&quot;\\n  op: &quot;Const&quot;\\n  attr {\\n    key: &quot;dtype&quot;\\n    value {\\n      type: DT_INT64\\n    }\\n  }\\n  attr {\\n    key: &quot;value&quot;\\n    value {\\n      tensor {\\n        dtype: DT_INT64\\n        tensor_shape {\\n        }\\n        int64_val: 0\\n      }\\n    }\\n  }\\n}\\nnode {\\n  name: &quot;seed2&quot;\\n  op: &quot;Const&quot;\\n  attr {\\n    key: &quot;dtype&quot;\\n    value {\\n      type: DT_INT64\\n    }\\n  }\\n  attr {\\n    key: &quot;value&quot;\\n    value {\\n      tensor {\\n        dtype: DT_INT64\\n        tensor_shape {\\n        }\\n        int64_val: 0\\n      }\\n    }\\n  }\\n}\\nnode {\\n  name: &quot;count&quot;\\n  op: &quot;Const&quot;\\n  attr {\\n    key: &quot;dtype&quot;\\n    value {\\n      type: DT_INT64\\n    }\\n  }\\n  attr {\\n    key: &quot;value&quot;\\n    value {\\n      tensor {\\n        dtype: DT_INT64\\n        tensor_shape {\\n        }\\n        int64_val: -1\\n      }\\n    }\\n  }\\n}\\nnode {\\n  name: &quot;batch_size&quot;\\n  op: &quot;Const&quot;\\n  attr {\\n    key: &quot;dtype&quot;\\n    value {\\n      type: DT_INT64\\n    }\\n  }\\n  attr {\\n    key: &quot;value&quot;\\n    value {\\n      tensor {\\n        dtype: DT_INT64\\n        tensor_shape {\\n        }\\n        int64_val: 64\\n      }\\n    }\\n  }\\n}\\nnode {\\n  name: &quot;tensors_1/component_0&quot;\\n  op: &quot;Const&quot;\\n  attr {\\n    key: &quot;dtype&quot;\\n    value {\\n      type: DT_DOUBLE\\n    }\\n  }\\n  attr {\\n    key: &quot;value&quot;\\n    value {\\n      tensor {\\n        dtype: DT_DOUBLE\\n        tensor_shape {\\n          dim {\\n            size: 500\\n          }\\n          dim {\\n            size: 2\\n          }\\n        }\\n        tensor_content: &quot;<stripped 8000 bytes>&quot;\\n      }\\n    }\\n  }\\n}\\nnode {\\n  name: &quot;tensors_1/component_1&quot;\\n  op: &quot;Const&quot;\\n  attr {\\n    key: &quot;dtype&quot;\\n    value {\\n      type: DT_DOUBLE\\n    }\\n  }\\n  attr {\\n    key: &quot;value&quot;\\n    value {\\n      tensor {\\n        dtype: DT_DOUBLE\\n        tensor_shape {\\n          dim {\\n            size: 500\\n          }\\n        }\\n        tensor_content: &quot;<stripped 4000 bytes>&quot;\\n      }\\n    }\\n  }\\n}\\nnode {\\n  name: &quot;batch_size_1&quot;\\n  op: &quot;Const&quot;\\n  attr {\\n    key: &quot;dtype&quot;\\n    value {\\n      type: DT_INT64\\n    }\\n  }\\n  attr {\\n    key: &quot;value&quot;\\n    value {\\n      tensor {\\n        dtype: DT_INT64\\n        tensor_shape {\\n        }\\n        int64_val: 64\\n      }\\n    }\\n  }\\n}\\nnode {\\n  name: &quot;OneShotIterator&quot;\\n  op: &quot;OneShotIterator&quot;\\n  attr {\\n    key: &quot;container&quot;\\n    value {\\n      s: &quot;&quot;\\n    }\\n  }\\n  attr {\\n    key: &quot;dataset_factory&quot;\\n    value {\\n      func {\\n        name: &quot;_make_dataset_olrfYW37HcA&quot;\\n      }\\n    }\\n  }\\n  attr {\\n    key: &quot;output_shapes&quot;\\n    value {\\n      list {\\n        shape {\\n          dim {\\n            size: -1\\n          }\\n          dim {\\n            size: 2\\n          }\\n        }\\n        shape {\\n          dim {\\n            size: -1\\n          }\\n        }\\n      }\\n    }\\n  }\\n  attr {\\n    key: &quot;output_types&quot;\\n    value {\\n      list {\\n        type: DT_DOUBLE\\n        type: DT_DOUBLE\\n      }\\n    }\\n  }\\n  attr {\\n    key: &quot;shared_name&quot;\\n    value {\\n      s: &quot;&quot;\\n    }\\n  }\\n}\\nnode {\\n  name: &quot;IteratorToStringHandle&quot;\\n  op: &quot;IteratorToStringHandle&quot;\\n  input: &quot;OneShotIterator&quot;\\n}\\nnode {\\n  name: &quot;IteratorGetNext&quot;\\n  op: &quot;IteratorGetNext&quot;\\n  input: &quot;OneShotIterator&quot;\\n  attr {\\n    key: &quot;output_shapes&quot;\\n    value {\\n      list {\\n        shape {\\n          dim {\\n            size: -1\\n          }\\n          dim {\\n            size: 2\\n          }\\n        }\\n        shape {\\n          dim {\\n            size: -1\\n          }\\n        }\\n      }\\n    }\\n  }\\n  attr {\\n    key: &quot;output_types&quot;\\n    value {\\n      list {\\n        type: DT_DOUBLE\\n        type: DT_DOUBLE\\n      }\\n    }\\n  }\\n}\\nnode {\\n  name: &quot;my_simple_module/linear/w/Initializer/truncated_normal/shape&quot;\\n  op: &quot;Const&quot;\\n  attr {\\n    key: &quot;_class&quot;\\n    value {\\n      list {\\n        s: &quot;loc:@my_simple_module/linear/w&quot;\\n      }\\n    }\\n  }\\n  attr {\\n    key: &quot;dtype&quot;\\n    value {\\n      type: DT_INT32\\n    }\\n  }\\n  attr {\\n    key: &quot;value&quot;\\n    value {\\n      tensor {\\n        dtype: DT_INT32\\n        tensor_shape {\\n          dim {\\n            size: 2\\n          }\\n        }\\n        tensor_content: &quot;\\\\002\\\\000\\\\000\\\\000\\\\005\\\\000\\\\000\\\\000&quot;\\n      }\\n    }\\n  }\\n}\\nnode {\\n  name: &quot;my_simple_module/linear/w/Initializer/truncated_normal/mean&quot;\\n  op: &quot;Const&quot;\\n  attr {\\n    key: &quot;_class&quot;\\n    value {\\n      list {\\n        s: &quot;loc:@my_simple_module/linear/w&quot;\\n      }\\n    }\\n  }\\n  attr {\\n    key: &quot;dtype&quot;\\n    value {\\n      type: DT_DOUBLE\\n    }\\n  }\\n  attr {\\n    key: &quot;value&quot;\\n    value {\\n      tensor {\\n        dtype: DT_DOUBLE\\n        tensor_shape {\\n        }\\n        double_val: 0.0\\n      }\\n    }\\n  }\\n}\\nnode {\\n  name: &quot;my_simple_module/linear/w/Initializer/truncated_normal/stddev&quot;\\n  op: &quot;Const&quot;\\n  attr {\\n    key: &quot;_class&quot;\\n    value {\\n      list {\\n        s: &quot;loc:@my_simple_module/linear/w&quot;\\n      }\\n    }\\n  }\\n  attr {\\n    key: &quot;dtype&quot;\\n    value {\\n      type: DT_DOUBLE\\n    }\\n  }\\n  attr {\\n    key: &quot;value&quot;\\n    value {\\n      tensor {\\n        dtype: DT_DOUBLE\\n        tensor_shape {\\n        }\\n        double_val: 0.707106781187\\n      }\\n    }\\n  }\\n}\\nnode {\\n  name: &quot;my_simple_module/linear/w/Initializer/truncated_normal/TruncatedNormal&quot;\\n  op: &quot;TruncatedNormal&quot;\\n  input: &quot;my_simple_module/linear/w/Initializer/truncated_normal/shape&quot;\\n  attr {\\n    key: &quot;T&quot;\\n    value {\\n      type: DT_INT32\\n    }\\n  }\\n  attr {\\n    key: &quot;_class&quot;\\n    value {\\n      list {\\n        s: &quot;loc:@my_simple_module/linear/w&quot;\\n      }\\n    }\\n  }\\n  attr {\\n    key: &quot;dtype&quot;\\n    value {\\n      type: DT_DOUBLE\\n    }\\n  }\\n  attr {\\n    key: &quot;seed&quot;\\n    value {\\n      i: 0\\n    }\\n  }\\n  attr {\\n    key: &quot;seed2&quot;\\n    value {\\n      i: 0\\n    }\\n  }\\n}\\nnode {\\n  name: &quot;my_simple_module/linear/w/Initializer/truncated_normal/mul&quot;\\n  op: &quot;Mul&quot;\\n  input: &quot;my_simple_module/linear/w/Initializer/truncated_normal/TruncatedNormal&quot;\\n  input: &quot;my_simple_module/linear/w/Initializer/truncated_normal/stddev&quot;\\n  attr {\\n    key: &quot;T&quot;\\n    value {\\n      type: DT_DOUBLE\\n    }\\n  }\\n  attr {\\n    key: &quot;_class&quot;\\n    value {\\n      list {\\n        s: &quot;loc:@my_simple_module/linear/w&quot;\\n      }\\n    }\\n  }\\n}\\nnode {\\n  name: &quot;my_simple_module/linear/w/Initializer/truncated_normal&quot;\\n  op: &quot;Add&quot;\\n  input: &quot;my_simple_module/linear/w/Initializer/truncated_normal/mul&quot;\\n  input: &quot;my_simple_module/linear/w/Initializer/truncated_normal/mean&quot;\\n  attr {\\n    key: &quot;T&quot;\\n    value {\\n      type: DT_DOUBLE\\n    }\\n  }\\n  attr {\\n    key: &quot;_class&quot;\\n    value {\\n      list {\\n        s: &quot;loc:@my_simple_module/linear/w&quot;\\n      }\\n    }\\n  }\\n}\\nnode {\\n  name: &quot;my_simple_module/linear/w&quot;\\n  op: &quot;VariableV2&quot;\\n  attr {\\n    key: &quot;_class&quot;\\n    value {\\n      list {\\n        s: &quot;loc:@my_simple_module/linear/w&quot;\\n      }\\n    }\\n  }\\n  attr {\\n    key: &quot;container&quot;\\n    value {\\n      s: &quot;&quot;\\n    }\\n  }\\n  attr {\\n    key: &quot;dtype&quot;\\n    value {\\n      type: DT_DOUBLE\\n    }\\n  }\\n  attr {\\n    key: &quot;shape&quot;\\n    value {\\n      shape {\\n        dim {\\n          size: 2\\n        }\\n        dim {\\n          size: 5\\n        }\\n      }\\n    }\\n  }\\n  attr {\\n    key: &quot;shared_name&quot;\\n    value {\\n      s: &quot;&quot;\\n    }\\n  }\\n}\\nnode {\\n  name: &quot;my_simple_module/linear/w/Assign&quot;\\n  op: &quot;Assign&quot;\\n  input: &quot;my_simple_module/linear/w&quot;\\n  input: &quot;my_simple_module/linear/w/Initializer/truncated_normal&quot;\\n  attr {\\n    key: &quot;T&quot;\\n    value {\\n      type: DT_DOUBLE\\n    }\\n  }\\n  attr {\\n    key: &quot;_class&quot;\\n    value {\\n      list {\\n        s: &quot;loc:@my_simple_module/linear/w&quot;\\n      }\\n    }\\n  }\\n  attr {\\n    key: &quot;use_locking&quot;\\n    value {\\n      b: true\\n    }\\n  }\\n  attr {\\n    key: &quot;validate_shape&quot;\\n    value {\\n      b: true\\n    }\\n  }\\n}\\nnode {\\n  name: &quot;my_simple_module/linear/w/read&quot;\\n  op: &quot;Identity&quot;\\n  input: &quot;my_simple_module/linear/w&quot;\\n  attr {\\n    key: &quot;T&quot;\\n    value {\\n      type: DT_DOUBLE\\n    }\\n  }\\n  attr {\\n    key: &quot;_class&quot;\\n    value {\\n      list {\\n        s: &quot;loc:@my_simple_module/linear/w&quot;\\n      }\\n    }\\n  }\\n}\\nnode {\\n  name: &quot;my_simple_module/linear/MatMul&quot;\\n  op: &quot;MatMul&quot;\\n  input: &quot;IteratorGetNext&quot;\\n  input: &quot;my_simple_module/linear/w/read&quot;\\n  attr {\\n    key: &quot;T&quot;\\n    value {\\n      type: DT_DOUBLE\\n    }\\n  }\\n  attr {\\n    key: &quot;transpose_a&quot;\\n    value {\\n      b: false\\n    }\\n  }\\n  attr {\\n    key: &quot;transpose_b&quot;\\n    value {\\n      b: false\\n    }\\n  }\\n}\\nnode {\\n  name: &quot;my_simple_module/linear/b/Initializer/zeros&quot;\\n  op: &quot;Const&quot;\\n  attr {\\n    key: &quot;_class&quot;\\n    value {\\n      list {\\n        s: &quot;loc:@my_simple_module/linear/b&quot;\\n      }\\n    }\\n  }\\n  attr {\\n    key: &quot;dtype&quot;\\n    value {\\n      type: DT_DOUBLE\\n    }\\n  }\\n  attr {\\n    key: &quot;value&quot;\\n    value {\\n      tensor {\\n        dtype: DT_DOUBLE\\n        tensor_shape {\\n          dim {\\n            size: 5\\n          }\\n        }\\n        double_val: 0.0\\n      }\\n    }\\n  }\\n}\\nnode {\\n  name: &quot;my_simple_module/linear/b&quot;\\n  op: &quot;VariableV2&quot;\\n  attr {\\n    key: &quot;_class&quot;\\n    value {\\n      list {\\n        s: &quot;loc:@my_simple_module/linear/b&quot;\\n      }\\n    }\\n  }\\n  attr {\\n    key: &quot;container&quot;\\n    value {\\n      s: &quot;&quot;\\n    }\\n  }\\n  attr {\\n    key: &quot;dtype&quot;\\n    value {\\n      type: DT_DOUBLE\\n    }\\n  }\\n  attr {\\n    key: &quot;shape&quot;\\n    value {\\n      shape {\\n        dim {\\n          size: 5\\n        }\\n      }\\n    }\\n  }\\n  attr {\\n    key: &quot;shared_name&quot;\\n    value {\\n      s: &quot;&quot;\\n    }\\n  }\\n}\\nnode {\\n  name: &quot;my_simple_module/linear/b/Assign&quot;\\n  op: &quot;Assign&quot;\\n  input: &quot;my_simple_module/linear/b&quot;\\n  input: &quot;my_simple_module/linear/b/Initializer/zeros&quot;\\n  attr {\\n    key: &quot;T&quot;\\n    value {\\n      type: DT_DOUBLE\\n    }\\n  }\\n  attr {\\n    key: &quot;_class&quot;\\n    value {\\n      list {\\n        s: &quot;loc:@my_simple_module/linear/b&quot;\\n      }\\n    }\\n  }\\n  attr {\\n    key: &quot;use_locking&quot;\\n    value {\\n      b: true\\n    }\\n  }\\n  attr {\\n    key: &quot;validate_shape&quot;\\n    value {\\n      b: true\\n    }\\n  }\\n}\\nnode {\\n  name: &quot;my_simple_module/linear/b/read&quot;\\n  op: &quot;Identity&quot;\\n  input: &quot;my_simple_module/linear/b&quot;\\n  attr {\\n    key: &quot;T&quot;\\n    value {\\n      type: DT_DOUBLE\\n    }\\n  }\\n  attr {\\n    key: &quot;_class&quot;\\n    value {\\n      list {\\n        s: &quot;loc:@my_simple_module/linear/b&quot;\\n      }\\n    }\\n  }\\n}\\nnode {\\n  name: &quot;my_simple_module/linear/add&quot;\\n  op: &quot;Add&quot;\\n  input: &quot;my_simple_module/linear/MatMul&quot;\\n  input: &quot;my_simple_module/linear/b/read&quot;\\n  attr {\\n    key: &quot;T&quot;\\n    value {\\n      type: DT_DOUBLE\\n    }\\n  }\\n}\\nnode {\\n  name: &quot;my_simple_module/Relu&quot;\\n  op: &quot;Relu&quot;\\n  input: &quot;my_simple_module/linear/add&quot;\\n  attr {\\n    key: &quot;T&quot;\\n    value {\\n      type: DT_DOUBLE\\n    }\\n  }\\n}\\nnode {\\n  name: &quot;my_simple_module/linear_1/w/Initializer/truncated_normal/shape&quot;\\n  op: &quot;Const&quot;\\n  attr {\\n    key: &quot;_class&quot;\\n    value {\\n      list {\\n        s: &quot;loc:@my_simple_module/linear_1/w&quot;\\n      }\\n    }\\n  }\\n  attr {\\n    key: &quot;dtype&quot;\\n    value {\\n      type: DT_INT32\\n    }\\n  }\\n  attr {\\n    key: &quot;value&quot;\\n    value {\\n      tensor {\\n        dtype: DT_INT32\\n        tensor_shape {\\n          dim {\\n            size: 2\\n          }\\n        }\\n        tensor_content: &quot;\\\\005\\\\000\\\\000\\\\000\\\\001\\\\000\\\\000\\\\000&quot;\\n      }\\n    }\\n  }\\n}\\nnode {\\n  name: &quot;my_simple_module/linear_1/w/Initializer/truncated_normal/mean&quot;\\n  op: &quot;Const&quot;\\n  attr {\\n    key: &quot;_class&quot;\\n    value {\\n      list {\\n        s: &quot;loc:@my_simple_module/linear_1/w&quot;\\n      }\\n    }\\n  }\\n  attr {\\n    key: &quot;dtype&quot;\\n    value {\\n      type: DT_DOUBLE\\n    }\\n  }\\n  attr {\\n    key: &quot;value&quot;\\n    value {\\n      tensor {\\n        dtype: DT_DOUBLE\\n        tensor_shape {\\n        }\\n        double_val: 0.0\\n      }\\n    }\\n  }\\n}\\nnode {\\n  name: &quot;my_simple_module/linear_1/w/Initializer/truncated_normal/stddev&quot;\\n  op: &quot;Const&quot;\\n  attr {\\n    key: &quot;_class&quot;\\n    value {\\n      list {\\n        s: &quot;loc:@my_simple_module/linear_1/w&quot;\\n      }\\n    }\\n  }\\n  attr {\\n    key: &quot;dtype&quot;\\n    value {\\n      type: DT_DOUBLE\\n    }\\n  }\\n  attr {\\n    key: &quot;value&quot;\\n    value {\\n      tensor {\\n        dtype: DT_DOUBLE\\n        tensor_shape {\\n        }\\n        double_val: 0.4472135955\\n      }\\n    }\\n  }\\n}\\nnode {\\n  name: &quot;my_simple_module/linear_1/w/Initializer/truncated_normal/TruncatedNormal&quot;\\n  op: &quot;TruncatedNormal&quot;\\n  input: &quot;my_simple_module/linear_1/w/Initializer/truncated_normal/shape&quot;\\n  attr {\\n    key: &quot;T&quot;\\n    value {\\n      type: DT_INT32\\n    }\\n  }\\n  attr {\\n    key: &quot;_class&quot;\\n    value {\\n      list {\\n        s: &quot;loc:@my_simple_module/linear_1/w&quot;\\n      }\\n    }\\n  }\\n  attr {\\n    key: &quot;dtype&quot;\\n    value {\\n      type: DT_DOUBLE\\n    }\\n  }\\n  attr {\\n    key: &quot;seed&quot;\\n    value {\\n      i: 0\\n    }\\n  }\\n  attr {\\n    key: &quot;seed2&quot;\\n    value {\\n      i: 0\\n    }\\n  }\\n}\\nnode {\\n  name: &quot;my_simple_module/linear_1/w/Initializer/truncated_normal/mul&quot;\\n  op: &quot;Mul&quot;\\n  input: &quot;my_simple_module/linear_1/w/Initializer/truncated_normal/TruncatedNormal&quot;\\n  input: &quot;my_simple_module/linear_1/w/Initializer/truncated_normal/stddev&quot;\\n  attr {\\n    key: &quot;T&quot;\\n    value {\\n      type: DT_DOUBLE\\n    }\\n  }\\n  attr {\\n    key: &quot;_class&quot;\\n    value {\\n      list {\\n        s: &quot;loc:@my_simple_module/linear_1/w&quot;\\n      }\\n    }\\n  }\\n}\\nnode {\\n  name: &quot;my_simple_module/linear_1/w/Initializer/truncated_normal&quot;\\n  op: &quot;Add&quot;\\n  input: &quot;my_simple_module/linear_1/w/Initializer/truncated_normal/mul&quot;\\n  input: &quot;my_simple_module/linear_1/w/Initializer/truncated_normal/mean&quot;\\n  attr {\\n    key: &quot;T&quot;\\n    value {\\n      type: DT_DOUBLE\\n    }\\n  }\\n  attr {\\n    key: &quot;_class&quot;\\n    value {\\n      list {\\n        s: &quot;loc:@my_simple_module/linear_1/w&quot;\\n      }\\n    }\\n  }\\n}\\nnode {\\n  name: &quot;my_simple_module/linear_1/w&quot;\\n  op: &quot;VariableV2&quot;\\n  attr {\\n    key: &quot;_class&quot;\\n    value {\\n      list {\\n        s: &quot;loc:@my_simple_module/linear_1/w&quot;\\n      }\\n    }\\n  }\\n  attr {\\n    key: &quot;container&quot;\\n    value {\\n      s: &quot;&quot;\\n    }\\n  }\\n  attr {\\n    key: &quot;dtype&quot;\\n    value {\\n      type: DT_DOUBLE\\n    }\\n  }\\n  attr {\\n    key: &quot;shape&quot;\\n    value {\\n      shape {\\n        dim {\\n          size: 5\\n        }\\n        dim {\\n          size: 1\\n        }\\n      }\\n    }\\n  }\\n  attr {\\n    key: &quot;shared_name&quot;\\n    value {\\n      s: &quot;&quot;\\n    }\\n  }\\n}\\nnode {\\n  name: &quot;my_simple_module/linear_1/w/Assign&quot;\\n  op: &quot;Assign&quot;\\n  input: &quot;my_simple_module/linear_1/w&quot;\\n  input: &quot;my_simple_module/linear_1/w/Initializer/truncated_normal&quot;\\n  attr {\\n    key: &quot;T&quot;\\n    value {\\n      type: DT_DOUBLE\\n    }\\n  }\\n  attr {\\n    key: &quot;_class&quot;\\n    value {\\n      list {\\n        s: &quot;loc:@my_simple_module/linear_1/w&quot;\\n      }\\n    }\\n  }\\n  attr {\\n    key: &quot;use_locking&quot;\\n    value {\\n      b: true\\n    }\\n  }\\n  attr {\\n    key: &quot;validate_shape&quot;\\n    value {\\n      b: true\\n    }\\n  }\\n}\\nnode {\\n  name: &quot;my_simple_module/linear_1/w/read&quot;\\n  op: &quot;Identity&quot;\\n  input: &quot;my_simple_module/linear_1/w&quot;\\n  attr {\\n    key: &quot;T&quot;\\n    value {\\n      type: DT_DOUBLE\\n    }\\n  }\\n  attr {\\n    key: &quot;_class&quot;\\n    value {\\n      list {\\n        s: &quot;loc:@my_simple_module/linear_1/w&quot;\\n      }\\n    }\\n  }\\n}\\nnode {\\n  name: &quot;my_simple_module/linear_1/MatMul&quot;\\n  op: &quot;MatMul&quot;\\n  input: &quot;my_simple_module/Relu&quot;\\n  input: &quot;my_simple_module/linear_1/w/read&quot;\\n  attr {\\n    key: &quot;T&quot;\\n    value {\\n      type: DT_DOUBLE\\n    }\\n  }\\n  attr {\\n    key: &quot;transpose_a&quot;\\n    value {\\n      b: false\\n    }\\n  }\\n  attr {\\n    key: &quot;transpose_b&quot;\\n    value {\\n      b: false\\n    }\\n  }\\n}\\nnode {\\n  name: &quot;my_simple_module/linear_1/b/Initializer/zeros&quot;\\n  op: &quot;Const&quot;\\n  attr {\\n    key: &quot;_class&quot;\\n    value {\\n      list {\\n        s: &quot;loc:@my_simple_module/linear_1/b&quot;\\n      }\\n    }\\n  }\\n  attr {\\n    key: &quot;dtype&quot;\\n    value {\\n      type: DT_DOUBLE\\n    }\\n  }\\n  attr {\\n    key: &quot;value&quot;\\n    value {\\n      tensor {\\n        dtype: DT_DOUBLE\\n        tensor_shape {\\n          dim {\\n            size: 1\\n          }\\n        }\\n        double_val: 0.0\\n      }\\n    }\\n  }\\n}\\nnode {\\n  name: &quot;my_simple_module/linear_1/b&quot;\\n  op: &quot;VariableV2&quot;\\n  attr {\\n    key: &quot;_class&quot;\\n    value {\\n      list {\\n        s: &quot;loc:@my_simple_module/linear_1/b&quot;\\n      }\\n    }\\n  }\\n  attr {\\n    key: &quot;container&quot;\\n    value {\\n      s: &quot;&quot;\\n    }\\n  }\\n  attr {\\n    key: &quot;dtype&quot;\\n    value {\\n      type: DT_DOUBLE\\n    }\\n  }\\n  attr {\\n    key: &quot;shape&quot;\\n    value {\\n      shape {\\n        dim {\\n          size: 1\\n        }\\n      }\\n    }\\n  }\\n  attr {\\n    key: &quot;shared_name&quot;\\n    value {\\n      s: &quot;&quot;\\n    }\\n  }\\n}\\nnode {\\n  name: &quot;my_simple_module/linear_1/b/Assign&quot;\\n  op: &quot;Assign&quot;\\n  input: &quot;my_simple_module/linear_1/b&quot;\\n  input: &quot;my_simple_module/linear_1/b/Initializer/zeros&quot;\\n  attr {\\n    key: &quot;T&quot;\\n    value {\\n      type: DT_DOUBLE\\n    }\\n  }\\n  attr {\\n    key: &quot;_class&quot;\\n    value {\\n      list {\\n        s: &quot;loc:@my_simple_module/linear_1/b&quot;\\n      }\\n    }\\n  }\\n  attr {\\n    key: &quot;use_locking&quot;\\n    value {\\n      b: true\\n    }\\n  }\\n  attr {\\n    key: &quot;validate_shape&quot;\\n    value {\\n      b: true\\n    }\\n  }\\n}\\nnode {\\n  name: &quot;my_simple_module/linear_1/b/read&quot;\\n  op: &quot;Identity&quot;\\n  input: &quot;my_simple_module/linear_1/b&quot;\\n  attr {\\n    key: &quot;T&quot;\\n    value {\\n      type: DT_DOUBLE\\n    }\\n  }\\n  attr {\\n    key: &quot;_class&quot;\\n    value {\\n      list {\\n        s: &quot;loc:@my_simple_module/linear_1/b&quot;\\n      }\\n    }\\n  }\\n}\\nnode {\\n  name: &quot;my_simple_module/linear_1/add&quot;\\n  op: &quot;Add&quot;\\n  input: &quot;my_simple_module/linear_1/MatMul&quot;\\n  input: &quot;my_simple_module/linear_1/b/read&quot;\\n  attr {\\n    key: &quot;T&quot;\\n    value {\\n      type: DT_DOUBLE\\n    }\\n  }\\n}\\nnode {\\n  name: &quot;my_simple_module/Squeeze&quot;\\n  op: &quot;Squeeze&quot;\\n  input: &quot;my_simple_module/linear_1/add&quot;\\n  attr {\\n    key: &quot;T&quot;\\n    value {\\n      type: DT_DOUBLE\\n    }\\n  }\\n  attr {\\n    key: &quot;squeeze_dims&quot;\\n    value {\\n      list {\\n        i: -1\\n      }\\n    }\\n  }\\n}\\nnode {\\n  name: &quot;OneShotIterator_1&quot;\\n  op: &quot;OneShotIterator&quot;\\n  attr {\\n    key: &quot;container&quot;\\n    value {\\n      s: &quot;&quot;\\n    }\\n  }\\n  attr {\\n    key: &quot;dataset_factory&quot;\\n    value {\\n      func {\\n        name: &quot;_make_dataset_1pFRwRctUgQ&quot;\\n      }\\n    }\\n  }\\n  attr {\\n    key: &quot;output_shapes&quot;\\n    value {\\n      list {\\n        shape {\\n          dim {\\n            size: -1\\n          }\\n          dim {\\n            size: 2\\n          }\\n        }\\n        shape {\\n          dim {\\n            size: -1\\n          }\\n        }\\n      }\\n    }\\n  }\\n  attr {\\n    key: &quot;output_types&quot;\\n    value {\\n      list {\\n        type: DT_DOUBLE\\n        type: DT_DOUBLE\\n      }\\n    }\\n  }\\n  attr {\\n    key: &quot;shared_name&quot;\\n    value {\\n      s: &quot;&quot;\\n    }\\n  }\\n}\\nnode {\\n  name: &quot;IteratorToStringHandle_1&quot;\\n  op: &quot;IteratorToStringHandle&quot;\\n  input: &quot;OneShotIterator_1&quot;\\n}\\nnode {\\n  name: &quot;IteratorGetNext_1&quot;\\n  op: &quot;IteratorGetNext&quot;\\n  input: &quot;OneShotIterator_1&quot;\\n  attr {\\n    key: &quot;output_shapes&quot;\\n    value {\\n      list {\\n        shape {\\n          dim {\\n            size: -1\\n          }\\n          dim {\\n            size: 2\\n          }\\n        }\\n        shape {\\n          dim {\\n            size: -1\\n          }\\n        }\\n      }\\n    }\\n  }\\n  attr {\\n    key: &quot;output_types&quot;\\n    value {\\n      list {\\n        type: DT_DOUBLE\\n        type: DT_DOUBLE\\n      }\\n    }\\n  }\\n}\\nnode {\\n  name: &quot;my_simple_module_1/linear/MatMul&quot;\\n  op: &quot;MatMul&quot;\\n  input: &quot;IteratorGetNext_1&quot;\\n  input: &quot;my_simple_module/linear/w/read&quot;\\n  attr {\\n    key: &quot;T&quot;\\n    value {\\n      type: DT_DOUBLE\\n    }\\n  }\\n  attr {\\n    key: &quot;transpose_a&quot;\\n    value {\\n      b: false\\n    }\\n  }\\n  attr {\\n    key: &quot;transpose_b&quot;\\n    value {\\n      b: false\\n    }\\n  }\\n}\\nnode {\\n  name: &quot;my_simple_module_1/linear/add&quot;\\n  op: &quot;Add&quot;\\n  input: &quot;my_simple_module_1/linear/MatMul&quot;\\n  input: &quot;my_simple_module/linear/b/read&quot;\\n  attr {\\n    key: &quot;T&quot;\\n    value {\\n      type: DT_DOUBLE\\n    }\\n  }\\n}\\nnode {\\n  name: &quot;my_simple_module_1/Relu&quot;\\n  op: &quot;Relu&quot;\\n  input: &quot;my_simple_module_1/linear/add&quot;\\n  attr {\\n    key: &quot;T&quot;\\n    value {\\n      type: DT_DOUBLE\\n    }\\n  }\\n}\\nnode {\\n  name: &quot;my_simple_module_1/linear_1/MatMul&quot;\\n  op: &quot;MatMul&quot;\\n  input: &quot;my_simple_module_1/Relu&quot;\\n  input: &quot;my_simple_module/linear_1/w/read&quot;\\n  attr {\\n    key: &quot;T&quot;\\n    value {\\n      type: DT_DOUBLE\\n    }\\n  }\\n  attr {\\n    key: &quot;transpose_a&quot;\\n    value {\\n      b: false\\n    }\\n  }\\n  attr {\\n    key: &quot;transpose_b&quot;\\n    value {\\n      b: false\\n    }\\n  }\\n}\\nnode {\\n  name: &quot;my_simple_module_1/linear_1/add&quot;\\n  op: &quot;Add&quot;\\n  input: &quot;my_simple_module_1/linear_1/MatMul&quot;\\n  input: &quot;my_simple_module/linear_1/b/read&quot;\\n  attr {\\n    key: &quot;T&quot;\\n    value {\\n      type: DT_DOUBLE\\n    }\\n  }\\n}\\nnode {\\n  name: &quot;my_simple_module_1/Squeeze&quot;\\n  op: &quot;Squeeze&quot;\\n  input: &quot;my_simple_module_1/linear_1/add&quot;\\n  attr {\\n    key: &quot;T&quot;\\n    value {\\n      type: DT_DOUBLE\\n    }\\n  }\\n  attr {\\n    key: &quot;squeeze_dims&quot;\\n    value {\\n      list {\\n        i: -1\\n      }\\n    }\\n  }\\n}\\nnode {\\n  name: &quot;unshared_simple_module/linear/w/Initializer/truncated_normal/shape&quot;\\n  op: &quot;Const&quot;\\n  attr {\\n    key: &quot;_class&quot;\\n    value {\\n      list {\\n        s: &quot;loc:@unshared_simple_module/linear/w&quot;\\n      }\\n    }\\n  }\\n  attr {\\n    key: &quot;dtype&quot;\\n    value {\\n      type: DT_INT32\\n    }\\n  }\\n  attr {\\n    key: &quot;value&quot;\\n    value {\\n      tensor {\\n        dtype: DT_INT32\\n        tensor_shape {\\n          dim {\\n            size: 2\\n          }\\n        }\\n        tensor_content: &quot;\\\\002\\\\000\\\\000\\\\000\\\\005\\\\000\\\\000\\\\000&quot;\\n      }\\n    }\\n  }\\n}\\nnode {\\n  name: &quot;unshared_simple_module/linear/w/Initializer/truncated_normal/mean&quot;\\n  op: &quot;Const&quot;\\n  attr {\\n    key: &quot;_class&quot;\\n    value {\\n      list {\\n        s: &quot;loc:@unshared_simple_module/linear/w&quot;\\n      }\\n    }\\n  }\\n  attr {\\n    key: &quot;dtype&quot;\\n    value {\\n      type: DT_DOUBLE\\n    }\\n  }\\n  attr {\\n    key: &quot;value&quot;\\n    value {\\n      tensor {\\n        dtype: DT_DOUBLE\\n        tensor_shape {\\n        }\\n        double_val: 0.0\\n      }\\n    }\\n  }\\n}\\nnode {\\n  name: &quot;unshared_simple_module/linear/w/Initializer/truncated_normal/stddev&quot;\\n  op: &quot;Const&quot;\\n  attr {\\n    key: &quot;_class&quot;\\n    value {\\n      list {\\n        s: &quot;loc:@unshared_simple_module/linear/w&quot;\\n      }\\n    }\\n  }\\n  attr {\\n    key: &quot;dtype&quot;\\n    value {\\n      type: DT_DOUBLE\\n    }\\n  }\\n  attr {\\n    key: &quot;value&quot;\\n    value {\\n      tensor {\\n        dtype: DT_DOUBLE\\n        tensor_shape {\\n        }\\n        double_val: 0.707106781187\\n      }\\n    }\\n  }\\n}\\nnode {\\n  name: &quot;unshared_simple_module/linear/w/Initializer/truncated_normal/TruncatedNormal&quot;\\n  op: &quot;TruncatedNormal&quot;\\n  input: &quot;unshared_simple_module/linear/w/Initializer/truncated_normal/shape&quot;\\n  attr {\\n    key: &quot;T&quot;\\n    value {\\n      type: DT_INT32\\n    }\\n  }\\n  attr {\\n    key: &quot;_class&quot;\\n    value {\\n      list {\\n        s: &quot;loc:@unshared_simple_module/linear/w&quot;\\n      }\\n    }\\n  }\\n  attr {\\n    key: &quot;dtype&quot;\\n    value {\\n      type: DT_DOUBLE\\n    }\\n  }\\n  attr {\\n    key: &quot;seed&quot;\\n    value {\\n      i: 0\\n    }\\n  }\\n  attr {\\n    key: &quot;seed2&quot;\\n    value {\\n      i: 0\\n    }\\n  }\\n}\\nnode {\\n  name: &quot;unshared_simple_module/linear/w/Initializer/truncated_normal/mul&quot;\\n  op: &quot;Mul&quot;\\n  input: &quot;unshared_simple_module/linear/w/Initializer/truncated_normal/TruncatedNormal&quot;\\n  input: &quot;unshared_simple_module/linear/w/Initializer/truncated_normal/stddev&quot;\\n  attr {\\n    key: &quot;T&quot;\\n    value {\\n      type: DT_DOUBLE\\n    }\\n  }\\n  attr {\\n    key: &quot;_class&quot;\\n    value {\\n      list {\\n        s: &quot;loc:@unshared_simple_module/linear/w&quot;\\n      }\\n    }\\n  }\\n}\\nnode {\\n  name: &quot;unshared_simple_module/linear/w/Initializer/truncated_normal&quot;\\n  op: &quot;Add&quot;\\n  input: &quot;unshared_simple_module/linear/w/Initializer/truncated_normal/mul&quot;\\n  input: &quot;unshared_simple_module/linear/w/Initializer/truncated_normal/mean&quot;\\n  attr {\\n    key: &quot;T&quot;\\n    value {\\n      type: DT_DOUBLE\\n    }\\n  }\\n  attr {\\n    key: &quot;_class&quot;\\n    value {\\n      list {\\n        s: &quot;loc:@unshared_simple_module/linear/w&quot;\\n      }\\n    }\\n  }\\n}\\nnode {\\n  name: &quot;unshared_simple_module/linear/w&quot;\\n  op: &quot;VariableV2&quot;\\n  attr {\\n    key: &quot;_class&quot;\\n    value {\\n      list {\\n        s: &quot;loc:@unshared_simple_module/linear/w&quot;\\n      }\\n    }\\n  }\\n  attr {\\n    key: &quot;container&quot;\\n    value {\\n      s: &quot;&quot;\\n    }\\n  }\\n  attr {\\n    key: &quot;dtype&quot;\\n    value {\\n      type: DT_DOUBLE\\n    }\\n  }\\n  attr {\\n    key: &quot;shape&quot;\\n    value {\\n      shape {\\n        dim {\\n          size: 2\\n        }\\n        dim {\\n          size: 5\\n        }\\n      }\\n    }\\n  }\\n  attr {\\n    key: &quot;shared_name&quot;\\n    value {\\n      s: &quot;&quot;\\n    }\\n  }\\n}\\nnode {\\n  name: &quot;unshared_simple_module/linear/w/Assign&quot;\\n  op: &quot;Assign&quot;\\n  input: &quot;unshared_simple_module/linear/w&quot;\\n  input: &quot;unshared_simple_module/linear/w/Initializer/truncated_normal&quot;\\n  attr {\\n    key: &quot;T&quot;\\n    value {\\n      type: DT_DOUBLE\\n    }\\n  }\\n  attr {\\n    key: &quot;_class&quot;\\n    value {\\n      list {\\n        s: &quot;loc:@unshared_simple_module/linear/w&quot;\\n      }\\n    }\\n  }\\n  attr {\\n    key: &quot;use_locking&quot;\\n    value {\\n      b: true\\n    }\\n  }\\n  attr {\\n    key: &quot;validate_shape&quot;\\n    value {\\n      b: true\\n    }\\n  }\\n}\\nnode {\\n  name: &quot;unshared_simple_module/linear/w/read&quot;\\n  op: &quot;Identity&quot;\\n  input: &quot;unshared_simple_module/linear/w&quot;\\n  attr {\\n    key: &quot;T&quot;\\n    value {\\n      type: DT_DOUBLE\\n    }\\n  }\\n  attr {\\n    key: &quot;_class&quot;\\n    value {\\n      list {\\n        s: &quot;loc:@unshared_simple_module/linear/w&quot;\\n      }\\n    }\\n  }\\n}\\nnode {\\n  name: &quot;unshared_simple_module/linear/MatMul&quot;\\n  op: &quot;MatMul&quot;\\n  input: &quot;IteratorGetNext_1&quot;\\n  input: &quot;unshared_simple_module/linear/w/read&quot;\\n  attr {\\n    key: &quot;T&quot;\\n    value {\\n      type: DT_DOUBLE\\n    }\\n  }\\n  attr {\\n    key: &quot;transpose_a&quot;\\n    value {\\n      b: false\\n    }\\n  }\\n  attr {\\n    key: &quot;transpose_b&quot;\\n    value {\\n      b: false\\n    }\\n  }\\n}\\nnode {\\n  name: &quot;unshared_simple_module/linear/b/Initializer/zeros&quot;\\n  op: &quot;Const&quot;\\n  attr {\\n    key: &quot;_class&quot;\\n    value {\\n      list {\\n        s: &quot;loc:@unshared_simple_module/linear/b&quot;\\n      }\\n    }\\n  }\\n  attr {\\n    key: &quot;dtype&quot;\\n    value {\\n      type: DT_DOUBLE\\n    }\\n  }\\n  attr {\\n    key: &quot;value&quot;\\n    value {\\n      tensor {\\n        dtype: DT_DOUBLE\\n        tensor_shape {\\n          dim {\\n            size: 5\\n          }\\n        }\\n        double_val: 0.0\\n      }\\n    }\\n  }\\n}\\nnode {\\n  name: &quot;unshared_simple_module/linear/b&quot;\\n  op: &quot;VariableV2&quot;\\n  attr {\\n    key: &quot;_class&quot;\\n    value {\\n      list {\\n        s: &quot;loc:@unshared_simple_module/linear/b&quot;\\n      }\\n    }\\n  }\\n  attr {\\n    key: &quot;container&quot;\\n    value {\\n      s: &quot;&quot;\\n    }\\n  }\\n  attr {\\n    key: &quot;dtype&quot;\\n    value {\\n      type: DT_DOUBLE\\n    }\\n  }\\n  attr {\\n    key: &quot;shape&quot;\\n    value {\\n      shape {\\n        dim {\\n          size: 5\\n        }\\n      }\\n    }\\n  }\\n  attr {\\n    key: &quot;shared_name&quot;\\n    value {\\n      s: &quot;&quot;\\n    }\\n  }\\n}\\nnode {\\n  name: &quot;unshared_simple_module/linear/b/Assign&quot;\\n  op: &quot;Assign&quot;\\n  input: &quot;unshared_simple_module/linear/b&quot;\\n  input: &quot;unshared_simple_module/linear/b/Initializer/zeros&quot;\\n  attr {\\n    key: &quot;T&quot;\\n    value {\\n      type: DT_DOUBLE\\n    }\\n  }\\n  attr {\\n    key: &quot;_class&quot;\\n    value {\\n      list {\\n        s: &quot;loc:@unshared_simple_module/linear/b&quot;\\n      }\\n    }\\n  }\\n  attr {\\n    key: &quot;use_locking&quot;\\n    value {\\n      b: true\\n    }\\n  }\\n  attr {\\n    key: &quot;validate_shape&quot;\\n    value {\\n      b: true\\n    }\\n  }\\n}\\nnode {\\n  name: &quot;unshared_simple_module/linear/b/read&quot;\\n  op: &quot;Identity&quot;\\n  input: &quot;unshared_simple_module/linear/b&quot;\\n  attr {\\n    key: &quot;T&quot;\\n    value {\\n      type: DT_DOUBLE\\n    }\\n  }\\n  attr {\\n    key: &quot;_class&quot;\\n    value {\\n      list {\\n        s: &quot;loc:@unshared_simple_module/linear/b&quot;\\n      }\\n    }\\n  }\\n}\\nnode {\\n  name: &quot;unshared_simple_module/linear/add&quot;\\n  op: &quot;Add&quot;\\n  input: &quot;unshared_simple_module/linear/MatMul&quot;\\n  input: &quot;unshared_simple_module/linear/b/read&quot;\\n  attr {\\n    key: &quot;T&quot;\\n    value {\\n      type: DT_DOUBLE\\n    }\\n  }\\n}\\nnode {\\n  name: &quot;unshared_simple_module/Relu&quot;\\n  op: &quot;Relu&quot;\\n  input: &quot;unshared_simple_module/linear/add&quot;\\n  attr {\\n    key: &quot;T&quot;\\n    value {\\n      type: DT_DOUBLE\\n    }\\n  }\\n}\\nnode {\\n  name: &quot;unshared_simple_module/linear_1/w/Initializer/truncated_normal/shape&quot;\\n  op: &quot;Const&quot;\\n  attr {\\n    key: &quot;_class&quot;\\n    value {\\n      list {\\n        s: &quot;loc:@unshared_simple_module/linear_1/w&quot;\\n      }\\n    }\\n  }\\n  attr {\\n    key: &quot;dtype&quot;\\n    value {\\n      type: DT_INT32\\n    }\\n  }\\n  attr {\\n    key: &quot;value&quot;\\n    value {\\n      tensor {\\n        dtype: DT_INT32\\n        tensor_shape {\\n          dim {\\n            size: 2\\n          }\\n        }\\n        tensor_content: &quot;\\\\005\\\\000\\\\000\\\\000\\\\001\\\\000\\\\000\\\\000&quot;\\n      }\\n    }\\n  }\\n}\\nnode {\\n  name: &quot;unshared_simple_module/linear_1/w/Initializer/truncated_normal/mean&quot;\\n  op: &quot;Const&quot;\\n  attr {\\n    key: &quot;_class&quot;\\n    value {\\n      list {\\n        s: &quot;loc:@unshared_simple_module/linear_1/w&quot;\\n      }\\n    }\\n  }\\n  attr {\\n    key: &quot;dtype&quot;\\n    value {\\n      type: DT_DOUBLE\\n    }\\n  }\\n  attr {\\n    key: &quot;value&quot;\\n    value {\\n      tensor {\\n        dtype: DT_DOUBLE\\n        tensor_shape {\\n        }\\n        double_val: 0.0\\n      }\\n    }\\n  }\\n}\\nnode {\\n  name: &quot;unshared_simple_module/linear_1/w/Initializer/truncated_normal/stddev&quot;\\n  op: &quot;Const&quot;\\n  attr {\\n    key: &quot;_class&quot;\\n    value {\\n      list {\\n        s: &quot;loc:@unshared_simple_module/linear_1/w&quot;\\n      }\\n    }\\n  }\\n  attr {\\n    key: &quot;dtype&quot;\\n    value {\\n      type: DT_DOUBLE\\n    }\\n  }\\n  attr {\\n    key: &quot;value&quot;\\n    value {\\n      tensor {\\n        dtype: DT_DOUBLE\\n        tensor_shape {\\n        }\\n        double_val: 0.4472135955\\n      }\\n    }\\n  }\\n}\\nnode {\\n  name: &quot;unshared_simple_module/linear_1/w/Initializer/truncated_normal/TruncatedNormal&quot;\\n  op: &quot;TruncatedNormal&quot;\\n  input: &quot;unshared_simple_module/linear_1/w/Initializer/truncated_normal/shape&quot;\\n  attr {\\n    key: &quot;T&quot;\\n    value {\\n      type: DT_INT32\\n    }\\n  }\\n  attr {\\n    key: &quot;_class&quot;\\n    value {\\n      list {\\n        s: &quot;loc:@unshared_simple_module/linear_1/w&quot;\\n      }\\n    }\\n  }\\n  attr {\\n    key: &quot;dtype&quot;\\n    value {\\n      type: DT_DOUBLE\\n    }\\n  }\\n  attr {\\n    key: &quot;seed&quot;\\n    value {\\n      i: 0\\n    }\\n  }\\n  attr {\\n    key: &quot;seed2&quot;\\n    value {\\n      i: 0\\n    }\\n  }\\n}\\nnode {\\n  name: &quot;unshared_simple_module/linear_1/w/Initializer/truncated_normal/mul&quot;\\n  op: &quot;Mul&quot;\\n  input: &quot;unshared_simple_module/linear_1/w/Initializer/truncated_normal/TruncatedNormal&quot;\\n  input: &quot;unshared_simple_module/linear_1/w/Initializer/truncated_normal/stddev&quot;\\n  attr {\\n    key: &quot;T&quot;\\n    value {\\n      type: DT_DOUBLE\\n    }\\n  }\\n  attr {\\n    key: &quot;_class&quot;\\n    value {\\n      list {\\n        s: &quot;loc:@unshared_simple_module/linear_1/w&quot;\\n      }\\n    }\\n  }\\n}\\nnode {\\n  name: &quot;unshared_simple_module/linear_1/w/Initializer/truncated_normal&quot;\\n  op: &quot;Add&quot;\\n  input: &quot;unshared_simple_module/linear_1/w/Initializer/truncated_normal/mul&quot;\\n  input: &quot;unshared_simple_module/linear_1/w/Initializer/truncated_normal/mean&quot;\\n  attr {\\n    key: &quot;T&quot;\\n    value {\\n      type: DT_DOUBLE\\n    }\\n  }\\n  attr {\\n    key: &quot;_class&quot;\\n    value {\\n      list {\\n        s: &quot;loc:@unshared_simple_module/linear_1/w&quot;\\n      }\\n    }\\n  }\\n}\\nnode {\\n  name: &quot;unshared_simple_module/linear_1/w&quot;\\n  op: &quot;VariableV2&quot;\\n  attr {\\n    key: &quot;_class&quot;\\n    value {\\n      list {\\n        s: &quot;loc:@unshared_simple_module/linear_1/w&quot;\\n      }\\n    }\\n  }\\n  attr {\\n    key: &quot;container&quot;\\n    value {\\n      s: &quot;&quot;\\n    }\\n  }\\n  attr {\\n    key: &quot;dtype&quot;\\n    value {\\n      type: DT_DOUBLE\\n    }\\n  }\\n  attr {\\n    key: &quot;shape&quot;\\n    value {\\n      shape {\\n        dim {\\n          size: 5\\n        }\\n        dim {\\n          size: 1\\n        }\\n      }\\n    }\\n  }\\n  attr {\\n    key: &quot;shared_name&quot;\\n    value {\\n      s: &quot;&quot;\\n    }\\n  }\\n}\\nnode {\\n  name: &quot;unshared_simple_module/linear_1/w/Assign&quot;\\n  op: &quot;Assign&quot;\\n  input: &quot;unshared_simple_module/linear_1/w&quot;\\n  input: &quot;unshared_simple_module/linear_1/w/Initializer/truncated_normal&quot;\\n  attr {\\n    key: &quot;T&quot;\\n    value {\\n      type: DT_DOUBLE\\n    }\\n  }\\n  attr {\\n    key: &quot;_class&quot;\\n    value {\\n      list {\\n        s: &quot;loc:@unshared_simple_module/linear_1/w&quot;\\n      }\\n    }\\n  }\\n  attr {\\n    key: &quot;use_locking&quot;\\n    value {\\n      b: true\\n    }\\n  }\\n  attr {\\n    key: &quot;validate_shape&quot;\\n    value {\\n      b: true\\n    }\\n  }\\n}\\nnode {\\n  name: &quot;unshared_simple_module/linear_1/w/read&quot;\\n  op: &quot;Identity&quot;\\n  input: &quot;unshared_simple_module/linear_1/w&quot;\\n  attr {\\n    key: &quot;T&quot;\\n    value {\\n      type: DT_DOUBLE\\n    }\\n  }\\n  attr {\\n    key: &quot;_class&quot;\\n    value {\\n      list {\\n        s: &quot;loc:@unshared_simple_module/linear_1/w&quot;\\n      }\\n    }\\n  }\\n}\\nnode {\\n  name: &quot;unshared_simple_module/linear_1/MatMul&quot;\\n  op: &quot;MatMul&quot;\\n  input: &quot;unshared_simple_module/Relu&quot;\\n  input: &quot;unshared_simple_module/linear_1/w/read&quot;\\n  attr {\\n    key: &quot;T&quot;\\n    value {\\n      type: DT_DOUBLE\\n    }\\n  }\\n  attr {\\n    key: &quot;transpose_a&quot;\\n    value {\\n      b: false\\n    }\\n  }\\n  attr {\\n    key: &quot;transpose_b&quot;\\n    value {\\n      b: false\\n    }\\n  }\\n}\\nnode {\\n  name: &quot;unshared_simple_module/linear_1/b/Initializer/zeros&quot;\\n  op: &quot;Const&quot;\\n  attr {\\n    key: &quot;_class&quot;\\n    value {\\n      list {\\n        s: &quot;loc:@unshared_simple_module/linear_1/b&quot;\\n      }\\n    }\\n  }\\n  attr {\\n    key: &quot;dtype&quot;\\n    value {\\n      type: DT_DOUBLE\\n    }\\n  }\\n  attr {\\n    key: &quot;value&quot;\\n    value {\\n      tensor {\\n        dtype: DT_DOUBLE\\n        tensor_shape {\\n          dim {\\n            size: 1\\n          }\\n        }\\n        double_val: 0.0\\n      }\\n    }\\n  }\\n}\\nnode {\\n  name: &quot;unshared_simple_module/linear_1/b&quot;\\n  op: &quot;VariableV2&quot;\\n  attr {\\n    key: &quot;_class&quot;\\n    value {\\n      list {\\n        s: &quot;loc:@unshared_simple_module/linear_1/b&quot;\\n      }\\n    }\\n  }\\n  attr {\\n    key: &quot;container&quot;\\n    value {\\n      s: &quot;&quot;\\n    }\\n  }\\n  attr {\\n    key: &quot;dtype&quot;\\n    value {\\n      type: DT_DOUBLE\\n    }\\n  }\\n  attr {\\n    key: &quot;shape&quot;\\n    value {\\n      shape {\\n        dim {\\n          size: 1\\n        }\\n      }\\n    }\\n  }\\n  attr {\\n    key: &quot;shared_name&quot;\\n    value {\\n      s: &quot;&quot;\\n    }\\n  }\\n}\\nnode {\\n  name: &quot;unshared_simple_module/linear_1/b/Assign&quot;\\n  op: &quot;Assign&quot;\\n  input: &quot;unshared_simple_module/linear_1/b&quot;\\n  input: &quot;unshared_simple_module/linear_1/b/Initializer/zeros&quot;\\n  attr {\\n    key: &quot;T&quot;\\n    value {\\n      type: DT_DOUBLE\\n    }\\n  }\\n  attr {\\n    key: &quot;_class&quot;\\n    value {\\n      list {\\n        s: &quot;loc:@unshared_simple_module/linear_1/b&quot;\\n      }\\n    }\\n  }\\n  attr {\\n    key: &quot;use_locking&quot;\\n    value {\\n      b: true\\n    }\\n  }\\n  attr {\\n    key: &quot;validate_shape&quot;\\n    value {\\n      b: true\\n    }\\n  }\\n}\\nnode {\\n  name: &quot;unshared_simple_module/linear_1/b/read&quot;\\n  op: &quot;Identity&quot;\\n  input: &quot;unshared_simple_module/linear_1/b&quot;\\n  attr {\\n    key: &quot;T&quot;\\n    value {\\n      type: DT_DOUBLE\\n    }\\n  }\\n  attr {\\n    key: &quot;_class&quot;\\n    value {\\n      list {\\n        s: &quot;loc:@unshared_simple_module/linear_1/b&quot;\\n      }\\n    }\\n  }\\n}\\nnode {\\n  name: &quot;unshared_simple_module/linear_1/add&quot;\\n  op: &quot;Add&quot;\\n  input: &quot;unshared_simple_module/linear_1/MatMul&quot;\\n  input: &quot;unshared_simple_module/linear_1/b/read&quot;\\n  attr {\\n    key: &quot;T&quot;\\n    value {\\n      type: DT_DOUBLE\\n    }\\n  }\\n}\\nnode {\\n  name: &quot;unshared_simple_module/Squeeze&quot;\\n  op: &quot;Squeeze&quot;\\n  input: &quot;unshared_simple_module/linear_1/add&quot;\\n  attr {\\n    key: &quot;T&quot;\\n    value {\\n      type: DT_DOUBLE\\n    }\\n  }\\n  attr {\\n    key: &quot;squeeze_dims&quot;\\n    value {\\n      list {\\n        i: -1\\n      }\\n    }\\n  }\\n}\\n';\n",
              "          }\n",
              "        </script>\n",
              "        <link rel=&quot;import&quot; href=&quot;https://tensorboard.appspot.com/tf-graph-basic.build.html&quot; onload=load()>\n",
              "        <div style=&quot;height:600px&quot;>\n",
              "          <tf-graph-basic id=&quot;graph0.584971813463&quot;></tf-graph-basic>\n",
              "        </div>\n",
              "    \"></iframe>\n",
              "    "
            ]
          },
          "metadata": {
            "tags": []
          }
        }
      ]
    },
    {
      "metadata": {
        "id": "lAdu7dhvRDxb",
        "colab_type": "text"
      },
      "cell_type": "markdown",
      "source": [
        "The fact that `train_outputs` and `test_outputs` use shared variables means that training based on `train_outputs` will improve the quality of `test_ouputs` as well. We show this next.\n",
        "\n",
        "We base the training script here based on our previous one. Some modifications are required:\n",
        "\n",
        "* The references to the dataset must be updated. We do not use `feed_dicts`, but we must take care to run `test_outputs` or `train_outputs`.\n",
        "* In order to get the true (test) labels, we need to run the `test_labels` tensor.\n",
        "* We need to iterate over the full test dataset.\n",
        "\n",
        "Another change is that now each training step uses a different batch of data, while our earlier version used the full (smaller) dataset.\n"
      ]
    },
    {
      "metadata": {
        "id": "P4qhLEYPJc4r",
        "colab_type": "code",
        "colab": {
          "autoexec": {
            "startup": false,
            "wait_interval": 0
          }
        }
      },
      "cell_type": "code",
      "source": [
        "# CHANGED HERE:\n",
        "loss = tf.reduce_mean(tf.squared_difference(train_labels, train_ouputs))\n",
        "\n",
        "# Optimizer and initializer.\n",
        "optimizer = tf.train.GradientDescentOptimizer(learning_rate=0.03)\n",
        "train_op = optimizer.minimize(loss)\n",
        "init_op = tf.global_variables_initializer()"
      ],
      "execution_count": 0,
      "outputs": []
    },
    {
      "metadata": {
        "id": "AjmiYrqOq1W1",
        "colab_type": "code",
        "colab": {
          "autoexec": {
            "startup": false,
            "wait_interval": 0
          },
          "base_uri": "https://localhost:8080/",
          "height": 408
        },
        "outputId": "f6f5077a-75b5-407a-a598-42e816bab9eb",
        "executionInfo": {
          "status": "ok",
          "timestamp": 1530760278192,
          "user_tz": -60,
          "elapsed": 12637,
          "user": {
            "displayName": "David Szepesvari",
            "photoUrl": "//lh3.googleusercontent.com/-b59pEhK2Mu4/AAAAAAAAAAI/AAAAAAAABYk/II49sX2Iiac/s50-c-k-no/photo.jpg",
            "userId": "112028855906936668175"
          }
        }
      },
      "cell_type": "code",
      "source": [
        "TRAINING_STEPS = int(2e4)\n",
        "RECORD_PERIOD = int(1e3)\n",
        "\n",
        "def _num_correct(predictions_np, true_labels_np):\n",
        "  # Actual label predictions given as {-1, +1}.\n",
        "  predictions_np[predictions_np <= 0] = -1\n",
        "  predictions_np[predictions_np > 0] = 1\n",
        "  # Count correct predictions.\n",
        "  return np.count_nonzero(np.isclose(predictions_np, true_labels_np))\n",
        "\n",
        "  \n",
        "print('Losses:')\n",
        "with tf.Session() as session:\n",
        "  session.run(init_op)  # Initializes the weights in the network.\n",
        "\n",
        "  for i in range(TRAINING_STEPS):\n",
        "    _, loss_np = session.run([train_op, loss])  # CHANGED HERE.\n",
        "    if (i % RECORD_PERIOD) == 0:\n",
        "      print(' ', loss_np)\n",
        "  \n",
        "  print()\n",
        "  # The model is ready to be evaluated. Fetch the predicted outputs.\n",
        "  num_correct = 0\n",
        "  num_elements = 0\n",
        "  while True:\n",
        "    try:\n",
        "      # CHANGES HERE.\n",
        "      predictions_np, true_labels_np = session.run([test_outputs, test_labels])\n",
        "      num_elements += predictions_np.shape[0]\n",
        "      num_correct += _num_correct(predictions_np, true_labels_np)\n",
        "    except tf.errors.OutOfRangeError:\n",
        "      break\n",
        "  print('The prediction error on the test set:',\n",
        "        (num_elements - num_correct) / num_elements)\n",
        "  "
      ],
      "execution_count": 73,
      "outputs": [
        {
          "output_type": "stream",
          "text": [
            "Losses:\n",
            "  1.3986884177077747\n",
            "  0.4326611138511824\n",
            "  0.2828058243614328\n",
            "  0.3472407550569249\n",
            "  0.296408462213669\n",
            "  0.34651190909712765\n",
            "  0.25230248524143656\n",
            "  0.2426690335257935\n",
            "  0.27782440453413554\n",
            "  0.22804193950224466\n",
            "  0.3250745437376843\n",
            "  0.2981486152126173\n",
            "  0.315834463244698\n",
            "  0.29562594029036543\n",
            "  0.2878962041309098\n",
            "  0.2605716841628598\n",
            "  0.290603465799457\n",
            "  0.29564381115050986\n",
            "  0.24437823920972734\n",
            "  0.33288007533455916\n",
            "\n",
            "The prediction error on the test set: 0.07\n"
          ],
          "name": "stdout"
        }
      ]
    },
    {
      "metadata": {
        "id": "PorU6KbWWxg0",
        "colab_type": "text"
      },
      "cell_type": "markdown",
      "source": [
        "We will see another convenient feature of Sonnet when working with generative models in the VAE and GAN lab."
      ]
    },
    {
      "metadata": {
        "id": "0jXX5yAJrIil",
        "colab_type": "text"
      },
      "cell_type": "markdown",
      "source": [
        "## Debugging Tensorflow\n",
        "\n",
        "Debugging tensorflow code and models can be challenging when compared to debugging 1) simple python code or even 2) other machine learning code. This is due to the separate building and running phases of tensorflow:\n",
        "\n",
        "* You cannot simply just stop the computation midway in a `run()` call and inspect what is going on.*\n",
        "* If an error is only revealed in a `session.run()` call, Tensorflow usually cannot point you to the python code that generated the offending operation.\n",
        "* Race conditions may occur. These can be hard to detect because the race condition may only occur very very infrequently.\n",
        "\n",
        "In this section we list some practical advice to debugging tensorflow.\n",
        "\n",
        "<small>*&ast;There is a [tensorflow debugger](https://www.tensorflow.org/programmers_guide/debugger) that tries to address this problem.*</small>\n",
        "\n"
      ]
    },
    {
      "metadata": {
        "id": "_CiUuqj3rH5I",
        "colab_type": "text"
      },
      "cell_type": "markdown",
      "source": [
        "* **Check your shapes**. It is possible that something is not of the shape you expect, but due to broadcasting the graph still computes something -- but not what you want.\n",
        "* **Check the graph with tensorboard**. Does it do what you wanted it to?\n",
        "* **Print and/or assert values of tensors**. While you cannot stop your graph mid-computation, you can print the values going through them. Unfortunately this [does not currently work](https://www.tensorflow.org/api_docs/python/tf/Print) in notebooks."
      ]
    },
    {
      "metadata": {
        "id": "NTvYunx7-J7u",
        "colab_type": "text"
      },
      "cell_type": "markdown",
      "source": [
        "## Not covered: Control Flow\n",
        "\n",
        "In tensorflow you can define logical operations such as conditionals, loops, etc. In fact, Tensorflow is Turing-complete. We do not cover them as these operations are not usually required for training neural nets, and it is better to avoid them unless really needed due their added compexity.\n"
      ]
    },
    {
      "metadata": {
        "id": "1pNx0PCN7o0M",
        "colab_type": "code",
        "colab": {
          "autoexec": {
            "startup": false,
            "wait_interval": 0
          }
        }
      },
      "cell_type": "code",
      "source": [
        ""
      ],
      "execution_count": 0,
      "outputs": []
    }
  ]
}