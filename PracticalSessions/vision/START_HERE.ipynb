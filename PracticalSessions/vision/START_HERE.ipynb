{
  "nbformat": 4,
  "nbformat_minor": 0,
  "metadata": {
    "colab": {
      "name": "START_HERE.ipynb",
      "version": "0.3.2",
      "views": {},
      "default_view": {},
      "provenance": [
        {
          "file_id": "/v2/external/notebooks/welcome.ipynb",
          "timestamp": 1529240593757
        }
      ],
      "collapsed_sections": []
    },
    "kernelspec": {
      "name": "python2",
      "display_name": "Python 2"
    },
    "accelerator": "GPU"
  },
  "cells": [
    {
      "metadata": {
        "id": "9J7p406abzgl",
        "colab_type": "text"
      },
      "cell_type": "markdown",
      "source": [
        "# TMLSS2018: ConvNets and Computer Vision Tutorial\n",
        "\n",
        "## Focus of the tutorial: Study on the efficiency and robustness of convolutional neural networks for image classification\n",
        "\n",
        "### Part I (baseline.ipynb): Training a baseline convnet classifier\n",
        "- build a simple classifier given a specific architecture structure\n",
        "- get dataset, apply data augmentation (cropping, flipping)\n",
        "- train classifier\n",
        "- check number of parameters\n",
        "\n",
        "### Part II (visualisation.ipynb): Visualize saliency maps\n",
        "- visualize the gradients of class probabilities w.r.t inputs for saliency maps\n",
        "- visualize inputs that maximize class probabilities, to see the most doggy doggos\n",
        "\n",
        "### Part III (distillation.ipynb): [Distilling the knowledge](https://arxiv.org/pdf/1503.02531.pdf) from a (larger) teacher model\n",
        "- import an already trained baseline model\n",
        "- add KL distillation loss between teacher and student\n",
        "- train Mobilenet classifier with this joint loss\n",
        "\n",
        "\n",
        "### Part IV (mobilenet.ipynb):  [Mobilenet](https://arxiv.org/pdf/1704.04861.pdf) separable convolutions\n",
        "- modify the baseline model to use separable convolutions\n",
        "- train classifier the classifier\n",
        "- check number of parameters and compare with above\n",
        "\n",
        "\n",
        "### Part V (Optional): Test robusness of models using simple geometric transformations\n",
        "\n",
        "- Several recent papers have shown that convnets are not robust to simple geometric transformations, e.g. [paper1](https://arxiv.org/pdf/1805.12177.pdf), [paper2](https://arxiv.org/pdf/1711.09115.pdf)\n",
        "\n",
        "- Test the robustness of the pre-trained models above by sliding crops over the Cifar test set\n",
        "- Plot predictions per class per crop"
      ]
    },
    {
      "metadata": {
        "id": "YYveTZmFo3sB",
        "colab_type": "code",
        "colab": {
          "autoexec": {
            "startup": false,
            "wait_interval": 0
          }
        }
      },
      "cell_type": "code",
      "source": [
        ""
      ],
      "execution_count": 0,
      "outputs": []
    }
  ]
}